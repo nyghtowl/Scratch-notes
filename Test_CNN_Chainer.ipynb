{
 "cells": [
  {
   "cell_type": "code",
   "execution_count": 1,
   "metadata": {
    "collapsed": false
   },
   "outputs": [],
   "source": [
    "import numpy as np\n",
    "import gzip\n",
    "import cPickle"
   ]
  },
  {
   "cell_type": "code",
   "execution_count": 2,
   "metadata": {
    "collapsed": true
   },
   "outputs": [],
   "source": [
    "import six"
   ]
  },
  {
   "cell_type": "code",
   "execution_count": 3,
   "metadata": {
    "collapsed": true
   },
   "outputs": [],
   "source": [
    "DATA_FILENAME = '/Users/merlin/Documents/Neural_Net_Newbies/data/mnist.pkl.gz'"
   ]
  },
  {
   "cell_type": "markdown",
   "metadata": {},
   "source": [
    "### im2col"
   ]
  },
  {
   "cell_type": "code",
   "execution_count": 4,
   "metadata": {
    "collapsed": false
   },
   "outputs": [],
   "source": [
    "f = gzip.open(DATA_FILENAME,'rb')\n",
    "train_set, valid_set, test_set = cPickle.load(f)\n",
    "f.close()"
   ]
  },
  {
   "cell_type": "code",
   "execution_count": 5,
   "metadata": {
    "collapsed": false
   },
   "outputs": [],
   "source": [
    "train_set_x, train_set_y = train_set"
   ]
  },
  {
   "cell_type": "code",
   "execution_count": 89,
   "metadata": {
    "collapsed": false
   },
   "outputs": [],
   "source": [
    "oneEx = train_set_x[0]"
   ]
  },
  {
   "cell_type": "code",
   "execution_count": 92,
   "metadata": {
    "collapsed": false
   },
   "outputs": [],
   "source": [
    "img = oneEx.reshape(1,1,28,28)"
   ]
  },
  {
   "cell_type": "code",
   "execution_count": 93,
   "metadata": {
    "collapsed": true
   },
   "outputs": [],
   "source": [
    "label = train_set_y[0]"
   ]
  },
  {
   "cell_type": "code",
   "execution_count": 94,
   "metadata": {
    "collapsed": false
   },
   "outputs": [],
   "source": [
    "n, c, h, w = img.shape\n",
    "# num examples, channels in, height, width"
   ]
  },
  {
   "cell_type": "code",
   "execution_count": 95,
   "metadata": {
    "collapsed": false
   },
   "outputs": [],
   "source": [
    "ph = 1\n",
    "pw = 1\n",
    "sy = 3\n",
    "sx = 3\n",
    "pval = False"
   ]
  },
  {
   "cell_type": "code",
   "execution_count": 96,
   "metadata": {
    "collapsed": false
   },
   "outputs": [],
   "source": [
    "img = np.pad(img,((0, 0), (0, 0), (ph, ph + sy - 1), (pw, pw + sx - 1)),\n",
    "mode='constant', constant_values=(pval,))"
   ]
  },
  {
   "cell_type": "code",
   "execution_count": 97,
   "metadata": {
    "collapsed": false
   },
   "outputs": [
    {
     "data": {
      "text/plain": [
       "(1, 1, 32, 32)"
      ]
     },
     "execution_count": 97,
     "metadata": {},
     "output_type": "execute_result"
    }
   ],
   "source": [
    "img.shape"
   ]
  },
  {
   "cell_type": "code",
   "execution_count": 98,
   "metadata": {
    "collapsed": true
   },
   "outputs": [],
   "source": [
    "kh=9\n",
    "kw=9"
   ]
  },
  {
   "cell_type": "code",
   "execution_count": 99,
   "metadata": {
    "collapsed": true
   },
   "outputs": [],
   "source": [
    "out_h = (h-kh+ph*2)/sy + 1"
   ]
  },
  {
   "cell_type": "code",
   "execution_count": 100,
   "metadata": {
    "collapsed": false
   },
   "outputs": [
    {
     "data": {
      "text/plain": [
       "8"
      ]
     },
     "execution_count": 100,
     "metadata": {},
     "output_type": "execute_result"
    }
   ],
   "source": [
    "out_h"
   ]
  },
  {
   "cell_type": "code",
   "execution_count": 101,
   "metadata": {
    "collapsed": true
   },
   "outputs": [],
   "source": [
    "out_w=out_h"
   ]
  },
  {
   "cell_type": "code",
   "execution_count": 102,
   "metadata": {
    "collapsed": false
   },
   "outputs": [],
   "source": [
    "col = np.ndarray((n,c,kh,kw,out_h,out_w), dtype=img.dtype)"
   ]
  },
  {
   "cell_type": "code",
   "execution_count": 103,
   "metadata": {
    "collapsed": false
   },
   "outputs": [
    {
     "data": {
      "text/plain": [
       "(1, 1, 9, 9, 8, 8)"
      ]
     },
     "execution_count": 103,
     "metadata": {},
     "output_type": "execute_result"
    }
   ],
   "source": [
    "col.shape"
   ]
  },
  {
   "cell_type": "code",
   "execution_count": 104,
   "metadata": {
    "collapsed": false
   },
   "outputs": [],
   "source": [
    "for i in six.moves.range(kh): \n",
    "    i_lim = i + sy * out_h\n",
    "    for j in six.moves.range(kw):\n",
    "        j_lim = j + sx * out_w\n",
    "        get = img[:, :, i:i_lim:sy, j:j_lim:sx]\n",
    "        col_assign = col[:, :, i, j, :, :]\n",
    "        col[:, :, i, j, :, :] = get"
   ]
  },
  {
   "cell_type": "code",
   "execution_count": 105,
   "metadata": {
    "collapsed": false
   },
   "outputs": [
    {
     "data": {
      "text/plain": [
       "(1, 1, 8, 8)"
      ]
     },
     "execution_count": 105,
     "metadata": {},
     "output_type": "execute_result"
    }
   ],
   "source": [
    "col_assign.shape"
   ]
  },
  {
   "cell_type": "code",
   "execution_count": 106,
   "metadata": {
    "collapsed": false
   },
   "outputs": [
    {
     "name": "stdout",
     "output_type": "stream",
     "text": [
      "32 32\n"
     ]
    }
   ],
   "source": [
    "print i_lim, j_lim"
   ]
  },
  {
   "cell_type": "code",
   "execution_count": 107,
   "metadata": {
    "collapsed": false
   },
   "outputs": [
    {
     "data": {
      "text/plain": [
       "(1, 1, 8, 8)"
      ]
     },
     "execution_count": 107,
     "metadata": {},
     "output_type": "execute_result"
    }
   ],
   "source": [
    "get.shape"
   ]
  },
  {
   "cell_type": "code",
   "execution_count": 108,
   "metadata": {
    "collapsed": false
   },
   "outputs": [
    {
     "data": {
      "text/plain": [
       "(1, 1, 9, 9, 8, 8)"
      ]
     },
     "execution_count": 108,
     "metadata": {},
     "output_type": "execute_result"
    }
   ],
   "source": [
    "col.shape"
   ]
  },
  {
   "cell_type": "code",
   "execution_count": 109,
   "metadata": {
    "collapsed": false
   },
   "outputs": [],
   "source": [
    "weights = np.random.rand(20,1,9,9)"
   ]
  },
  {
   "cell_type": "code",
   "execution_count": 110,
   "metadata": {
    "collapsed": false
   },
   "outputs": [
    {
     "data": {
      "text/plain": [
       "(20, 1, 9, 9)"
      ]
     },
     "execution_count": 110,
     "metadata": {},
     "output_type": "execute_result"
    }
   ],
   "source": [
    "weights.shape"
   ]
  },
  {
   "cell_type": "code",
   "execution_count": 111,
   "metadata": {
    "collapsed": false
   },
   "outputs": [],
   "source": [
    "result = np.tensordot(col, weights, ([1, 2, 3], [1, 2, 3]))"
   ]
  },
  {
   "cell_type": "code",
   "execution_count": 112,
   "metadata": {
    "collapsed": false
   },
   "outputs": [
    {
     "data": {
      "text/plain": [
       "(1, 8, 8, 20)"
      ]
     },
     "execution_count": 112,
     "metadata": {},
     "output_type": "execute_result"
    }
   ],
   "source": [
    "result.shape"
   ]
  },
  {
   "cell_type": "code",
   "execution_count": 113,
   "metadata": {
    "collapsed": false
   },
   "outputs": [
    {
     "data": {
      "text/plain": [
       "(1, 1, 9, 9, 8, 8)"
      ]
     },
     "execution_count": 113,
     "metadata": {},
     "output_type": "execute_result"
    }
   ],
   "source": [
    "col.shape"
   ]
  },
  {
   "cell_type": "code",
   "execution_count": 114,
   "metadata": {
    "collapsed": true
   },
   "outputs": [],
   "source": [
    "bias = np.random.rand(20,)"
   ]
  },
  {
   "cell_type": "code",
   "execution_count": 115,
   "metadata": {
    "collapsed": false
   },
   "outputs": [
    {
     "data": {
      "text/plain": [
       "(20,)"
      ]
     },
     "execution_count": 115,
     "metadata": {},
     "output_type": "execute_result"
    }
   ],
   "source": [
    "bias.shape"
   ]
  },
  {
   "cell_type": "code",
   "execution_count": 116,
   "metadata": {
    "collapsed": true
   },
   "outputs": [],
   "source": [
    "result += bias"
   ]
  },
  {
   "cell_type": "code",
   "execution_count": 117,
   "metadata": {
    "collapsed": false
   },
   "outputs": [
    {
     "data": {
      "text/plain": [
       "(1, 8, 8, 20)"
      ]
     },
     "execution_count": 117,
     "metadata": {},
     "output_type": "execute_result"
    }
   ],
   "source": [
    "result.shape"
   ]
  },
  {
   "cell_type": "code",
   "execution_count": 118,
   "metadata": {
    "collapsed": true
   },
   "outputs": [],
   "source": [
    "featureMapWidth = (w-kw+pw*2)/sx + 1\n",
    "featureMapHeight = (h-kh+ph*2)/sy + 1 "
   ]
  },
  {
   "cell_type": "code",
   "execution_count": 119,
   "metadata": {
    "collapsed": false
   },
   "outputs": [
    {
     "data": {
      "text/plain": [
       "8"
      ]
     },
     "execution_count": 119,
     "metadata": {},
     "output_type": "execute_result"
    }
   ],
   "source": [
    "featureMapHeight"
   ]
  },
  {
   "cell_type": "markdown",
   "metadata": {},
   "source": [
    "### Checking activations & backprop - CNN"
   ]
  },
  {
   "cell_type": "code",
   "execution_count": 160,
   "metadata": {
    "collapsed": false
   },
   "outputs": [],
   "source": [
    "np.set_printoptions(threshold=np.nan)"
   ]
  },
  {
   "cell_type": "code",
   "execution_count": 248,
   "metadata": {
    "collapsed": false
   },
   "outputs": [],
   "source": [
    "new_val = np.array([[[[1,1,1,1,1,1,1,1],[2,2,2,2,2,2,2,2],[3,3,3,3,3,3,3,3],[4,4,4,4,4,4,4,4],[1,1,1,1,1,1,1,1],[2,2,2,2,2,2,2,2],[3,3,3,3,3,3,3,3],[4,4,4,4,4,4,4,4]]]])"
   ]
  },
  {
   "cell_type": "code",
   "execution_count": 276,
   "metadata": {
    "collapsed": false
   },
   "outputs": [
    {
     "data": {
      "text/plain": [
       "array([1, 1, 1, 1, 1, 1, 1, 1, 2, 2, 2, 2, 2, 2, 2, 2, 3, 3, 3, 3, 3, 3, 3,\n",
       "       3, 4, 4, 4, 4, 4, 4, 4, 4, 1, 1, 1, 1, 1, 1, 1, 1, 2, 2, 2, 2, 2, 2,\n",
       "       2, 2, 3, 3, 3, 3, 3, 3, 3, 3, 4, 4, 4, 4, 4, 4, 4, 4])"
      ]
     },
     "execution_count": 276,
     "metadata": {},
     "output_type": "execute_result"
    }
   ],
   "source": [
    "new_val.ravel()"
   ]
  },
  {
   "cell_type": "code",
   "execution_count": 224,
   "metadata": {
    "collapsed": true
   },
   "outputs": [],
   "source": [
    "# can't see rollign if use smaller version\n",
    "#new_val = np.array([[[[1,1,1,1],[2,2,2,2],[3,3,3,3],[4,4,4,4]]]])"
   ]
  },
  {
   "cell_type": "code",
   "execution_count": 249,
   "metadata": {
    "collapsed": false
   },
   "outputs": [
    {
     "data": {
      "text/plain": [
       "(1, 1, 8, 8)"
      ]
     },
     "execution_count": 249,
     "metadata": {},
     "output_type": "execute_result"
    }
   ],
   "source": [
    "new_val.shape"
   ]
  },
  {
   "cell_type": "code",
   "execution_count": 250,
   "metadata": {
    "collapsed": true
   },
   "outputs": [],
   "source": [
    "n, c, h, w = new_val.shape\n",
    "kh=2\n",
    "kw=2\n",
    "ph = 0\n",
    "pw = 0\n",
    "sy = 2\n",
    "sx = 2\n",
    "depth = 2"
   ]
  },
  {
   "cell_type": "code",
   "execution_count": 251,
   "metadata": {
    "collapsed": true
   },
   "outputs": [],
   "source": [
    "def im2col(img, kh, kw, sy, sx, ph, pw, pval=0, cover_all=False):\n",
    "    n, c, h, w = img.shape\n",
    "    featureMapWidth = (w-kw+pw*2)/sx + 1\n",
    "    featureMapHeight = (h-kh+ph*2)/sy + 1 \n",
    "\n",
    "    img = np.pad(img, ((0, 0), (0, 0), (ph, ph + sy - 1), (pw, pw + sx - 1)),\n",
    "                    mode='constant', constant_values=(pval,))\n",
    "    col = np.ndarray((n, c, kh, kw, featureMapHeight, featureMapWidth), dtype=img.dtype)\n",
    "\n",
    "    for i in six.moves.range(kh):\n",
    "        i_lim = i + sy * featureMapHeight\n",
    "        for j in six.moves.range(kw):\n",
    "            j_lim = j + sx * featureMapWidth\n",
    "            col[:, :, i, j, :, :] = img[:, :, i:i_lim:sy, j:j_lim:sx]\n",
    "    return col\n",
    "\n",
    "def col2im(col, sy, sx, ph, pw, h, w):\n",
    "    n, c, kh, kw, out_h, out_w = col.shape\n",
    "\n",
    "    img = np.zeros((n, c, h + 2 * ph + sy - 1, w + 2 * pw + sx - 1), dtype=col.dtype)\n",
    "    for i in six.moves.range(kh):\n",
    "        i_lim = i + sy * out_h\n",
    "        for j in six.moves.range(kw):\n",
    "            j_lim = j + sx * out_w\n",
    "            img[:, :, i:i_lim:sy, j:j_lim:sx] += col[:, :, i, j, :, :]\n",
    "\n",
    "    return img[:, :, ph:h + ph, pw:w + pw]"
   ]
  },
  {
   "cell_type": "code",
   "execution_count": 252,
   "metadata": {
    "collapsed": false
   },
   "outputs": [],
   "source": [
    "# W = np.random.rand(depth, c, kh, kw)\n",
    "# b = np.random.rand(depth,)\n",
    "\n",
    "W = np.array([[[[ 0.5,  0.5 ], [ 0.5,  0.5]]], [[[ 0.5,  0.5], [ 0.5,  0.5]]]])\n",
    "b = np.array([ 1,  1])"
   ]
  },
  {
   "cell_type": "code",
   "execution_count": 274,
   "metadata": {
    "collapsed": false
   },
   "outputs": [
    {
     "data": {
      "text/plain": [
       "(2, 1, 2, 2)"
      ]
     },
     "execution_count": 274,
     "metadata": {},
     "output_type": "execute_result"
    }
   ],
   "source": [
    "W.shape"
   ]
  },
  {
   "cell_type": "code",
   "execution_count": 254,
   "metadata": {
    "collapsed": true
   },
   "outputs": [],
   "source": [
    "featureMapWidth = (w-kw+pw*2)/sx + 1\n",
    "featureMapHeight = (h-kh+ph*2)/sy + 1 "
   ]
  },
  {
   "cell_type": "code",
   "execution_count": 255,
   "metadata": {
    "collapsed": false
   },
   "outputs": [],
   "source": [
    "padded = np.pad(new_val , ((0, 0), (0, 0), (ph, ph + sy - 1), (pw, pw + sx - 1)),\n",
    "                    mode='constant', constant_values=(pval,))"
   ]
  },
  {
   "cell_type": "code",
   "execution_count": 256,
   "metadata": {
    "collapsed": false
   },
   "outputs": [
    {
     "data": {
      "text/plain": [
       "(1, 1, 9, 9)"
      ]
     },
     "execution_count": 256,
     "metadata": {},
     "output_type": "execute_result"
    }
   ],
   "source": [
    "padded.shape"
   ]
  },
  {
   "cell_type": "code",
   "execution_count": 257,
   "metadata": {
    "collapsed": false
   },
   "outputs": [
    {
     "data": {
      "text/plain": [
       "array([[[[1, 1, 1, 1, 1, 1, 1, 1, 0],\n",
       "         [2, 2, 2, 2, 2, 2, 2, 2, 0],\n",
       "         [3, 3, 3, 3, 3, 3, 3, 3, 0],\n",
       "         [4, 4, 4, 4, 4, 4, 4, 4, 0],\n",
       "         [1, 1, 1, 1, 1, 1, 1, 1, 0],\n",
       "         [2, 2, 2, 2, 2, 2, 2, 2, 0],\n",
       "         [3, 3, 3, 3, 3, 3, 3, 3, 0],\n",
       "         [4, 4, 4, 4, 4, 4, 4, 4, 0],\n",
       "         [0, 0, 0, 0, 0, 0, 0, 0, 0]]]])"
      ]
     },
     "execution_count": 257,
     "metadata": {},
     "output_type": "execute_result"
    }
   ],
   "source": [
    "padded"
   ]
  },
  {
   "cell_type": "code",
   "execution_count": 258,
   "metadata": {
    "collapsed": true
   },
   "outputs": [],
   "source": [
    "col = np.ndarray((n, c, kh, kw, featureMapHeight, featureMapWidth), dtype=img.dtype)"
   ]
  },
  {
   "cell_type": "code",
   "execution_count": 259,
   "metadata": {
    "collapsed": false
   },
   "outputs": [
    {
     "data": {
      "text/plain": [
       "(1, 1, 2, 2, 4, 4)"
      ]
     },
     "execution_count": 259,
     "metadata": {},
     "output_type": "execute_result"
    }
   ],
   "source": [
    "col.shape"
   ]
  },
  {
   "cell_type": "code",
   "execution_count": 260,
   "metadata": {
    "collapsed": true
   },
   "outputs": [],
   "source": [
    "for i in six.moves.range(kh):\n",
    "    i_lim = i + sy * featureMapHeight\n",
    "    for j in six.moves.range(kw):\n",
    "        j_lim = j + sx * featureMapWidth\n",
    "        col[:, :, i, j, :, :] = img[:, :, i:i_lim:sy, j:j_lim:sx]"
   ]
  },
  {
   "cell_type": "code",
   "execution_count": 261,
   "metadata": {
    "collapsed": false
   },
   "outputs": [
    {
     "data": {
      "text/plain": [
       "array([[[[[[ 0.,  0.,  0.,  0.],\n",
       "           [ 0.,  0.,  0.,  0.],\n",
       "           [ 0.,  0.,  0.,  0.],\n",
       "           [ 0.,  0.,  0.,  0.]],\n",
       "\n",
       "          [[ 0.,  0.,  0.,  0.],\n",
       "           [ 0.,  0.,  0.,  0.],\n",
       "           [ 0.,  0.,  0.,  0.],\n",
       "           [ 0.,  0.,  0.,  0.]]],\n",
       "\n",
       "\n",
       "         [[[ 0.,  0.,  0.,  0.],\n",
       "           [ 0.,  0.,  0.,  0.],\n",
       "           [ 0.,  0.,  0.,  0.],\n",
       "           [ 0.,  0.,  0.,  0.]],\n",
       "\n",
       "          [[ 0.,  0.,  0.,  0.],\n",
       "           [ 0.,  0.,  0.,  0.],\n",
       "           [ 0.,  0.,  0.,  0.],\n",
       "           [ 0.,  0.,  0.,  0.]]]]]], dtype=float32)"
      ]
     },
     "execution_count": 261,
     "metadata": {},
     "output_type": "execute_result"
    }
   ],
   "source": [
    "col "
   ]
  },
  {
   "cell_type": "code",
   "execution_count": 262,
   "metadata": {
    "collapsed": true
   },
   "outputs": [],
   "source": [
    "col = im2col(new_val, kh, kw, sy, sx, ph, pw)"
   ]
  },
  {
   "cell_type": "code",
   "execution_count": 263,
   "metadata": {
    "collapsed": false
   },
   "outputs": [
    {
     "data": {
      "text/plain": [
       "array([[[[[[1, 1, 1, 1],\n",
       "           [3, 3, 3, 3],\n",
       "           [1, 1, 1, 1],\n",
       "           [3, 3, 3, 3]],\n",
       "\n",
       "          [[1, 1, 1, 1],\n",
       "           [3, 3, 3, 3],\n",
       "           [1, 1, 1, 1],\n",
       "           [3, 3, 3, 3]]],\n",
       "\n",
       "\n",
       "         [[[2, 2, 2, 2],\n",
       "           [4, 4, 4, 4],\n",
       "           [2, 2, 2, 2],\n",
       "           [4, 4, 4, 4]],\n",
       "\n",
       "          [[2, 2, 2, 2],\n",
       "           [4, 4, 4, 4],\n",
       "           [2, 2, 2, 2],\n",
       "           [4, 4, 4, 4]]]]]])"
      ]
     },
     "execution_count": 263,
     "metadata": {},
     "output_type": "execute_result"
    }
   ],
   "source": [
    "col #convolved"
   ]
  },
  {
   "cell_type": "code",
   "execution_count": 367,
   "metadata": {
    "collapsed": false
   },
   "outputs": [
    {
     "data": {
      "text/plain": [
       "(1, 1, 2, 2, 4, 4)"
      ]
     },
     "execution_count": 367,
     "metadata": {},
     "output_type": "execute_result"
    }
   ],
   "source": [
    "col.shape"
   ]
  },
  {
   "cell_type": "code",
   "execution_count": 264,
   "metadata": {
    "collapsed": true
   },
   "outputs": [],
   "source": [
    "y = np.tensordot(col, W, ([1, 2, 3], [1, 2, 3]))"
   ]
  },
  {
   "cell_type": "code",
   "execution_count": 338,
   "metadata": {
    "collapsed": false
   },
   "outputs": [
    {
     "data": {
      "text/plain": [
       "(2, 1, 2, 2)"
      ]
     },
     "execution_count": 338,
     "metadata": {},
     "output_type": "execute_result"
    }
   ],
   "source": [
    "W.shape"
   ]
  },
  {
   "cell_type": "code",
   "execution_count": 302,
   "metadata": {
    "collapsed": false
   },
   "outputs": [
    {
     "data": {
      "text/plain": [
       "(1, 4, 4, 2)"
      ]
     },
     "execution_count": 302,
     "metadata": {},
     "output_type": "execute_result"
    }
   ],
   "source": [
    "y.shape"
   ]
  },
  {
   "cell_type": "code",
   "execution_count": 266,
   "metadata": {
    "collapsed": true
   },
   "outputs": [],
   "source": [
    "if b is not None: new_y = y+ b"
   ]
  },
  {
   "cell_type": "code",
   "execution_count": 283,
   "metadata": {
    "collapsed": false
   },
   "outputs": [
    {
     "data": {
      "text/plain": [
       "array([ 4.,  4.,  4.,  4.,  4.,  4.,  4.,  4.,  8.,  8.,  8.,  8.,  8.,\n",
       "        8.,  8.,  8.,  4.,  4.,  4.,  4.,  4.,  4.,  4.,  4.,  8.,  8.,\n",
       "        8.,  8.,  8.,  8.,  8.,  8.])"
      ]
     },
     "execution_count": 283,
     "metadata": {},
     "output_type": "execute_result"
    }
   ],
   "source": [
    "new_y.ravel()"
   ]
  },
  {
   "cell_type": "code",
   "execution_count": 268,
   "metadata": {
    "collapsed": false
   },
   "outputs": [
    {
     "data": {
      "text/plain": [
       "(1, 4, 4, 2)"
      ]
     },
     "execution_count": 268,
     "metadata": {},
     "output_type": "execute_result"
    }
   ],
   "source": [
    "new_y.shape"
   ]
  },
  {
   "cell_type": "code",
   "execution_count": 269,
   "metadata": {
    "collapsed": false
   },
   "outputs": [],
   "source": [
    "y2 = np.rollaxis(new_y, 3, 1)"
   ]
  },
  {
   "cell_type": "code",
   "execution_count": 284,
   "metadata": {
    "collapsed": false
   },
   "outputs": [
    {
     "data": {
      "text/plain": [
       "array([ 4.,  4.,  4.,  4.,  8.,  8.,  8.,  8.,  4.,  4.,  4.,  4.,  8.,\n",
       "        8.,  8.,  8.,  4.,  4.,  4.,  4.,  8.,  8.,  8.,  8.,  4.,  4.,\n",
       "        4.,  4.,  8.,  8.,  8.,  8.])"
      ]
     },
     "execution_count": 284,
     "metadata": {},
     "output_type": "execute_result"
    }
   ],
   "source": [
    "y2.ravel()"
   ]
  },
  {
   "cell_type": "code",
   "execution_count": 290,
   "metadata": {
    "collapsed": false
   },
   "outputs": [
    {
     "data": {
      "text/plain": [
       "(1, 2, 4, 4)"
      ]
     },
     "execution_count": 290,
     "metadata": {},
     "output_type": "execute_result"
    }
   ],
   "source": [
    "y2.shape"
   ]
  },
  {
   "cell_type": "code",
   "execution_count": 291,
   "metadata": {
    "collapsed": false
   },
   "outputs": [
    {
     "data": {
      "text/plain": [
       "(1, 2, 4, 4)"
      ]
     },
     "execution_count": 291,
     "metadata": {},
     "output_type": "execute_result"
    }
   ],
   "source": [
    "y2.shape"
   ]
  },
  {
   "cell_type": "code",
   "execution_count": 292,
   "metadata": {
    "collapsed": false,
    "scrolled": true
   },
   "outputs": [
    {
     "data": {
      "text/plain": [
       "array([[[[ 4.,  4.,  4.,  4.],\n",
       "         [ 8.,  8.,  8.,  8.],\n",
       "         [ 4.,  4.,  4.,  4.],\n",
       "         [ 8.,  8.,  8.,  8.]],\n",
       "\n",
       "        [[ 4.,  4.,  4.,  4.],\n",
       "         [ 8.,  8.,  8.,  8.],\n",
       "         [ 4.,  4.,  4.,  4.],\n",
       "         [ 8.,  8.,  8.,  8.]]]])"
      ]
     },
     "execution_count": 292,
     "metadata": {},
     "output_type": "execute_result"
    }
   ],
   "source": [
    "y2"
   ]
  },
  {
   "cell_type": "code",
   "execution_count": 331,
   "metadata": {
    "collapsed": true
   },
   "outputs": [],
   "source": [
    "def sigmoid(x):\n",
    "        return 1 / (1 + np.exp(-x))"
   ]
  },
  {
   "cell_type": "code",
   "execution_count": 332,
   "metadata": {
    "collapsed": false
   },
   "outputs": [],
   "source": [
    "sigmoid = np.vectorize(sigmoid)"
   ]
  },
  {
   "cell_type": "code",
   "execution_count": 333,
   "metadata": {
    "collapsed": false
   },
   "outputs": [],
   "source": [
    "r = sigmoid(y2)"
   ]
  },
  {
   "cell_type": "code",
   "execution_count": 336,
   "metadata": {
    "collapsed": false
   },
   "outputs": [
    {
     "data": {
      "text/plain": [
       "(1, 2, 4, 4)"
      ]
     },
     "execution_count": 336,
     "metadata": {},
     "output_type": "execute_result"
    }
   ],
   "source": [
    "r.shape"
   ]
  },
  {
   "cell_type": "markdown",
   "metadata": {},
   "source": [
    "#### Backprop"
   ]
  },
  {
   "cell_type": "code",
   "execution_count": 285,
   "metadata": {
    "collapsed": true
   },
   "outputs": [],
   "source": [
    "def col2im_cpu(col, sy, sx, ph, pw, h, w):\n",
    "    n, c, kh, kw, out_h, out_w = col.shape\n",
    "\n",
    "    img = np.zeros((n, c, h + 2 * ph + sy - 1, w + 2 * pw + sx - 1), dtype=col.dtype)\n",
    "    for i in six.moves.range(kh):\n",
    "        i_lim = i + sy * out_h\n",
    "        for j in six.moves.range(kw):\n",
    "            j_lim = j + sx * out_w\n",
    "            img[:, :, i:i_lim:sy, j:j_lim:sx] += col[:, :, i, j, :, :]\n",
    "\n",
    "    return img[:, :, ph:h + ph, pw:w + pw]\n",
    "\n",
    "def backward_cpu(x, gy):\n",
    "    if gb is not None:\n",
    "        gb += gy[0].sum(axis=(0, 2, 3))\n",
    "    gW += np.tensordot(gy[0], col, ([0, 2, 3], [0, 4, 5]))\n",
    "    gcol = np.tensordot(W, gy[0], (0, 1))\n",
    "    gcol = np.rollaxis(gcol, 3)\n",
    "\n",
    "    h, w = x[0].shape[2:]\n",
    "    return col2im(gcol, sy, sx, ph, pw, h, w)\n",
    "\n",
    "def backprop(epsilon):\n",
    "    if gradientBias is not None:\n",
    "        gradientBias += delta[0].sum(axis=(0, 2, 3))\n",
    "    # get z, activationDerivative, * to the epsilon for the delta\n",
    "    delta = np.rollaxis(delta, 3) ??\n",
    "\n",
    "    weight_gradient += np.tensordot(delta[0], colIn, ([0, 2, 3], [0, 4, 5]))\n",
    "    nextEpsilon = np.tensordot(W, delta[0], (0, 1))\n",
    "#     epsilon = np.rollaxis(epsilon, 3)\n",
    "    \n",
    "    \n",
    "    h, w = inP[0].shape[2:]\n",
    "    return col2im(?, sy, sx, ph, pw, h, w)"
   ]
  },
  {
   "cell_type": "code",
   "execution_count": 301,
   "metadata": {
    "collapsed": true
   },
   "outputs": [],
   "source": [
    "reverse_input = y2"
   ]
  },
  {
   "cell_type": "code",
   "execution_count": 368,
   "metadata": {
    "collapsed": false
   },
   "outputs": [],
   "source": [
    "# delta\n",
    "gy = np.array([[[[ 2, 2, 2, 2 ],[ 2, 2, 2, 2 ],[ 2, 2, 2, 2 ],[ 2, 2, 2, 2 ]], [[ 2, 2, 2, 2 ],[ 2, 2, 2, 2 ],[ 2, 2, 2, 2 ],[ 2, 2, 2, 2 ]]]])\n",
    "gb = np.array([1,1])"
   ]
  },
  {
   "cell_type": "code",
   "execution_count": 386,
   "metadata": {
    "collapsed": false
   },
   "outputs": [
    {
     "data": {
      "text/plain": [
       "(1, 2, 4, 4)"
      ]
     },
     "execution_count": 386,
     "metadata": {},
     "output_type": "execute_result"
    }
   ],
   "source": [
    "gy.shape"
   ]
  },
  {
   "cell_type": "code",
   "execution_count": 370,
   "metadata": {
    "collapsed": false
   },
   "outputs": [
    {
     "data": {
      "text/plain": [
       "array([32, 32])"
      ]
     },
     "execution_count": 370,
     "metadata": {},
     "output_type": "execute_result"
    }
   ],
   "source": [
    "gy[0].sum(axis = (1,2)) # same as gy.sum(axis = (0,2,3))"
   ]
  },
  {
   "cell_type": "code",
   "execution_count": 371,
   "metadata": {
    "collapsed": false
   },
   "outputs": [],
   "source": [
    "gb = gy[0].sum(axis = (1,2)) + gb"
   ]
  },
  {
   "cell_type": "code",
   "execution_count": 373,
   "metadata": {
    "collapsed": false
   },
   "outputs": [
    {
     "data": {
      "text/plain": [
       "array([33, 33])"
      ]
     },
     "execution_count": 373,
     "metadata": {},
     "output_type": "execute_result"
    }
   ],
   "source": [
    "gb"
   ]
  },
  {
   "cell_type": "code",
   "execution_count": 374,
   "metadata": {
    "collapsed": false
   },
   "outputs": [],
   "source": [
    "gW = np.tensordot(gy, col, ([0, 2, 3], [0, 4, 5]))"
   ]
  },
  {
   "cell_type": "code",
   "execution_count": 385,
   "metadata": {
    "collapsed": false
   },
   "outputs": [
    {
     "data": {
      "text/plain": [
       "array([[[[64, 64],\n",
       "         [96, 96]]],\n",
       "\n",
       "\n",
       "       [[[64, 64],\n",
       "         [96, 96]]]])"
      ]
     },
     "execution_count": 385,
     "metadata": {},
     "output_type": "execute_result"
    }
   ],
   "source": [
    "gW"
   ]
  },
  {
   "cell_type": "code",
   "execution_count": 376,
   "metadata": {
    "collapsed": false
   },
   "outputs": [
    {
     "data": {
      "text/plain": [
       "(2, 1, 2, 2)"
      ]
     },
     "execution_count": 376,
     "metadata": {},
     "output_type": "execute_result"
    }
   ],
   "source": [
    "gW.shape"
   ]
  },
  {
   "cell_type": "code",
   "execution_count": 378,
   "metadata": {
    "collapsed": false
   },
   "outputs": [
    {
     "data": {
      "text/plain": [
       "(2, 1, 2, 2)"
      ]
     },
     "execution_count": 378,
     "metadata": {},
     "output_type": "execute_result"
    }
   ],
   "source": [
    "W.shape"
   ]
  },
  {
   "cell_type": "code",
   "execution_count": 379,
   "metadata": {
    "collapsed": false
   },
   "outputs": [],
   "source": [
    "gcol = np.tensordot(W, gy, (0, 1))"
   ]
  },
  {
   "cell_type": "code",
   "execution_count": 381,
   "metadata": {
    "collapsed": false
   },
   "outputs": [
    {
     "data": {
      "text/plain": [
       "(1, 2, 2, 1, 4, 4)"
      ]
     },
     "execution_count": 381,
     "metadata": {},
     "output_type": "execute_result"
    }
   ],
   "source": [
    "gcol.shape"
   ]
  },
  {
   "cell_type": "code",
   "execution_count": 364,
   "metadata": {
    "collapsed": false
   },
   "outputs": [
    {
     "data": {
      "text/plain": [
       "(1, 2, 2, 1, 4, 4)"
      ]
     },
     "execution_count": 364,
     "metadata": {},
     "output_type": "execute_result"
    }
   ],
   "source": [
    "gcol.shape"
   ]
  },
  {
   "cell_type": "code",
   "execution_count": 382,
   "metadata": {
    "collapsed": true
   },
   "outputs": [],
   "source": [
    "gcol = np.rollaxis(gcol, 3)"
   ]
  },
  {
   "cell_type": "code",
   "execution_count": 383,
   "metadata": {
    "collapsed": false
   },
   "outputs": [
    {
     "data": {
      "text/plain": [
       "(1, 1, 2, 2, 4, 4)"
      ]
     },
     "execution_count": 383,
     "metadata": {},
     "output_type": "execute_result"
    }
   ],
   "source": [
    "gcol.shape"
   ]
  },
  {
   "cell_type": "markdown",
   "metadata": {},
   "source": [
    "##### preOutput"
   ]
  },
  {
   "cell_type": "code",
   "execution_count": 390,
   "metadata": {
    "collapsed": false
   },
   "outputs": [],
   "source": [
    "def deriv_sigmoid(x):\n",
    "    v = np.exp(x) / np.power(1+np.exp(x),2.0)\n",
    "    v = x * (1-x)\n",
    "    return v\n"
   ]
  },
  {
   "cell_type": "code",
   "execution_count": 391,
   "metadata": {
    "collapsed": true
   },
   "outputs": [],
   "source": [
    "deriv_sigmoid = np.vectorize(deriv_sigmoid)"
   ]
  },
  {
   "cell_type": "code",
   "execution_count": 405,
   "metadata": {
    "collapsed": false
   },
   "outputs": [],
   "source": [
    "z = np.tensordot(col, W, ([1, 2, 3], [1, 2, 3]))"
   ]
  },
  {
   "cell_type": "code",
   "execution_count": 406,
   "metadata": {
    "collapsed": false
   },
   "outputs": [
    {
     "data": {
      "text/plain": [
       "(1, 4, 4, 2)"
      ]
     },
     "execution_count": 406,
     "metadata": {},
     "output_type": "execute_result"
    }
   ],
   "source": [
    "z.shape"
   ]
  },
  {
   "cell_type": "code",
   "execution_count": 408,
   "metadata": {
    "collapsed": true
   },
   "outputs": [],
   "source": [
    "z+=b"
   ]
  },
  {
   "cell_type": "code",
   "execution_count": 413,
   "metadata": {
    "collapsed": false
   },
   "outputs": [],
   "source": [
    "z2 = np.rollaxis(z,3,1)"
   ]
  },
  {
   "cell_type": "markdown",
   "metadata": {},
   "source": [
    "##### delta"
   ]
  },
  {
   "cell_type": "code",
   "execution_count": 414,
   "metadata": {
    "collapsed": true
   },
   "outputs": [],
   "source": [
    "deriv_z = deriv_sigmoid(z2)"
   ]
  },
  {
   "cell_type": "code",
   "execution_count": 418,
   "metadata": {
    "collapsed": false
   },
   "outputs": [
    {
     "data": {
      "text/plain": [
       "(1, 2, 4, 4)"
      ]
     },
     "execution_count": 418,
     "metadata": {},
     "output_type": "execute_result"
    }
   ],
   "source": [
    "deriv_z.shape"
   ]
  },
  {
   "cell_type": "code",
   "execution_count": 422,
   "metadata": {
    "collapsed": false
   },
   "outputs": [],
   "source": [
    "epsilon = np.ones((1,2,4,4))"
   ]
  },
  {
   "cell_type": "code",
   "execution_count": 425,
   "metadata": {
    "collapsed": false
   },
   "outputs": [
    {
     "data": {
      "text/plain": [
       "(1, 2, 4, 4)"
      ]
     },
     "execution_count": 425,
     "metadata": {},
     "output_type": "execute_result"
    }
   ],
   "source": [
    "epsilon.shape"
   ]
  },
  {
   "cell_type": "code",
   "execution_count": 474,
   "metadata": {
    "collapsed": false
   },
   "outputs": [],
   "source": [
    "delta2 = np.dot(epsilon, deriv_z)"
   ]
  },
  {
   "cell_type": "code",
   "execution_count": 475,
   "metadata": {
    "collapsed": false
   },
   "outputs": [
    {
     "data": {
      "text/plain": [
       "(1, 2, 4, 1, 2, 4)"
      ]
     },
     "execution_count": 475,
     "metadata": {},
     "output_type": "execute_result"
    }
   ],
   "source": [
    "delta2.shape"
   ]
  },
  {
   "cell_type": "code",
   "execution_count": 495,
   "metadata": {
    "collapsed": false
   },
   "outputs": [
    {
     "data": {
      "text/plain": [
       "(1, 1, 2, 2, 4, 4)"
      ]
     },
     "execution_count": 495,
     "metadata": {},
     "output_type": "execute_result"
    }
   ],
   "source": [
    "d = np.rollaxis(delta2,4,2)\n",
    "np.rollaxis(d,4,1).shape"
   ]
  },
  {
   "cell_type": "code",
   "execution_count": 522,
   "metadata": {
    "collapsed": false
   },
   "outputs": [],
   "source": [
    "delta = np.multiply(epsilon, deriv_z)"
   ]
  },
  {
   "cell_type": "code",
   "execution_count": 523,
   "metadata": {
    "collapsed": false
   },
   "outputs": [
    {
     "data": {
      "text/plain": [
       "(1, 2, 4, 4)"
      ]
     },
     "execution_count": 523,
     "metadata": {},
     "output_type": "execute_result"
    }
   ],
   "source": [
    "delta.shape"
   ]
  },
  {
   "cell_type": "code",
   "execution_count": 534,
   "metadata": {
    "collapsed": false
   },
   "outputs": [
    {
     "data": {
      "text/plain": [
       "array([-12., -12., -12., -12., -56., -56., -56., -56., -12., -12., -12.,\n",
       "       -12., -56., -56., -56., -56., -12., -12., -12., -12., -56., -56.,\n",
       "       -56., -56., -12., -12., -12., -12., -56., -56., -56., -56.])"
      ]
     },
     "execution_count": 534,
     "metadata": {},
     "output_type": "execute_result"
    }
   ],
   "source": [
    "delta.ravel()"
   ]
  },
  {
   "cell_type": "code",
   "execution_count": 530,
   "metadata": {
    "collapsed": false
   },
   "outputs": [
    {
     "data": {
      "text/plain": [
       "array([-544., -544.])"
      ]
     },
     "execution_count": 530,
     "metadata": {},
     "output_type": "execute_result"
    }
   ],
   "source": [
    "delta.sum((0,2,3))"
   ]
  },
  {
   "cell_type": "code",
   "execution_count": 535,
   "metadata": {
    "collapsed": false
   },
   "outputs": [],
   "source": [
    "wG = np.tensordot(delta, col, ([0, 2, 3],[0, 4, 5]))"
   ]
  },
  {
   "cell_type": "code",
   "execution_count": 502,
   "metadata": {
    "collapsed": false
   },
   "outputs": [
    {
     "data": {
      "text/plain": [
       "array([[[[-544., -544.]],\n",
       "\n",
       "        [[-544., -544.]]]])"
      ]
     },
     "execution_count": 502,
     "metadata": {},
     "output_type": "execute_result"
    }
   ],
   "source": [
    "delta"
   ]
  },
  {
   "cell_type": "code",
   "execution_count": 536,
   "metadata": {
    "collapsed": false
   },
   "outputs": [
    {
     "data": {
      "text/plain": [
       "(2, 1, 2, 2)"
      ]
     },
     "execution_count": 536,
     "metadata": {},
     "output_type": "execute_result"
    }
   ],
   "source": [
    "wG.shape"
   ]
  },
  {
   "cell_type": "code",
   "execution_count": 538,
   "metadata": {
    "collapsed": false
   },
   "outputs": [
    {
     "data": {
      "text/plain": [
       "array([-1440., -1440., -1984., -1984., -1440., -1440., -1984., -1984.])"
      ]
     },
     "execution_count": 538,
     "metadata": {},
     "output_type": "execute_result"
    }
   ],
   "source": [
    "wG.ravel()"
   ]
  },
  {
   "cell_type": "code",
   "execution_count": 548,
   "metadata": {
    "collapsed": false
   },
   "outputs": [
    {
     "data": {
      "text/plain": [
       "(2, 4, 4)"
      ]
     },
     "execution_count": 548,
     "metadata": {},
     "output_type": "execute_result"
    }
   ],
   "source": [
    "delta[0].shape"
   ]
  },
  {
   "cell_type": "code",
   "execution_count": 546,
   "metadata": {
    "collapsed": false
   },
   "outputs": [
    {
     "data": {
      "text/plain": [
       "(2, 1, 2, 2)"
      ]
     },
     "execution_count": 546,
     "metadata": {},
     "output_type": "execute_result"
    }
   ],
   "source": [
    "W.shape"
   ]
  },
  {
   "cell_type": "code",
   "execution_count": 560,
   "metadata": {
    "collapsed": false
   },
   "outputs": [],
   "source": [
    "# nextEpsilon\n",
    "r = np.tensordot(W,delta,([0,1]))"
   ]
  },
  {
   "cell_type": "code",
   "execution_count": 562,
   "metadata": {
    "collapsed": false
   },
   "outputs": [],
   "source": [
    "r = np.rollaxis(r,3)"
   ]
  },
  {
   "cell_type": "code",
   "execution_count": 579,
   "metadata": {
    "collapsed": false
   },
   "outputs": [
    {
     "data": {
      "text/plain": [
       "(1, 1, 2, 2, 4, 4)"
      ]
     },
     "execution_count": 579,
     "metadata": {},
     "output_type": "execute_result"
    }
   ],
   "source": [
    "r.shape"
   ]
  },
  {
   "cell_type": "code",
   "execution_count": 564,
   "metadata": {
    "collapsed": false
   },
   "outputs": [
    {
     "data": {
      "text/plain": [
       "array([-12., -12., -12., -12., -56., -56., -56., -56., -12., -12., -12.,\n",
       "       -12., -56., -56., -56., -56., -12., -12., -12., -12., -56., -56.,\n",
       "       -56., -56., -12., -12., -12., -12., -56., -56., -56., -56., -12.,\n",
       "       -12., -12., -12., -56., -56., -56., -56., -12., -12., -12., -12.,\n",
       "       -56., -56., -56., -56., -12., -12., -12., -12., -56., -56., -56.,\n",
       "       -56., -12., -12., -12., -12., -56., -56., -56., -56.])"
      ]
     },
     "execution_count": 564,
     "metadata": {},
     "output_type": "execute_result"
    }
   ],
   "source": [
    "r.ravel()"
   ]
  },
  {
   "cell_type": "code",
   "execution_count": 566,
   "metadata": {
    "collapsed": true
   },
   "outputs": [],
   "source": [
    "def col2im(col, sy, sx, ph, pw, h, w):\n",
    "    n, c, kh, kw, out_h, out_w = col.shape\n",
    "\n",
    "    img = np.zeros((n, c, h + 2 * ph + sy - 1, w + 2 * pw + sx - 1), dtype=col.dtype)\n",
    "    for i in six.moves.range(kh):\n",
    "        i_lim = i + sy * out_h\n",
    "        for j in six.moves.range(kw):\n",
    "            j_lim = j + sx * out_w\n",
    "            img[:, :, i:i_lim:sy, j:j_lim:sx] += col[:, :, i, j, :, :]\n",
    "\n",
    "    return img[:, :, ph:h + ph, pw:w + pw]"
   ]
  },
  {
   "cell_type": "code",
   "execution_count": 575,
   "metadata": {
    "collapsed": false
   },
   "outputs": [],
   "source": [
    "reshapedEp = col2im(r, sy, sx, ph, pw, h, w)"
   ]
  },
  {
   "cell_type": "code",
   "execution_count": 576,
   "metadata": {
    "collapsed": false
   },
   "outputs": [
    {
     "data": {
      "text/plain": [
       "(1, 1, 8, 8)"
      ]
     },
     "execution_count": 576,
     "metadata": {},
     "output_type": "execute_result"
    }
   ],
   "source": [
    "reshapedEp.shape"
   ]
  },
  {
   "cell_type": "code",
   "execution_count": 578,
   "metadata": {
    "collapsed": false
   },
   "outputs": [
    {
     "data": {
      "text/plain": [
       "array([-12., -12., -12., -12., -12., -12., -12., -12., -12., -12., -12.,\n",
       "       -12., -12., -12., -12., -12., -56., -56., -56., -56., -56., -56.,\n",
       "       -56., -56., -56., -56., -56., -56., -56., -56., -56., -56., -12.,\n",
       "       -12., -12., -12., -12., -12., -12., -12., -12., -12., -12., -12.,\n",
       "       -12., -12., -12., -12., -56., -56., -56., -56., -56., -56., -56.,\n",
       "       -56., -56., -56., -56., -56., -56., -56., -56., -56.])"
      ]
     },
     "execution_count": 578,
     "metadata": {},
     "output_type": "execute_result"
    }
   ],
   "source": [
    "reshapedEp.ravel()"
   ]
  },
  {
   "cell_type": "markdown",
   "metadata": {},
   "source": [
    "### Checking activations & backprop - Subsampling"
   ]
  },
  {
   "cell_type": "markdown",
   "metadata": {},
   "source": [
    "##### Activate"
   ]
  },
  {
   "cell_type": "code",
   "execution_count": 593,
   "metadata": {
    "collapsed": true
   },
   "outputs": [],
   "source": [
    "def im2col(img, kh, kw, sy, sx, ph, pw, pval=0, cover_all=False):\n",
    "    n, c, h, w = img.shape\n",
    "    featureMapWidth = (w-kw+pw*2)/sx + 1\n",
    "    featureMapHeight = (h-kh+ph*2)/sy + 1 \n",
    "\n",
    "    img = np.pad(img, ((0, 0), (0, 0), (ph, ph + sy - 1), (pw, pw + sx - 1)),\n",
    "                    mode='constant', constant_values=(pval,))\n",
    "    col = np.ndarray((n, c, kh, kw, featureMapHeight, featureMapWidth), dtype=img.dtype)\n",
    "\n",
    "    for i in six.moves.range(kh):\n",
    "        i_lim = i + sy * featureMapHeight\n",
    "        for j in six.moves.range(kw):\n",
    "            j_lim = j + sx * featureMapWidth\n",
    "            col[:, :, i, j, :, :] = img[:, :, i:i_lim:sy, j:j_lim:sx]\n",
    "    return col"
   ]
  },
  {
   "cell_type": "code",
   "execution_count": 653,
   "metadata": {
    "collapsed": true
   },
   "outputs": [],
   "source": [
    "def forward_max(x):\n",
    "    kh=2\n",
    "    kw=2\n",
    "    ph = 0\n",
    "    pw = 0\n",
    "    sy = 2\n",
    "    sx = 2\n",
    "    col = im2col(x, kh, kw, sy, sx, ph, pw)\n",
    "    n, c, kh, kw, out_h, out_w = col.shape\n",
    "    col = col.reshape(n, c, kh * kw, out_h, out_w)\n",
    "\n",
    "    # We select maximum twice, since the implementation using numpy.choose\n",
    "    # hits its bug when kh * kw >= 32.\n",
    "    indexes = col.argmax(axis=2)\n",
    "    y = col.max(axis=2)\n",
    "    return y\n",
    "\n",
    "def forward_mean(x):\n",
    "    kh=2\n",
    "    kw=2\n",
    "    ph = 0\n",
    "    pw = 0\n",
    "    sy = 2\n",
    "    sx = 2\n",
    "    col = im2col(x, kh, kw, sy, sx, ph, pw)\n",
    "#     n, c, kh, kw, out_h, out_w = col.shape\n",
    "#     col = col.reshape(n, c, kh * kw, out_h, out_w)\n",
    "\n",
    "    y = col.mean(axis=2,3)\n",
    "    return y"
   ]
  },
  {
   "cell_type": "code",
   "execution_count": 626,
   "metadata": {
    "collapsed": false
   },
   "outputs": [],
   "source": [
    "y2 = np.array([[[[ 1.,  1.,  3.,  7.],\n",
    "                 [ 5.,  1.,  3.,  3.],\n",
    "                 [ 2.,  2.,  8.,  4.],\n",
    "                 [ 2.,  6.,  4.,  4.]],\n",
    "\n",
    "                [[ 3.,  3.,  6.,  7.],\n",
    "                 [ 4.,  4.,  6.,  7.],\n",
    "                 [ 5.,  5.,  9.,  8.],\n",
    "                 [ 4.,  4.,  9.,  8.]]]])"
   ]
  },
  {
   "cell_type": "code",
   "execution_count": 630,
   "metadata": {
    "collapsed": false
   },
   "outputs": [
    {
     "data": {
      "text/plain": [
       "(1, 2, 4, 4)"
      ]
     },
     "execution_count": 630,
     "metadata": {},
     "output_type": "execute_result"
    }
   ],
   "source": [
    "y2.shape"
   ]
  },
  {
   "cell_type": "code",
   "execution_count": 654,
   "metadata": {
    "collapsed": false
   },
   "outputs": [
    {
     "data": {
      "text/plain": [
       "(1, 2, 2, 2)"
      ]
     },
     "execution_count": 654,
     "metadata": {},
     "output_type": "execute_result"
    }
   ],
   "source": [
    "forward_max(y2).shape"
   ]
  },
  {
   "cell_type": "code",
   "execution_count": 624,
   "metadata": {
    "collapsed": false
   },
   "outputs": [],
   "source": [
    "w = y2.shape[2]\n",
    "kw=2\n",
    "pw = 0\n",
    "sx = 2\n",
    "\n",
    "featureMapWidth = (w-kw+pw*2)/sx + 1"
   ]
  },
  {
   "cell_type": "code",
   "execution_count": 625,
   "metadata": {
    "collapsed": false
   },
   "outputs": [
    {
     "data": {
      "text/plain": [
       "2"
      ]
     },
     "execution_count": 625,
     "metadata": {},
     "output_type": "execute_result"
    }
   ],
   "source": [
    "featureMapWidth"
   ]
  },
  {
   "cell_type": "code",
   "execution_count": 643,
   "metadata": {
    "collapsed": false
   },
   "outputs": [],
   "source": [
    "kh=2\n",
    "kw=2\n",
    "ph = 0\n",
    "pw = 0\n",
    "sy = 2\n",
    "sx = 2\n",
    "\n",
    "col = im2col(y2, kh, kw, sy, sx, ph, pw)"
   ]
  },
  {
   "cell_type": "code",
   "execution_count": 644,
   "metadata": {
    "collapsed": false
   },
   "outputs": [
    {
     "data": {
      "text/plain": [
       "array([[[[[[ 1.,  3.],\n",
       "           [ 2.,  8.]],\n",
       "\n",
       "          [[ 1.,  7.],\n",
       "           [ 2.,  4.]]],\n",
       "\n",
       "\n",
       "         [[[ 5.,  3.],\n",
       "           [ 2.,  4.]],\n",
       "\n",
       "          [[ 1.,  3.],\n",
       "           [ 6.,  4.]]]],\n",
       "\n",
       "\n",
       "\n",
       "        [[[[ 3.,  6.],\n",
       "           [ 5.,  9.]],\n",
       "\n",
       "          [[ 3.,  7.],\n",
       "           [ 5.,  8.]]],\n",
       "\n",
       "\n",
       "         [[[ 4.,  6.],\n",
       "           [ 4.,  9.]],\n",
       "\n",
       "          [[ 4.,  7.],\n",
       "           [ 4.,  8.]]]]]])"
      ]
     },
     "execution_count": 644,
     "metadata": {},
     "output_type": "execute_result"
    }
   ],
   "source": [
    "col"
   ]
  },
  {
   "cell_type": "code",
   "execution_count": 645,
   "metadata": {
    "collapsed": false
   },
   "outputs": [
    {
     "data": {
      "text/plain": [
       "(1, 2, 2, 2, 2, 2)"
      ]
     },
     "execution_count": 645,
     "metadata": {},
     "output_type": "execute_result"
    }
   ],
   "source": [
    "col.shape"
   ]
  },
  {
   "cell_type": "code",
   "execution_count": 646,
   "metadata": {
    "collapsed": true
   },
   "outputs": [],
   "source": [
    "n, c, kh, kw, out_h, out_w = col.shape"
   ]
  },
  {
   "cell_type": "code",
   "execution_count": 647,
   "metadata": {
    "collapsed": true
   },
   "outputs": [],
   "source": [
    "col = col.reshape(n, c, kh * kw, out_h, out_w)\n"
   ]
  },
  {
   "cell_type": "code",
   "execution_count": 648,
   "metadata": {
    "collapsed": false
   },
   "outputs": [
    {
     "data": {
      "text/plain": [
       "(1, 2, 4, 2, 2)"
      ]
     },
     "execution_count": 648,
     "metadata": {},
     "output_type": "execute_result"
    }
   ],
   "source": [
    "col.shape"
   ]
  },
  {
   "cell_type": "code",
   "execution_count": 651,
   "metadata": {
    "collapsed": true
   },
   "outputs": [],
   "source": [
    "indexes = col.argmax(axis=2)"
   ]
  },
  {
   "cell_type": "code",
   "execution_count": 652,
   "metadata": {
    "collapsed": false
   },
   "outputs": [
    {
     "data": {
      "text/plain": [
       "array([[[[2, 1],\n",
       "         [3, 0]],\n",
       "\n",
       "        [[2, 1],\n",
       "         [0, 0]]]])"
      ]
     },
     "execution_count": 652,
     "metadata": {},
     "output_type": "execute_result"
    }
   ],
   "source": [
    "indexes"
   ]
  },
  {
   "cell_type": "code",
   "execution_count": 649,
   "metadata": {
    "collapsed": false
   },
   "outputs": [
    {
     "data": {
      "text/plain": [
       "(1, 2, 2, 2)"
      ]
     },
     "execution_count": 649,
     "metadata": {},
     "output_type": "execute_result"
    }
   ],
   "source": [
    "indexes.shape"
   ]
  },
  {
   "cell_type": "code",
   "execution_count": 641,
   "metadata": {
    "collapsed": true
   },
   "outputs": [],
   "source": [
    "y = col.max(axis=2)"
   ]
  },
  {
   "cell_type": "code",
   "execution_count": 657,
   "metadata": {
    "collapsed": false
   },
   "outputs": [
    {
     "data": {
      "text/plain": [
       "array([[[[ 1.,  1.,  3.,  7.],\n",
       "         [ 5.,  1.,  3.,  3.],\n",
       "         [ 2.,  2.,  8.,  4.],\n",
       "         [ 2.,  6.,  4.,  4.]],\n",
       "\n",
       "        [[ 3.,  3.,  6.,  7.],\n",
       "         [ 4.,  4.,  6.,  7.],\n",
       "         [ 5.,  5.,  9.,  8.],\n",
       "         [ 4.,  4.,  9.,  8.]]]])"
      ]
     },
     "execution_count": 657,
     "metadata": {},
     "output_type": "execute_result"
    }
   ],
   "source": [
    "y2"
   ]
  },
  {
   "cell_type": "code",
   "execution_count": 642,
   "metadata": {
    "collapsed": false
   },
   "outputs": [
    {
     "data": {
      "text/plain": [
       "array([[[[ 5.,  7.],\n",
       "         [ 6.,  8.]],\n",
       "\n",
       "        [[ 4.,  7.],\n",
       "         [ 5.,  9.]]]])"
      ]
     },
     "execution_count": 642,
     "metadata": {},
     "output_type": "execute_result"
    }
   ],
   "source": [
    "y"
   ]
  },
  {
   "cell_type": "code",
   "execution_count": 758,
   "metadata": {
    "collapsed": false
   },
   "outputs": [
    {
     "data": {
      "text/plain": [
       "array([[[[ 2. ,  4. ],\n",
       "         [ 3. ,  5. ]],\n",
       "\n",
       "        [[ 3.5,  6.5],\n",
       "         [ 4.5,  8.5]]]])"
      ]
     },
     "execution_count": 758,
     "metadata": {},
     "output_type": "execute_result"
    }
   ],
   "source": [
    "col.mean(axis=(2))"
   ]
  },
  {
   "cell_type": "code",
   "execution_count": 797,
   "metadata": {
    "collapsed": false
   },
   "outputs": [
    {
     "data": {
      "text/plain": [
       "array([[[[ 2. ,  4. ],\n",
       "         [ 3. ,  5. ]],\n",
       "\n",
       "        [[ 3.5,  6.5],\n",
       "         [ 4.5,  8.5]]]])"
      ]
     },
     "execution_count": 797,
     "metadata": {},
     "output_type": "execute_result"
    }
   ],
   "source": [
    "forward_mean(y2)"
   ]
  },
  {
   "cell_type": "code",
   "execution_count": 661,
   "metadata": {
    "collapsed": false
   },
   "outputs": [
    {
     "data": {
      "text/plain": [
       "(1, 2, 2, 2)"
      ]
     },
     "execution_count": 661,
     "metadata": {},
     "output_type": "execute_result"
    }
   ],
   "source": [
    "forward_mean(y2).shape"
   ]
  },
  {
   "cell_type": "markdown",
   "metadata": {},
   "source": [
    "##### backprop"
   ]
  },
  {
   "cell_type": "code",
   "execution_count": null,
   "metadata": {
    "collapsed": true
   },
   "outputs": [],
   "source": [
    "def col2im(col, sy, sx, ph, pw, h, w):\n",
    "    n, c, kh, kw, out_h, out_w = col.shape\n",
    "\n",
    "    img = np.zeros((n, c, h + 2 * ph + sy - 1, w + 2 * pw + sx - 1), dtype=col.dtype)\n",
    "    for i in six.moves.range(kh):\n",
    "        i_lim = i + sy * out_h\n",
    "        for j in six.moves.range(kw):\n",
    "            j_lim = j + sx * out_w\n",
    "            img[:, :, i:i_lim:sy, j:j_lim:sx] += col[:, :, i, j, :, :]\n",
    "\n",
    "    return img[:, :, ph:h + ph, pw:w + pw]"
   ]
  },
  {
   "cell_type": "code",
   "execution_count": 783,
   "metadata": {
    "collapsed": true
   },
   "outputs": [],
   "source": [
    "def backward_max(x, gy):\n",
    "    n, c, out_h, out_w = gy.shape\n",
    "    h, w = x.shape[2:]\n",
    "    kh = 2\n",
    "    kw = 2\n",
    "    gcol = np.zeros((n, c, kh, kw, out_h, out_w), dtype=np.float32)\n",
    "\n",
    "    # TODO(beam2d): Make it fast\n",
    "    gcol_r = np.rollaxis(gcol.reshape(n, c, -1, out_h, out_w), 2)\n",
    "    for i in np.ndindex(n, c, out_h, out_w):\n",
    "        gcol_r[indexes[i]][i] = gy[i]\n",
    "\n",
    "    gx = col2im(gcol, sy, sx, ph, pw, h, w)\n",
    "    return gx\n",
    "\n",
    "def backward_mean(x, gy):\n",
    "#     n, c, out_h, out_w = gy.shape\n",
    "    h, w = x.shape[2:]\n",
    "    kh = 2\n",
    "    kw = 2\n",
    "\n",
    "    gcol = np.tile(gy[0][:,:,np.newaxis, np.newaxis], (1, 1, kh, kw, 1, 1))\n",
    "    gx = col2im(gcol, sy, sx, ph, pw, h, w)\n",
    "    gx /= (kh * kw)\n",
    "    return gx"
   ]
  },
  {
   "cell_type": "code",
   "execution_count": 695,
   "metadata": {
    "collapsed": true
   },
   "outputs": [],
   "source": [
    "epsilon = np.ones((1,2,2,2))"
   ]
  },
  {
   "cell_type": "code",
   "execution_count": 710,
   "metadata": {
    "collapsed": false
   },
   "outputs": [
    {
     "data": {
      "text/plain": [
       "array([ 1.,  1.,  1.,  1.,  1.,  1.,  1.,  1.])"
      ]
     },
     "execution_count": 710,
     "metadata": {},
     "output_type": "execute_result"
    }
   ],
   "source": [
    "epsilon.ravel()"
   ]
  },
  {
   "cell_type": "code",
   "execution_count": 706,
   "metadata": {
    "collapsed": false
   },
   "outputs": [
    {
     "data": {
      "text/plain": [
       "array([[[[ 1.,  1.,  3.,  7.],\n",
       "         [ 5.,  1.,  3.,  3.],\n",
       "         [ 2.,  2.,  8.,  4.],\n",
       "         [ 2.,  6.,  4.,  4.]],\n",
       "\n",
       "        [[ 3.,  3.,  6.,  7.],\n",
       "         [ 4.,  4.,  6.,  7.],\n",
       "         [ 5.,  5.,  9.,  8.],\n",
       "         [ 4.,  4.,  9.,  8.]]]])"
      ]
     },
     "execution_count": 706,
     "metadata": {},
     "output_type": "execute_result"
    }
   ],
   "source": [
    "y2"
   ]
  },
  {
   "cell_type": "code",
   "execution_count": 732,
   "metadata": {
    "collapsed": false
   },
   "outputs": [
    {
     "data": {
      "text/plain": [
       "(1, 2, 4, 4)"
      ]
     },
     "execution_count": 732,
     "metadata": {},
     "output_type": "execute_result"
    }
   ],
   "source": [
    "backward_max(y2, epsilon).shape"
   ]
  },
  {
   "cell_type": "code",
   "execution_count": 733,
   "metadata": {
    "collapsed": false
   },
   "outputs": [],
   "source": [
    "n, c, out_h, out_w = epsilon.shape\n",
    "h, w = y2.shape[2:]\n",
    "kh = 2\n",
    "kw = 2\n",
    "\n",
    "gcol = np.zeros((n, c, kh, kw, out_h, out_w), dtype=np.float32)"
   ]
  },
  {
   "cell_type": "code",
   "execution_count": 734,
   "metadata": {
    "collapsed": false
   },
   "outputs": [
    {
     "data": {
      "text/plain": [
       "(1, 2, 2, 2, 2, 2)"
      ]
     },
     "execution_count": 734,
     "metadata": {},
     "output_type": "execute_result"
    }
   ],
   "source": [
    "gcol.shape"
   ]
  },
  {
   "cell_type": "code",
   "execution_count": 735,
   "metadata": {
    "collapsed": true
   },
   "outputs": [],
   "source": [
    "gcol_r = np.rollaxis(gcol.reshape(n, c, -1, out_h, out_w), 2)"
   ]
  },
  {
   "cell_type": "code",
   "execution_count": 736,
   "metadata": {
    "collapsed": false
   },
   "outputs": [
    {
     "data": {
      "text/plain": [
       "(4, 1, 2, 2, 2)"
      ]
     },
     "execution_count": 736,
     "metadata": {},
     "output_type": "execute_result"
    }
   ],
   "source": [
    "gcol_r.shape"
   ]
  },
  {
   "cell_type": "code",
   "execution_count": 701,
   "metadata": {
    "collapsed": false
   },
   "outputs": [],
   "source": [
    "n, c, out_h, out_w = epsilon.shape\n",
    "for i in np.ndindex(n, c, out_h, out_w):\n",
    "    gcol_r[indexes[i]][i] = gy[i]"
   ]
  },
  {
   "cell_type": "code",
   "execution_count": 717,
   "metadata": {
    "collapsed": false
   },
   "outputs": [
    {
     "data": {
      "text/plain": [
       "array([[[[ 0.,  0.],\n",
       "         [ 0.,  2.]],\n",
       "\n",
       "        [[ 0.,  0.],\n",
       "         [ 2.,  2.]]]], dtype=float32)"
      ]
     },
     "execution_count": 717,
     "metadata": {},
     "output_type": "execute_result"
    }
   ],
   "source": [
    "gcol_r[indexes[0,1,1,1]]"
   ]
  },
  {
   "cell_type": "code",
   "execution_count": 721,
   "metadata": {
    "collapsed": false
   },
   "outputs": [],
   "source": [
    "epsilon2=np.array([[[[ 1.,  2.],\n",
    "                     [ 3.,  4.]],\n",
    "\n",
    "                    [[ 5.,  6.],\n",
    "                     [ 7.,  8.]]]])"
   ]
  },
  {
   "cell_type": "code",
   "execution_count": 719,
   "metadata": {
    "collapsed": false
   },
   "outputs": [
    {
     "data": {
      "text/plain": [
       "(4, 1, 2, 2, 2)"
      ]
     },
     "execution_count": 719,
     "metadata": {},
     "output_type": "execute_result"
    }
   ],
   "source": [
    "gcol_r.shape"
   ]
  },
  {
   "cell_type": "code",
   "execution_count": 755,
   "metadata": {
    "collapsed": false
   },
   "outputs": [
    {
     "data": {
      "text/plain": [
       "2"
      ]
     },
     "execution_count": 755,
     "metadata": {},
     "output_type": "execute_result"
    }
   ],
   "source": [
    "out_w"
   ]
  },
  {
   "cell_type": "code",
   "execution_count": 750,
   "metadata": {
    "collapsed": false
   },
   "outputs": [
    {
     "name": "stdout",
     "output_type": "stream",
     "text": [
      "[ 1.  1.]\n",
      "[ 1.  1.]\n",
      "1.0\n",
      "(0, 0, 0, 0)\n",
      "[ 1.  1.]\n",
      "[ 2.  2.]\n",
      "2.0\n",
      "(0, 0, 0, 1)\n",
      "[ 2.  2.]\n",
      "[ 3.  3.]\n",
      "3.0\n",
      "(0, 0, 1, 0)\n",
      "[ 3.  3.]\n",
      "[ 4.  4.]\n",
      "4.0\n",
      "(0, 0, 1, 1)\n"
     ]
    },
    {
     "ename": "IndexError",
     "evalue": "index 1 is out of bounds for axis 1 with size 1",
     "output_type": "error",
     "traceback": [
      "\u001b[0;31m---------------------------------------------------------------------------\u001b[0m",
      "\u001b[0;31mIndexError\u001b[0m                                Traceback (most recent call last)",
      "\u001b[0;32m<ipython-input-750-3da7939a0c9e>\u001b[0m in \u001b[0;36m<module>\u001b[0;34m()\u001b[0m\n\u001b[1;32m      1\u001b[0m \u001b[0;32mfor\u001b[0m \u001b[0mi\u001b[0m \u001b[0;32min\u001b[0m \u001b[0mnp\u001b[0m\u001b[0;34m.\u001b[0m\u001b[0mndindex\u001b[0m\u001b[0;34m(\u001b[0m\u001b[0mn\u001b[0m\u001b[0;34m,\u001b[0m \u001b[0mc\u001b[0m\u001b[0;34m,\u001b[0m \u001b[0mout_h\u001b[0m\u001b[0;34m,\u001b[0m \u001b[0mout_w\u001b[0m\u001b[0;34m)\u001b[0m\u001b[0;34m:\u001b[0m\u001b[0;34m\u001b[0m\u001b[0m\n\u001b[0;32m----> 2\u001b[0;31m     \u001b[0;32mprint\u001b[0m \u001b[0mgcol_r\u001b[0m\u001b[0;34m[\u001b[0m\u001b[0mi\u001b[0m\u001b[0;34m]\u001b[0m\u001b[0;34m\u001b[0m\u001b[0m\n\u001b[0m\u001b[1;32m      3\u001b[0m     \u001b[0mgcol_r\u001b[0m\u001b[0;34m[\u001b[0m\u001b[0;34m[\u001b[0m\u001b[0mi\u001b[0m\u001b[0;34m]\u001b[0m\u001b[0;34m]\u001b[0m \u001b[0;34m=\u001b[0m \u001b[0mepsilon2\u001b[0m\u001b[0;34m[\u001b[0m\u001b[0mi\u001b[0m\u001b[0;34m]\u001b[0m\u001b[0;34m\u001b[0m\u001b[0m\n\u001b[1;32m      4\u001b[0m     \u001b[0;32mprint\u001b[0m \u001b[0mgcol_r\u001b[0m\u001b[0;34m[\u001b[0m\u001b[0mi\u001b[0m\u001b[0;34m]\u001b[0m\u001b[0;34m\u001b[0m\u001b[0m\n\u001b[1;32m      5\u001b[0m     \u001b[0;32mprint\u001b[0m \u001b[0mepsilon2\u001b[0m\u001b[0;34m[\u001b[0m\u001b[0mi\u001b[0m\u001b[0;34m]\u001b[0m\u001b[0;34m\u001b[0m\u001b[0m\n",
      "\u001b[0;31mIndexError\u001b[0m: index 1 is out of bounds for axis 1 with size 1"
     ]
    }
   ],
   "source": [
    "for i in np.ndindex(n, c, out_h, out_w):\n",
    "    print gcol_r[i]\n",
    "    gcol_r[i] = epsilon2[i]\n",
    "    print gcol_r[i]\n",
    "    print epsilon2[i]\n",
    "    print i"
   ]
  },
  {
   "cell_type": "code",
   "execution_count": 751,
   "metadata": {
    "collapsed": false
   },
   "outputs": [
    {
     "data": {
      "text/plain": [
       "array([[[[[ 4.,  4.],\n",
       "          [ 4.,  4.]],\n",
       "\n",
       "         [[ 4.,  4.],\n",
       "          [ 4.,  4.]]]],\n",
       "\n",
       "\n",
       "\n",
       "       [[[[ 4.,  4.],\n",
       "          [ 4.,  4.]],\n",
       "\n",
       "         [[ 4.,  4.],\n",
       "          [ 4.,  4.]]]],\n",
       "\n",
       "\n",
       "\n",
       "       [[[[ 0.,  0.],\n",
       "          [ 0.,  0.]],\n",
       "\n",
       "         [[ 0.,  0.],\n",
       "          [ 0.,  0.]]]],\n",
       "\n",
       "\n",
       "\n",
       "       [[[[ 0.,  0.],\n",
       "          [ 0.,  0.]],\n",
       "\n",
       "         [[ 0.,  0.],\n",
       "          [ 0.,  0.]]]]], dtype=float32)"
      ]
     },
     "execution_count": 751,
     "metadata": {},
     "output_type": "execute_result"
    }
   ],
   "source": [
    "gcol_r"
   ]
  },
  {
   "cell_type": "code",
   "execution_count": 749,
   "metadata": {
    "collapsed": false
   },
   "outputs": [
    {
     "data": {
      "text/plain": [
       "array([ 1.,  1.], dtype=float32)"
      ]
     },
     "execution_count": 749,
     "metadata": {},
     "output_type": "execute_result"
    }
   ],
   "source": [
    "gcol_r[i]"
   ]
  },
  {
   "cell_type": "code",
   "execution_count": 739,
   "metadata": {
    "collapsed": false
   },
   "outputs": [
    {
     "data": {
      "text/plain": [
       "(4, 1, 2, 2, 2)"
      ]
     },
     "execution_count": 739,
     "metadata": {},
     "output_type": "execute_result"
    }
   ],
   "source": [
    "gcol_r.shape"
   ]
  },
  {
   "cell_type": "code",
   "execution_count": 729,
   "metadata": {
    "collapsed": false
   },
   "outputs": [
    {
     "data": {
      "text/plain": [
       "(4, 1, 2, 2, 2)"
      ]
     },
     "execution_count": 729,
     "metadata": {},
     "output_type": "execute_result"
    }
   ],
   "source": [
    "gcol_r.shape"
   ]
  },
  {
   "cell_type": "code",
   "execution_count": 743,
   "metadata": {
    "collapsed": false
   },
   "outputs": [
    {
     "data": {
      "text/plain": [
       "array([[[[[ 1.,  1.],\n",
       "          [ 2.,  2.]],\n",
       "\n",
       "         [[ 3.,  3.],\n",
       "          [ 4.,  4.]]]],\n",
       "\n",
       "\n",
       "\n",
       "       [[[[ 0.,  0.],\n",
       "          [ 0.,  0.]],\n",
       "\n",
       "         [[ 0.,  0.],\n",
       "          [ 0.,  0.]]]],\n",
       "\n",
       "\n",
       "\n",
       "       [[[[ 0.,  0.],\n",
       "          [ 0.,  0.]],\n",
       "\n",
       "         [[ 0.,  0.],\n",
       "          [ 0.,  0.]]]],\n",
       "\n",
       "\n",
       "\n",
       "       [[[[ 0.,  0.],\n",
       "          [ 0.,  0.]],\n",
       "\n",
       "         [[ 0.,  0.],\n",
       "          [ 0.,  0.]]]]], dtype=float32)"
      ]
     },
     "execution_count": 743,
     "metadata": {},
     "output_type": "execute_result"
    }
   ],
   "source": [
    "gcol_r"
   ]
  },
  {
   "cell_type": "code",
   "execution_count": 731,
   "metadata": {
    "collapsed": false
   },
   "outputs": [
    {
     "data": {
      "text/plain": [
       "(1, 2, 2, 2)"
      ]
     },
     "execution_count": 731,
     "metadata": {},
     "output_type": "execute_result"
    }
   ],
   "source": [
    "indexes.shape"
   ]
  },
  {
   "cell_type": "code",
   "execution_count": 763,
   "metadata": {
    "collapsed": false
   },
   "outputs": [
    {
     "data": {
      "text/plain": [
       "(1, 2, 2, 2)"
      ]
     },
     "execution_count": 763,
     "metadata": {},
     "output_type": "execute_result"
    }
   ],
   "source": [
    "epsilon2.shape"
   ]
  },
  {
   "cell_type": "code",
   "execution_count": 765,
   "metadata": {
    "collapsed": false
   },
   "outputs": [
    {
     "data": {
      "text/plain": [
       "(2, 2, 2)"
      ]
     },
     "execution_count": 765,
     "metadata": {},
     "output_type": "execute_result"
    }
   ],
   "source": [
    "epsilon2[0].shape"
   ]
  },
  {
   "cell_type": "code",
   "execution_count": 767,
   "metadata": {
    "collapsed": false
   },
   "outputs": [
    {
     "data": {
      "text/plain": [
       "(1, 2, 1, 1, 2, 2)"
      ]
     },
     "execution_count": 767,
     "metadata": {},
     "output_type": "execute_result"
    }
   ],
   "source": [
    "epsilon2[:,:,np.newaxis, np.newaxis].shape"
   ]
  },
  {
   "cell_type": "code",
   "execution_count": 768,
   "metadata": {
    "collapsed": false
   },
   "outputs": [
    {
     "data": {
      "text/plain": [
       "array([[[[ 1.,  2.],\n",
       "         [ 3.,  4.]],\n",
       "\n",
       "        [[ 5.,  6.],\n",
       "         [ 7.,  8.]]]])"
      ]
     },
     "execution_count": 768,
     "metadata": {},
     "output_type": "execute_result"
    }
   ],
   "source": [
    "epsilon2"
   ]
  },
  {
   "cell_type": "code",
   "execution_count": 773,
   "metadata": {
    "collapsed": false
   },
   "outputs": [
    {
     "data": {
      "text/plain": [
       "array([[[[[[ 1.,  2.]],\n",
       "\n",
       "          [[ 1.,  2.]]],\n",
       "\n",
       "\n",
       "         [[[ 3.,  4.]],\n",
       "\n",
       "          [[ 3.,  4.]]],\n",
       "\n",
       "\n",
       "         [[[ 1.,  2.]],\n",
       "\n",
       "          [[ 1.,  2.]]],\n",
       "\n",
       "\n",
       "         [[[ 3.,  4.]],\n",
       "\n",
       "          [[ 3.,  4.]]]],\n",
       "\n",
       "\n",
       "\n",
       "        [[[[ 5.,  6.]],\n",
       "\n",
       "          [[ 5.,  6.]]],\n",
       "\n",
       "\n",
       "         [[[ 7.,  8.]],\n",
       "\n",
       "          [[ 7.,  8.]]],\n",
       "\n",
       "\n",
       "         [[[ 5.,  6.]],\n",
       "\n",
       "          [[ 5.,  6.]]],\n",
       "\n",
       "\n",
       "         [[[ 7.,  8.]],\n",
       "\n",
       "          [[ 7.,  8.]]]]]])"
      ]
     },
     "execution_count": 773,
     "metadata": {},
     "output_type": "execute_result"
    }
   ],
   "source": [
    "np.tile(epsilon2[0][:,:,np.newaxis, np.newaxis], (1,1,kh,kw,1,1))"
   ]
  },
  {
   "cell_type": "code",
   "execution_count": 775,
   "metadata": {
    "collapsed": false
   },
   "outputs": [
    {
     "data": {
      "text/plain": [
       "(1, 2, 4, 2, 1, 2)"
      ]
     },
     "execution_count": 775,
     "metadata": {},
     "output_type": "execute_result"
    }
   ],
   "source": [
    "np.tile(epsilon2[0][:,:,np.newaxis, np.newaxis], (1,1,kh,kw,1,1)).shape"
   ]
  },
  {
   "cell_type": "code",
   "execution_count": 771,
   "metadata": {
    "collapsed": false
   },
   "outputs": [
    {
     "data": {
      "text/plain": [
       "(4, 1, 2, 2, 2)"
      ]
     },
     "execution_count": 771,
     "metadata": {},
     "output_type": "execute_result"
    }
   ],
   "source": [
    "gcol_r.shape"
   ]
  },
  {
   "cell_type": "code",
   "execution_count": 787,
   "metadata": {
    "collapsed": false
   },
   "outputs": [
    {
     "data": {
      "text/plain": [
       "(1, 2, 4, 2, 1, 2)"
      ]
     },
     "execution_count": 787,
     "metadata": {},
     "output_type": "execute_result"
    }
   ],
   "source": [
    "# missing col2im for shaping\n",
    "((np.tile(epsilon2[0][:,:,np.newaxis, np.newaxis], (1,1,kh,kw,1,1)))/(kh*kw)).shape"
   ]
  },
  {
   "cell_type": "code",
   "execution_count": 778,
   "metadata": {
    "collapsed": false
   },
   "outputs": [
    {
     "data": {
      "text/plain": [
       "(2, 2, 1, 1, 2)"
      ]
     },
     "execution_count": 778,
     "metadata": {},
     "output_type": "execute_result"
    }
   ],
   "source": [
    "epsilon2[0][:,:,np.newaxis, np.newaxis].shape"
   ]
  },
  {
   "cell_type": "code",
   "execution_count": 779,
   "metadata": {
    "collapsed": false
   },
   "outputs": [
    {
     "data": {
      "text/plain": [
       "(1, 2, 1, 1, 2, 2)"
      ]
     },
     "execution_count": 779,
     "metadata": {},
     "output_type": "execute_result"
    }
   ],
   "source": [
    "epsilon2[:,:,np.newaxis, np.newaxis].shape"
   ]
  },
  {
   "cell_type": "code",
   "execution_count": 780,
   "metadata": {
    "collapsed": false
   },
   "outputs": [
    {
     "data": {
      "text/plain": [
       "(1, 2, 2, 2)"
      ]
     },
     "execution_count": 780,
     "metadata": {},
     "output_type": "execute_result"
    }
   ],
   "source": [
    "epsilon2.shape"
   ]
  },
  {
   "cell_type": "code",
   "execution_count": 790,
   "metadata": {
    "collapsed": false
   },
   "outputs": [
    {
     "data": {
      "text/plain": [
       "(1, 2, 4, 4)"
      ]
     },
     "execution_count": 790,
     "metadata": {},
     "output_type": "execute_result"
    }
   ],
   "source": [
    "backward_mean(y2,epsilon2).shape"
   ]
  },
  {
   "cell_type": "code",
   "execution_count": 789,
   "metadata": {
    "collapsed": false
   },
   "outputs": [
    {
     "data": {
      "text/plain": [
       "array([ 1.,  2.,  3.,  4.,  5.,  6.,  7.,  8.])"
      ]
     },
     "execution_count": 789,
     "metadata": {},
     "output_type": "execute_result"
    }
   ],
   "source": [
    "epsilon2.ravel()"
   ]
  },
  {
   "cell_type": "code",
   "execution_count": 792,
   "metadata": {
    "collapsed": false
   },
   "outputs": [
    {
     "data": {
      "text/plain": [
       "(2, 1, 2, 2)"
      ]
     },
     "execution_count": 792,
     "metadata": {},
     "output_type": "execute_result"
    }
   ],
   "source": [
    "W.shape"
   ]
  },
  {
   "cell_type": "code",
   "execution_count": 795,
   "metadata": {
    "collapsed": false
   },
   "outputs": [
    {
     "data": {
      "text/plain": [
       "(1, 1, 4, 4)"
      ]
     },
     "execution_count": 795,
     "metadata": {},
     "output_type": "execute_result"
    }
   ],
   "source": [
    "backward_mean(y2,W).shape"
   ]
  },
  {
   "cell_type": "code",
   "execution_count": 794,
   "metadata": {
    "collapsed": false
   },
   "outputs": [
    {
     "data": {
      "text/plain": [
       "(1, 2, 4, 4)"
      ]
     },
     "execution_count": 794,
     "metadata": {},
     "output_type": "execute_result"
    }
   ],
   "source": [
    "y2.shape"
   ]
  },
  {
   "cell_type": "code",
   "execution_count": 796,
   "metadata": {
    "collapsed": false
   },
   "outputs": [
    {
     "ename": "IndexError",
     "evalue": "index 1 is out of bounds for axis 0 with size 1",
     "output_type": "error",
     "traceback": [
      "\u001b[0;31m---------------------------------------------------------------------------\u001b[0m",
      "\u001b[0;31mIndexError\u001b[0m                                Traceback (most recent call last)",
      "\u001b[0;32m<ipython-input-796-8a9756f0638d>\u001b[0m in \u001b[0;36m<module>\u001b[0;34m()\u001b[0m\n\u001b[0;32m----> 1\u001b[0;31m \u001b[0mbackward_max\u001b[0m\u001b[0;34m(\u001b[0m\u001b[0my2\u001b[0m\u001b[0;34m,\u001b[0m\u001b[0mW\u001b[0m\u001b[0;34m)\u001b[0m\u001b[0;34m.\u001b[0m\u001b[0mshape\u001b[0m\u001b[0;34m\u001b[0m\u001b[0m\n\u001b[0m",
      "\u001b[0;32m<ipython-input-783-15df5c92a104>\u001b[0m in \u001b[0;36mbackward_max\u001b[0;34m(x, gy)\u001b[0m\n\u001b[1;32m      9\u001b[0m     \u001b[0mgcol_r\u001b[0m \u001b[0;34m=\u001b[0m \u001b[0mnp\u001b[0m\u001b[0;34m.\u001b[0m\u001b[0mrollaxis\u001b[0m\u001b[0;34m(\u001b[0m\u001b[0mgcol\u001b[0m\u001b[0;34m.\u001b[0m\u001b[0mreshape\u001b[0m\u001b[0;34m(\u001b[0m\u001b[0mn\u001b[0m\u001b[0;34m,\u001b[0m \u001b[0mc\u001b[0m\u001b[0;34m,\u001b[0m \u001b[0;34m-\u001b[0m\u001b[0;36m1\u001b[0m\u001b[0;34m,\u001b[0m \u001b[0mout_h\u001b[0m\u001b[0;34m,\u001b[0m \u001b[0mout_w\u001b[0m\u001b[0;34m)\u001b[0m\u001b[0;34m,\u001b[0m \u001b[0;36m2\u001b[0m\u001b[0;34m)\u001b[0m\u001b[0;34m\u001b[0m\u001b[0m\n\u001b[1;32m     10\u001b[0m     \u001b[0;32mfor\u001b[0m \u001b[0mi\u001b[0m \u001b[0;32min\u001b[0m \u001b[0mnp\u001b[0m\u001b[0;34m.\u001b[0m\u001b[0mndindex\u001b[0m\u001b[0;34m(\u001b[0m\u001b[0mn\u001b[0m\u001b[0;34m,\u001b[0m \u001b[0mc\u001b[0m\u001b[0;34m,\u001b[0m \u001b[0mout_h\u001b[0m\u001b[0;34m,\u001b[0m \u001b[0mout_w\u001b[0m\u001b[0;34m)\u001b[0m\u001b[0;34m:\u001b[0m\u001b[0;34m\u001b[0m\u001b[0m\n\u001b[0;32m---> 11\u001b[0;31m         \u001b[0mgcol_r\u001b[0m\u001b[0;34m[\u001b[0m\u001b[0mindexes\u001b[0m\u001b[0;34m[\u001b[0m\u001b[0mi\u001b[0m\u001b[0;34m]\u001b[0m\u001b[0;34m]\u001b[0m\u001b[0;34m[\u001b[0m\u001b[0mi\u001b[0m\u001b[0;34m]\u001b[0m \u001b[0;34m=\u001b[0m \u001b[0mgy\u001b[0m\u001b[0;34m[\u001b[0m\u001b[0mi\u001b[0m\u001b[0;34m]\u001b[0m\u001b[0;34m\u001b[0m\u001b[0m\n\u001b[0m\u001b[1;32m     12\u001b[0m \u001b[0;34m\u001b[0m\u001b[0m\n\u001b[1;32m     13\u001b[0m     \u001b[0mgx\u001b[0m \u001b[0;34m=\u001b[0m \u001b[0mcol2im\u001b[0m\u001b[0;34m(\u001b[0m\u001b[0mgcol\u001b[0m\u001b[0;34m,\u001b[0m \u001b[0msy\u001b[0m\u001b[0;34m,\u001b[0m \u001b[0msx\u001b[0m\u001b[0;34m,\u001b[0m \u001b[0mph\u001b[0m\u001b[0;34m,\u001b[0m \u001b[0mpw\u001b[0m\u001b[0;34m,\u001b[0m \u001b[0mh\u001b[0m\u001b[0;34m,\u001b[0m \u001b[0mw\u001b[0m\u001b[0;34m)\u001b[0m\u001b[0;34m\u001b[0m\u001b[0m\n",
      "\u001b[0;31mIndexError\u001b[0m: index 1 is out of bounds for axis 0 with size 1"
     ]
    }
   ],
   "source": [
    "backward_max(y2,W).shape"
   ]
  },
  {
   "cell_type": "code",
   "execution_count": null,
   "metadata": {
    "collapsed": true
   },
   "outputs": [],
   "source": []
  }
 ],
 "metadata": {
  "kernelspec": {
   "display_name": "Python 2",
   "language": "python",
   "name": "python2"
  },
  "language_info": {
   "codemirror_mode": {
    "name": "ipython",
    "version": 2
   },
   "file_extension": ".py",
   "mimetype": "text/x-python",
   "name": "python",
   "nbconvert_exporter": "python",
   "pygments_lexer": "ipython2",
   "version": "2.7.10"
  }
 },
 "nbformat": 4,
 "nbformat_minor": 0
}
