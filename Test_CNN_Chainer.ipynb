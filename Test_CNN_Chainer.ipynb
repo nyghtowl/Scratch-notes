{
 "cells": [
  {
   "cell_type": "code",
   "execution_count": 1,
   "metadata": {
    "collapsed": false
   },
   "outputs": [],
   "source": [
    "import numpy as np\n",
    "import gzip\n",
    "import cPickle"
   ]
  },
  {
   "cell_type": "code",
   "execution_count": 2,
   "metadata": {
    "collapsed": true
   },
   "outputs": [],
   "source": [
    "import six"
   ]
  },
  {
   "cell_type": "code",
   "execution_count": 3,
   "metadata": {
    "collapsed": true
   },
   "outputs": [],
   "source": [
    "DATA_FILENAME = '/Users/merlin/Documents/Neural_Net_Newbies/data/mnist.pkl.gz'"
   ]
  },
  {
   "cell_type": "markdown",
   "metadata": {},
   "source": [
    "### im2col"
   ]
  },
  {
   "cell_type": "code",
   "execution_count": 4,
   "metadata": {
    "collapsed": false
   },
   "outputs": [],
   "source": [
    "f = gzip.open(DATA_FILENAME,'rb')\n",
    "train_set, valid_set, test_set = cPickle.load(f)\n",
    "f.close()"
   ]
  },
  {
   "cell_type": "code",
   "execution_count": 5,
   "metadata": {
    "collapsed": false
   },
   "outputs": [],
   "source": [
    "train_set_x, train_set_y = train_set"
   ]
  },
  {
   "cell_type": "code",
   "execution_count": 89,
   "metadata": {
    "collapsed": false
   },
   "outputs": [],
   "source": [
    "oneEx = train_set_x[0]"
   ]
  },
  {
   "cell_type": "code",
   "execution_count": 92,
   "metadata": {
    "collapsed": false
   },
   "outputs": [],
   "source": [
    "img = oneEx.reshape(1,1,28,28)"
   ]
  },
  {
   "cell_type": "code",
   "execution_count": 93,
   "metadata": {
    "collapsed": true
   },
   "outputs": [],
   "source": [
    "label = train_set_y[0]"
   ]
  },
  {
   "cell_type": "code",
   "execution_count": 94,
   "metadata": {
    "collapsed": false
   },
   "outputs": [],
   "source": [
    "n, c, h, w = img.shape\n",
    "# num examples, channels in, height, width"
   ]
  },
  {
   "cell_type": "code",
   "execution_count": 95,
   "metadata": {
    "collapsed": false
   },
   "outputs": [],
   "source": [
    "ph = 1\n",
    "pw = 1\n",
    "sy = 3\n",
    "sx = 3\n",
    "pval = False"
   ]
  },
  {
   "cell_type": "code",
   "execution_count": 96,
   "metadata": {
    "collapsed": false
   },
   "outputs": [],
   "source": [
    "img = np.pad(img,((0, 0), (0, 0), (ph, ph + sy - 1), (pw, pw + sx - 1)),\n",
    "mode='constant', constant_values=(pval,))"
   ]
  },
  {
   "cell_type": "code",
   "execution_count": 97,
   "metadata": {
    "collapsed": false
   },
   "outputs": [
    {
     "data": {
      "text/plain": [
       "(1, 1, 32, 32)"
      ]
     },
     "execution_count": 97,
     "metadata": {},
     "output_type": "execute_result"
    }
   ],
   "source": [
    "img.shape"
   ]
  },
  {
   "cell_type": "code",
   "execution_count": 98,
   "metadata": {
    "collapsed": true
   },
   "outputs": [],
   "source": [
    "kh=9\n",
    "kw=9"
   ]
  },
  {
   "cell_type": "code",
   "execution_count": 99,
   "metadata": {
    "collapsed": true
   },
   "outputs": [],
   "source": [
    "out_h = (h-kh+ph*2)/sy + 1"
   ]
  },
  {
   "cell_type": "code",
   "execution_count": 100,
   "metadata": {
    "collapsed": false
   },
   "outputs": [
    {
     "data": {
      "text/plain": [
       "8"
      ]
     },
     "execution_count": 100,
     "metadata": {},
     "output_type": "execute_result"
    }
   ],
   "source": [
    "out_h"
   ]
  },
  {
   "cell_type": "code",
   "execution_count": 101,
   "metadata": {
    "collapsed": true
   },
   "outputs": [],
   "source": [
    "out_w=out_h"
   ]
  },
  {
   "cell_type": "code",
   "execution_count": 102,
   "metadata": {
    "collapsed": false
   },
   "outputs": [],
   "source": [
    "col = np.ndarray((n,c,kh,kw,out_h,out_w), dtype=img.dtype)"
   ]
  },
  {
   "cell_type": "code",
   "execution_count": 103,
   "metadata": {
    "collapsed": false
   },
   "outputs": [
    {
     "data": {
      "text/plain": [
       "(1, 1, 9, 9, 8, 8)"
      ]
     },
     "execution_count": 103,
     "metadata": {},
     "output_type": "execute_result"
    }
   ],
   "source": [
    "col.shape"
   ]
  },
  {
   "cell_type": "code",
   "execution_count": 104,
   "metadata": {
    "collapsed": false
   },
   "outputs": [],
   "source": [
    "for i in six.moves.range(kh): \n",
    "    i_lim = i + sy * out_h\n",
    "    for j in six.moves.range(kw):\n",
    "        j_lim = j + sx * out_w\n",
    "        get = img[:, :, i:i_lim:sy, j:j_lim:sx]\n",
    "        col_assign = col[:, :, i, j, :, :]\n",
    "        col[:, :, i, j, :, :] = get"
   ]
  },
  {
   "cell_type": "code",
   "execution_count": 105,
   "metadata": {
    "collapsed": false
   },
   "outputs": [
    {
     "data": {
      "text/plain": [
       "(1, 1, 8, 8)"
      ]
     },
     "execution_count": 105,
     "metadata": {},
     "output_type": "execute_result"
    }
   ],
   "source": [
    "col_assign.shape"
   ]
  },
  {
   "cell_type": "code",
   "execution_count": 106,
   "metadata": {
    "collapsed": false
   },
   "outputs": [
    {
     "name": "stdout",
     "output_type": "stream",
     "text": [
      "32 32\n"
     ]
    }
   ],
   "source": [
    "print i_lim, j_lim"
   ]
  },
  {
   "cell_type": "code",
   "execution_count": 107,
   "metadata": {
    "collapsed": false
   },
   "outputs": [
    {
     "data": {
      "text/plain": [
       "(1, 1, 8, 8)"
      ]
     },
     "execution_count": 107,
     "metadata": {},
     "output_type": "execute_result"
    }
   ],
   "source": [
    "get.shape"
   ]
  },
  {
   "cell_type": "code",
   "execution_count": 108,
   "metadata": {
    "collapsed": false
   },
   "outputs": [
    {
     "data": {
      "text/plain": [
       "(1, 1, 9, 9, 8, 8)"
      ]
     },
     "execution_count": 108,
     "metadata": {},
     "output_type": "execute_result"
    }
   ],
   "source": [
    "col.shape"
   ]
  },
  {
   "cell_type": "code",
   "execution_count": 109,
   "metadata": {
    "collapsed": false
   },
   "outputs": [],
   "source": [
    "weights = np.random.rand(20,1,9,9)"
   ]
  },
  {
   "cell_type": "code",
   "execution_count": 110,
   "metadata": {
    "collapsed": false
   },
   "outputs": [
    {
     "data": {
      "text/plain": [
       "(20, 1, 9, 9)"
      ]
     },
     "execution_count": 110,
     "metadata": {},
     "output_type": "execute_result"
    }
   ],
   "source": [
    "weights.shape"
   ]
  },
  {
   "cell_type": "code",
   "execution_count": 111,
   "metadata": {
    "collapsed": false
   },
   "outputs": [],
   "source": [
    "result = np.tensordot(col, weights, ([1, 2, 3], [1, 2, 3]))"
   ]
  },
  {
   "cell_type": "code",
   "execution_count": 112,
   "metadata": {
    "collapsed": false
   },
   "outputs": [
    {
     "data": {
      "text/plain": [
       "(1, 8, 8, 20)"
      ]
     },
     "execution_count": 112,
     "metadata": {},
     "output_type": "execute_result"
    }
   ],
   "source": [
    "result.shape"
   ]
  },
  {
   "cell_type": "code",
   "execution_count": 113,
   "metadata": {
    "collapsed": false
   },
   "outputs": [
    {
     "data": {
      "text/plain": [
       "(1, 1, 9, 9, 8, 8)"
      ]
     },
     "execution_count": 113,
     "metadata": {},
     "output_type": "execute_result"
    }
   ],
   "source": [
    "col.shape"
   ]
  },
  {
   "cell_type": "code",
   "execution_count": 114,
   "metadata": {
    "collapsed": true
   },
   "outputs": [],
   "source": [
    "bias = np.random.rand(20,)"
   ]
  },
  {
   "cell_type": "code",
   "execution_count": 115,
   "metadata": {
    "collapsed": false
   },
   "outputs": [
    {
     "data": {
      "text/plain": [
       "(20,)"
      ]
     },
     "execution_count": 115,
     "metadata": {},
     "output_type": "execute_result"
    }
   ],
   "source": [
    "bias.shape"
   ]
  },
  {
   "cell_type": "code",
   "execution_count": 116,
   "metadata": {
    "collapsed": true
   },
   "outputs": [],
   "source": [
    "result += bias"
   ]
  },
  {
   "cell_type": "code",
   "execution_count": 117,
   "metadata": {
    "collapsed": false
   },
   "outputs": [
    {
     "data": {
      "text/plain": [
       "(1, 8, 8, 20)"
      ]
     },
     "execution_count": 117,
     "metadata": {},
     "output_type": "execute_result"
    }
   ],
   "source": [
    "result.shape"
   ]
  },
  {
   "cell_type": "code",
   "execution_count": 118,
   "metadata": {
    "collapsed": true
   },
   "outputs": [],
   "source": [
    "featureMapWidth = (w-kw+pw*2)/sx + 1\n",
    "featureMapHeight = (h-kh+ph*2)/sy + 1 "
   ]
  },
  {
   "cell_type": "code",
   "execution_count": 119,
   "metadata": {
    "collapsed": false
   },
   "outputs": [
    {
     "data": {
      "text/plain": [
       "8"
      ]
     },
     "execution_count": 119,
     "metadata": {},
     "output_type": "execute_result"
    }
   ],
   "source": [
    "featureMapHeight"
   ]
  },
  {
   "cell_type": "markdown",
   "metadata": {},
   "source": [
    "### Checking activations & backprop - CNN"
   ]
  },
  {
   "cell_type": "code",
   "execution_count": 89,
   "metadata": {
    "collapsed": false
   },
   "outputs": [],
   "source": [
    "np.set_printoptions(threshold=np.nan)"
   ]
  },
  {
   "cell_type": "code",
   "execution_count": 90,
   "metadata": {
    "collapsed": false
   },
   "outputs": [],
   "source": [
    "new_val = np.array([[[[1,1,1,1,1,1,1,1],[2,2,2,2,2,2,2,2],[3,3,3,3,3,3,3,3],[4,4,4,4,4,4,4,4],[1,1,1,1,1,1,1,1],[2,2,2,2,2,2,2,2],[3,3,3,3,3,3,3,3],[4,4,4,4,4,4,4,4]]]])"
   ]
  },
  {
   "cell_type": "code",
   "execution_count": 91,
   "metadata": {
    "collapsed": false
   },
   "outputs": [
    {
     "data": {
      "text/plain": [
       "array([1, 1, 1, 1, 1, 1, 1, 1, 2, 2, 2, 2, 2, 2, 2, 2, 3, 3, 3, 3, 3, 3, 3,\n",
       "       3, 4, 4, 4, 4, 4, 4, 4, 4, 1, 1, 1, 1, 1, 1, 1, 1, 2, 2, 2, 2, 2, 2,\n",
       "       2, 2, 3, 3, 3, 3, 3, 3, 3, 3, 4, 4, 4, 4, 4, 4, 4, 4])"
      ]
     },
     "execution_count": 91,
     "metadata": {},
     "output_type": "execute_result"
    }
   ],
   "source": [
    "new_val.ravel()"
   ]
  },
  {
   "cell_type": "code",
   "execution_count": 92,
   "metadata": {
    "collapsed": true
   },
   "outputs": [],
   "source": [
    "# can't see rollign if use smaller version\n",
    "#new_val = np.array([[[[1,1,1,1],[2,2,2,2],[3,3,3,3],[4,4,4,4]]]])"
   ]
  },
  {
   "cell_type": "code",
   "execution_count": 93,
   "metadata": {
    "collapsed": false
   },
   "outputs": [
    {
     "data": {
      "text/plain": [
       "(1, 1, 8, 8)"
      ]
     },
     "execution_count": 93,
     "metadata": {},
     "output_type": "execute_result"
    }
   ],
   "source": [
    "new_val.shape"
   ]
  },
  {
   "cell_type": "code",
   "execution_count": 94,
   "metadata": {
    "collapsed": true
   },
   "outputs": [],
   "source": [
    "n, c, h, w = new_val.shape\n",
    "kh=2\n",
    "kw=2\n",
    "ph = 0\n",
    "pw = 0\n",
    "sy = 2\n",
    "sx = 2\n",
    "depth = 2"
   ]
  },
  {
   "cell_type": "code",
   "execution_count": 95,
   "metadata": {
    "collapsed": true
   },
   "outputs": [],
   "source": [
    "def im2col(img, kh, kw, sy, sx, ph, pw, pval=0, cover_all=False):\n",
    "    n, c, h, w = img.shape\n",
    "    featureMapWidth = (w-kw+pw*2)/sx + 1\n",
    "    featureMapHeight = (h-kh+ph*2)/sy + 1 \n",
    "\n",
    "    img = np.pad(img, ((0, 0), (0, 0), (ph, ph + sy - 1), (pw, pw + sx - 1)),\n",
    "                    mode='constant', constant_values=(pval,))\n",
    "    col = np.ndarray((n, c, kh, kw, featureMapHeight, featureMapWidth), dtype=img.dtype)\n",
    "\n",
    "    for i in six.moves.range(kh):\n",
    "        i_lim = i + sy * featureMapHeight\n",
    "        for j in six.moves.range(kw):\n",
    "            j_lim = j + sx * featureMapWidth\n",
    "            col[:, :, i, j, :, :] = img[:, :, i:i_lim:sy, j:j_lim:sx]\n",
    "    return col\n",
    "\n",
    "def col2im(col, sy, sx, ph, pw, h, w):\n",
    "    n, c, kh, kw, out_h, out_w = col.shape\n",
    "\n",
    "    img = np.zeros((n, c, h + 2 * ph + sy - 1, w + 2 * pw + sx - 1), dtype=col.dtype)\n",
    "    for i in six.moves.range(kh):\n",
    "        i_lim = i + sy * out_h\n",
    "        for j in six.moves.range(kw):\n",
    "            j_lim = j + sx * out_w\n",
    "            img[:, :, i:i_lim:sy, j:j_lim:sx] += col[:, :, i, j, :, :]\n",
    "\n",
    "    return img[:, :, ph:h + ph, pw:w + pw]"
   ]
  },
  {
   "cell_type": "code",
   "execution_count": 96,
   "metadata": {
    "collapsed": false
   },
   "outputs": [],
   "source": [
    "# W = np.random.rand(depth, c, kh, kw)\n",
    "# b = np.random.rand(depth,)\n",
    "\n",
    "W = np.array([[[[ 0.5,  0.5 ], [ 0.5,  0.5]]], [[[ 0.5,  0.5], [ 0.5,  0.5]]]])\n",
    "b = np.array([ 1,  1])"
   ]
  },
  {
   "cell_type": "code",
   "execution_count": 97,
   "metadata": {
    "collapsed": false
   },
   "outputs": [
    {
     "data": {
      "text/plain": [
       "(2, 1, 2, 2)"
      ]
     },
     "execution_count": 97,
     "metadata": {},
     "output_type": "execute_result"
    }
   ],
   "source": [
    "W.shape"
   ]
  },
  {
   "cell_type": "code",
   "execution_count": 98,
   "metadata": {
    "collapsed": true
   },
   "outputs": [],
   "source": [
    "featureMapWidth = (w-kw+pw*2)/sx + 1\n",
    "featureMapHeight = (h-kh+ph*2)/sy + 1 "
   ]
  },
  {
   "cell_type": "code",
   "execution_count": 99,
   "metadata": {
    "collapsed": false
   },
   "outputs": [],
   "source": [
    "padded = np.pad(new_val , ((0, 0), (0, 0), (ph, ph + sy - 1), (pw, pw + sx - 1)),\n",
    "                    mode='constant')"
   ]
  },
  {
   "cell_type": "code",
   "execution_count": 100,
   "metadata": {
    "collapsed": false
   },
   "outputs": [
    {
     "data": {
      "text/plain": [
       "(1, 1, 9, 9)"
      ]
     },
     "execution_count": 100,
     "metadata": {},
     "output_type": "execute_result"
    }
   ],
   "source": [
    "padded.shape"
   ]
  },
  {
   "cell_type": "code",
   "execution_count": 101,
   "metadata": {
    "collapsed": false
   },
   "outputs": [
    {
     "data": {
      "text/plain": [
       "array([[[[1, 1, 1, 1, 1, 1, 1, 1, 0],\n",
       "         [2, 2, 2, 2, 2, 2, 2, 2, 0],\n",
       "         [3, 3, 3, 3, 3, 3, 3, 3, 0],\n",
       "         [4, 4, 4, 4, 4, 4, 4, 4, 0],\n",
       "         [1, 1, 1, 1, 1, 1, 1, 1, 0],\n",
       "         [2, 2, 2, 2, 2, 2, 2, 2, 0],\n",
       "         [3, 3, 3, 3, 3, 3, 3, 3, 0],\n",
       "         [4, 4, 4, 4, 4, 4, 4, 4, 0],\n",
       "         [0, 0, 0, 0, 0, 0, 0, 0, 0]]]])"
      ]
     },
     "execution_count": 101,
     "metadata": {},
     "output_type": "execute_result"
    }
   ],
   "source": [
    "padded"
   ]
  },
  {
   "cell_type": "code",
   "execution_count": 102,
   "metadata": {
    "collapsed": false
   },
   "outputs": [],
   "source": [
    "col = np.ndarray((n, c, kh, kw, featureMapHeight, featureMapWidth))"
   ]
  },
  {
   "cell_type": "code",
   "execution_count": 103,
   "metadata": {
    "collapsed": false
   },
   "outputs": [
    {
     "data": {
      "text/plain": [
       "(1, 1, 2, 2, 4, 4)"
      ]
     },
     "execution_count": 103,
     "metadata": {},
     "output_type": "execute_result"
    }
   ],
   "source": [
    "col.shape"
   ]
  },
  {
   "cell_type": "code",
   "execution_count": 104,
   "metadata": {
    "collapsed": false
   },
   "outputs": [],
   "source": [
    "for i in six.moves.range(kh):\n",
    "    i_lim = i + sy * featureMapHeight\n",
    "    for j in six.moves.range(kw):\n",
    "        j_lim = j + sx * featureMapWidth\n",
    "        col[:, :, i, j, :, :] = new_val[:, :, i:i_lim:sy, j:j_lim:sx]"
   ]
  },
  {
   "cell_type": "code",
   "execution_count": 105,
   "metadata": {
    "collapsed": false
   },
   "outputs": [
    {
     "data": {
      "text/plain": [
       "array([[[[[[ 1.,  1.,  1.,  1.],\n",
       "           [ 3.,  3.,  3.,  3.],\n",
       "           [ 1.,  1.,  1.,  1.],\n",
       "           [ 3.,  3.,  3.,  3.]],\n",
       "\n",
       "          [[ 1.,  1.,  1.,  1.],\n",
       "           [ 3.,  3.,  3.,  3.],\n",
       "           [ 1.,  1.,  1.,  1.],\n",
       "           [ 3.,  3.,  3.,  3.]]],\n",
       "\n",
       "\n",
       "         [[[ 2.,  2.,  2.,  2.],\n",
       "           [ 4.,  4.,  4.,  4.],\n",
       "           [ 2.,  2.,  2.,  2.],\n",
       "           [ 4.,  4.,  4.,  4.]],\n",
       "\n",
       "          [[ 2.,  2.,  2.,  2.],\n",
       "           [ 4.,  4.,  4.,  4.],\n",
       "           [ 2.,  2.,  2.,  2.],\n",
       "           [ 4.,  4.,  4.,  4.]]]]]])"
      ]
     },
     "execution_count": 105,
     "metadata": {},
     "output_type": "execute_result"
    }
   ],
   "source": [
    "col "
   ]
  },
  {
   "cell_type": "code",
   "execution_count": 106,
   "metadata": {
    "collapsed": true
   },
   "outputs": [],
   "source": [
    "col = im2col(new_val, kh, kw, sy, sx, ph, pw)"
   ]
  },
  {
   "cell_type": "code",
   "execution_count": 107,
   "metadata": {
    "collapsed": false
   },
   "outputs": [
    {
     "data": {
      "text/plain": [
       "array([[[[[[1, 1, 1, 1],\n",
       "           [3, 3, 3, 3],\n",
       "           [1, 1, 1, 1],\n",
       "           [3, 3, 3, 3]],\n",
       "\n",
       "          [[1, 1, 1, 1],\n",
       "           [3, 3, 3, 3],\n",
       "           [1, 1, 1, 1],\n",
       "           [3, 3, 3, 3]]],\n",
       "\n",
       "\n",
       "         [[[2, 2, 2, 2],\n",
       "           [4, 4, 4, 4],\n",
       "           [2, 2, 2, 2],\n",
       "           [4, 4, 4, 4]],\n",
       "\n",
       "          [[2, 2, 2, 2],\n",
       "           [4, 4, 4, 4],\n",
       "           [2, 2, 2, 2],\n",
       "           [4, 4, 4, 4]]]]]])"
      ]
     },
     "execution_count": 107,
     "metadata": {},
     "output_type": "execute_result"
    }
   ],
   "source": [
    "col #convolved"
   ]
  },
  {
   "cell_type": "code",
   "execution_count": 108,
   "metadata": {
    "collapsed": false
   },
   "outputs": [
    {
     "data": {
      "text/plain": [
       "(1, 1, 2, 2, 4, 4)"
      ]
     },
     "execution_count": 108,
     "metadata": {},
     "output_type": "execute_result"
    }
   ],
   "source": [
    "col.shape"
   ]
  },
  {
   "cell_type": "code",
   "execution_count": 109,
   "metadata": {
    "collapsed": true
   },
   "outputs": [],
   "source": [
    "y = np.tensordot(col, W, ([1, 2, 3], [1, 2, 3]))"
   ]
  },
  {
   "cell_type": "code",
   "execution_count": 110,
   "metadata": {
    "collapsed": false
   },
   "outputs": [
    {
     "data": {
      "text/plain": [
       "(2, 1, 2, 2)"
      ]
     },
     "execution_count": 110,
     "metadata": {},
     "output_type": "execute_result"
    }
   ],
   "source": [
    "W.shape"
   ]
  },
  {
   "cell_type": "code",
   "execution_count": 111,
   "metadata": {
    "collapsed": false
   },
   "outputs": [
    {
     "data": {
      "text/plain": [
       "array([[[[ 3.,  3.],\n",
       "         [ 3.,  3.],\n",
       "         [ 3.,  3.],\n",
       "         [ 3.,  3.]],\n",
       "\n",
       "        [[ 7.,  7.],\n",
       "         [ 7.,  7.],\n",
       "         [ 7.,  7.],\n",
       "         [ 7.,  7.]],\n",
       "\n",
       "        [[ 3.,  3.],\n",
       "         [ 3.,  3.],\n",
       "         [ 3.,  3.],\n",
       "         [ 3.,  3.]],\n",
       "\n",
       "        [[ 7.,  7.],\n",
       "         [ 7.,  7.],\n",
       "         [ 7.,  7.],\n",
       "         [ 7.,  7.]]]])"
      ]
     },
     "execution_count": 111,
     "metadata": {},
     "output_type": "execute_result"
    }
   ],
   "source": [
    "y"
   ]
  },
  {
   "cell_type": "code",
   "execution_count": 112,
   "metadata": {
    "collapsed": false
   },
   "outputs": [
    {
     "data": {
      "text/plain": [
       "(1, 4, 4, 2)"
      ]
     },
     "execution_count": 112,
     "metadata": {},
     "output_type": "execute_result"
    }
   ],
   "source": [
    "y.shape"
   ]
  },
  {
   "cell_type": "code",
   "execution_count": 113,
   "metadata": {
    "collapsed": false
   },
   "outputs": [
    {
     "data": {
      "text/plain": [
       "array([1, 1])"
      ]
     },
     "execution_count": 113,
     "metadata": {},
     "output_type": "execute_result"
    }
   ],
   "source": [
    "b"
   ]
  },
  {
   "cell_type": "code",
   "execution_count": 114,
   "metadata": {
    "collapsed": true
   },
   "outputs": [],
   "source": [
    "if b is not None: new_y = y+ b"
   ]
  },
  {
   "cell_type": "code",
   "execution_count": 115,
   "metadata": {
    "collapsed": false
   },
   "outputs": [
    {
     "data": {
      "text/plain": [
       "array([[[[ 4.,  4.],\n",
       "         [ 4.,  4.],\n",
       "         [ 4.,  4.],\n",
       "         [ 4.,  4.]],\n",
       "\n",
       "        [[ 8.,  8.],\n",
       "         [ 8.,  8.],\n",
       "         [ 8.,  8.],\n",
       "         [ 8.,  8.]],\n",
       "\n",
       "        [[ 4.,  4.],\n",
       "         [ 4.,  4.],\n",
       "         [ 4.,  4.],\n",
       "         [ 4.,  4.]],\n",
       "\n",
       "        [[ 8.,  8.],\n",
       "         [ 8.,  8.],\n",
       "         [ 8.,  8.],\n",
       "         [ 8.,  8.]]]])"
      ]
     },
     "execution_count": 115,
     "metadata": {},
     "output_type": "execute_result"
    }
   ],
   "source": [
    "new_y"
   ]
  },
  {
   "cell_type": "code",
   "execution_count": 116,
   "metadata": {
    "collapsed": false
   },
   "outputs": [
    {
     "data": {
      "text/plain": [
       "array([ 4.,  4.,  4.,  4.,  4.,  4.,  4.,  4.,  8.,  8.,  8.,  8.,  8.,\n",
       "        8.,  8.,  8.,  4.,  4.,  4.,  4.,  4.,  4.,  4.,  4.,  8.,  8.,\n",
       "        8.,  8.,  8.,  8.,  8.,  8.])"
      ]
     },
     "execution_count": 116,
     "metadata": {},
     "output_type": "execute_result"
    }
   ],
   "source": [
    "new_y.ravel()"
   ]
  },
  {
   "cell_type": "code",
   "execution_count": 117,
   "metadata": {
    "collapsed": false
   },
   "outputs": [
    {
     "data": {
      "text/plain": [
       "(1, 4, 4, 2)"
      ]
     },
     "execution_count": 117,
     "metadata": {},
     "output_type": "execute_result"
    }
   ],
   "source": [
    "new_y.shape"
   ]
  },
  {
   "cell_type": "code",
   "execution_count": 118,
   "metadata": {
    "collapsed": false
   },
   "outputs": [],
   "source": [
    "y2 = np.rollaxis(new_y, 3, 1)"
   ]
  },
  {
   "cell_type": "code",
   "execution_count": 119,
   "metadata": {
    "collapsed": false
   },
   "outputs": [
    {
     "data": {
      "text/plain": [
       "array([ 4.,  4.,  4.,  4.,  8.,  8.,  8.,  8.,  4.,  4.,  4.,  4.,  8.,\n",
       "        8.,  8.,  8.,  4.,  4.,  4.,  4.,  8.,  8.,  8.,  8.,  4.,  4.,\n",
       "        4.,  4.,  8.,  8.,  8.,  8.])"
      ]
     },
     "execution_count": 119,
     "metadata": {},
     "output_type": "execute_result"
    }
   ],
   "source": [
    "y2.ravel()"
   ]
  },
  {
   "cell_type": "code",
   "execution_count": 120,
   "metadata": {
    "collapsed": false
   },
   "outputs": [
    {
     "data": {
      "text/plain": [
       "(1, 2, 4, 4)"
      ]
     },
     "execution_count": 120,
     "metadata": {},
     "output_type": "execute_result"
    }
   ],
   "source": [
    "y2.shape"
   ]
  },
  {
   "cell_type": "code",
   "execution_count": 121,
   "metadata": {
    "collapsed": false
   },
   "outputs": [
    {
     "data": {
      "text/plain": [
       "(1, 2, 4, 4)"
      ]
     },
     "execution_count": 121,
     "metadata": {},
     "output_type": "execute_result"
    }
   ],
   "source": [
    "y2.shape"
   ]
  },
  {
   "cell_type": "code",
   "execution_count": 122,
   "metadata": {
    "collapsed": false,
    "scrolled": true
   },
   "outputs": [
    {
     "data": {
      "text/plain": [
       "array([[[[ 4.,  4.,  4.,  4.],\n",
       "         [ 8.,  8.,  8.,  8.],\n",
       "         [ 4.,  4.,  4.,  4.],\n",
       "         [ 8.,  8.,  8.,  8.]],\n",
       "\n",
       "        [[ 4.,  4.,  4.,  4.],\n",
       "         [ 8.,  8.,  8.,  8.],\n",
       "         [ 4.,  4.,  4.,  4.],\n",
       "         [ 8.,  8.,  8.,  8.]]]])"
      ]
     },
     "execution_count": 122,
     "metadata": {},
     "output_type": "execute_result"
    }
   ],
   "source": [
    "y2"
   ]
  },
  {
   "cell_type": "code",
   "execution_count": 123,
   "metadata": {
    "collapsed": true
   },
   "outputs": [],
   "source": [
    "def sigmoid(x):\n",
    "        return 1 / (1 + np.exp(-x))"
   ]
  },
  {
   "cell_type": "code",
   "execution_count": 124,
   "metadata": {
    "collapsed": false
   },
   "outputs": [],
   "source": [
    "sigmoid = np.vectorize(sigmoid)"
   ]
  },
  {
   "cell_type": "code",
   "execution_count": 125,
   "metadata": {
    "collapsed": false
   },
   "outputs": [],
   "source": [
    "r = sigmoid(y2)"
   ]
  },
  {
   "cell_type": "code",
   "execution_count": 126,
   "metadata": {
    "collapsed": false
   },
   "outputs": [
    {
     "data": {
      "text/plain": [
       "(1, 2, 4, 4)"
      ]
     },
     "execution_count": 126,
     "metadata": {},
     "output_type": "execute_result"
    }
   ],
   "source": [
    "r.shape"
   ]
  },
  {
   "cell_type": "markdown",
   "metadata": {},
   "source": [
    "#### Backprop"
   ]
  },
  {
   "cell_type": "code",
   "execution_count": 368,
   "metadata": {
    "collapsed": false
   },
   "outputs": [],
   "source": [
    "def col2im_cpu(col, sy, sx, ph, pw, h, w):\n",
    "    n, c, kh, kw, out_h, out_w = col.shape\n",
    "\n",
    "    img = np.zeros((n, c, h + 2 * ph + sy - 1, w + 2 * pw + sx - 1), dtype=col.dtype)\n",
    "    for i in six.moves.range(kh):\n",
    "        i_lim = i + sy * out_h\n",
    "        for j in six.moves.range(kw):\n",
    "            j_lim = j + sx * out_w\n",
    "            img[:, :, i:i_lim:sy, j:j_lim:sx] += col[:, :, i, j, :, :]\n",
    "\n",
    "    return img[:, :, ph:h + ph, pw:w + pw]\n",
    "\n",
    "def backward_cpu(x, gy):\n",
    "    gbias = np.array([1, 1])\n",
    "    gWeight = np.array([[[[ 0.5,  0.5 ], [ 0.5,  0.5]]], [[[ 0.5,  0.5], [ 0.5,  0.5]]]])\n",
    "    if gbias is not None:\n",
    "        gbias += gy.sum(axis=(0, 2, 3))\n",
    "    gWeight += np.tensordot(gy, col, ([0, 2, 3], [0, 4, 5]))\n",
    "    gcol = np.tensordot(W, gy, (0, 1))\n",
    "    gcol = np.rollaxis(gcol, 3)\n",
    "\n",
    "    h, w = x.shape[2:]\n",
    "    return col2im(gcol, sy, sx, ph, pw, h, w)\n",
    "\n",
    "def calcDelta(epsilon):\n",
    "    z = np.tensordot(col, W, ([1, 2, 3], [1, 2, 3]))\n",
    "    z += b\n",
    "    z = np.rollaxis(z, 3, 1)\n",
    "    d = derivative(expit, z)\n",
    "    return epsilon * d\n",
    "\n",
    "def backprop(epsilon):\n",
    "    # get z, activationDerivative, * to the epsilon for the delta\n",
    "    delta = calcDelta(epsilon)\n",
    "    \n",
    "    weight_gradient = np.tensordot(delta, col, ([0, 2, 3], [0, 4, 5]))\n",
    "    gb = delta.sum(axis=(0, 2, 3))\n",
    "    nextEpsilon = np.tensordot(W, delta, (0, 1))\n",
    "    nextEpsilon = np.rollaxis(nextEpsilon, 3)\n",
    "    \n",
    "    \n",
    "    h, w = new_val.shape[2:]\n",
    "    return col2im(nextEpsilon, sy, sx, ph, pw, h, w)"
   ]
  },
  {
   "cell_type": "code",
   "execution_count": 314,
   "metadata": {
    "collapsed": false
   },
   "outputs": [],
   "source": [
    "r2 = backprop(epsilon)"
   ]
  },
  {
   "cell_type": "code",
   "execution_count": 372,
   "metadata": {
    "collapsed": false
   },
   "outputs": [
    {
     "data": {
      "text/plain": [
       "array([[[[ 0.00039383,  0.00039383,  0.00039383,  0.00039383,  0.00039383,\n",
       "           0.00039383,  0.        ,  0.        ],\n",
       "         [ 0.00039383,  0.00039383,  0.00039383,  0.00039383,  0.00039383,\n",
       "           0.00039383,  0.        ,  0.        ],\n",
       "         [ 0.02036651,  0.02036651,  0.02036651,  0.02036651,  0.02036651,\n",
       "           0.02036651,  0.        ,  0.        ],\n",
       "         [ 0.02036651,  0.02036651,  0.02036651,  0.02036651,  0.02036651,\n",
       "           0.02036651,  0.        ,  0.        ],\n",
       "         [ 0.00039383,  0.00039383,  0.00039383,  0.00039383,  0.00039383,\n",
       "           0.00039383,  0.        ,  0.        ],\n",
       "         [ 0.00039383,  0.00039383,  0.00039383,  0.00039383,  0.00039383,\n",
       "           0.00039383,  0.        ,  0.        ],\n",
       "         [ 0.        ,  0.        ,  0.        ,  0.        ,  0.        ,\n",
       "           0.        ,  0.        ,  0.        ],\n",
       "         [ 0.        ,  0.        ,  0.        ,  0.        ,  0.        ,\n",
       "           0.        ,  0.        ,  0.        ]]]])"
      ]
     },
     "execution_count": 372,
     "metadata": {},
     "output_type": "execute_result"
    }
   ],
   "source": [
    "backward_cpu(new_val, an)"
   ]
  },
  {
   "cell_type": "code",
   "execution_count": 128,
   "metadata": {
    "collapsed": true
   },
   "outputs": [],
   "source": [
    "reverse_input = y2"
   ]
  },
  {
   "cell_type": "code",
   "execution_count": 129,
   "metadata": {
    "collapsed": false
   },
   "outputs": [],
   "source": [
    "# delta\n",
    "gy = np.array([[[[ 2, 2, 2, 2 ],[ 2, 2, 2, 2 ],[ 2, 2, 2, 2 ],[ 2, 2, 2, 2 ]], [[ 2, 2, 2, 2 ],[ 2, 2, 2, 2 ],[ 2, 2, 2, 2 ],[ 2, 2, 2, 2 ]]]])\n",
    "gb = np.array([1,1])"
   ]
  },
  {
   "cell_type": "code",
   "execution_count": 130,
   "metadata": {
    "collapsed": false
   },
   "outputs": [
    {
     "data": {
      "text/plain": [
       "(1, 2, 4, 4)"
      ]
     },
     "execution_count": 130,
     "metadata": {},
     "output_type": "execute_result"
    }
   ],
   "source": [
    "gy.shape"
   ]
  },
  {
   "cell_type": "code",
   "execution_count": 131,
   "metadata": {
    "collapsed": false
   },
   "outputs": [
    {
     "data": {
      "text/plain": [
       "array([32, 32])"
      ]
     },
     "execution_count": 131,
     "metadata": {},
     "output_type": "execute_result"
    }
   ],
   "source": [
    "gy[0].sum(axis = (1,2)) # same as gy.sum(axis = (0,2,3))"
   ]
  },
  {
   "cell_type": "code",
   "execution_count": 132,
   "metadata": {
    "collapsed": false
   },
   "outputs": [],
   "source": [
    "gb = gy[0].sum(axis = (1,2)) + gb"
   ]
  },
  {
   "cell_type": "code",
   "execution_count": 133,
   "metadata": {
    "collapsed": false
   },
   "outputs": [
    {
     "data": {
      "text/plain": [
       "array([33, 33])"
      ]
     },
     "execution_count": 133,
     "metadata": {},
     "output_type": "execute_result"
    }
   ],
   "source": [
    "gb"
   ]
  },
  {
   "cell_type": "code",
   "execution_count": 134,
   "metadata": {
    "collapsed": false
   },
   "outputs": [],
   "source": [
    "gW = np.tensordot(gy, col, ([0, 2, 3], [0, 4, 5]))"
   ]
  },
  {
   "cell_type": "code",
   "execution_count": 135,
   "metadata": {
    "collapsed": false
   },
   "outputs": [
    {
     "data": {
      "text/plain": [
       "array([[[[64, 64],\n",
       "         [96, 96]]],\n",
       "\n",
       "\n",
       "       [[[64, 64],\n",
       "         [96, 96]]]])"
      ]
     },
     "execution_count": 135,
     "metadata": {},
     "output_type": "execute_result"
    }
   ],
   "source": [
    "gW"
   ]
  },
  {
   "cell_type": "code",
   "execution_count": 136,
   "metadata": {
    "collapsed": false
   },
   "outputs": [
    {
     "data": {
      "text/plain": [
       "(2, 1, 2, 2)"
      ]
     },
     "execution_count": 136,
     "metadata": {},
     "output_type": "execute_result"
    }
   ],
   "source": [
    "gW.shape"
   ]
  },
  {
   "cell_type": "code",
   "execution_count": 137,
   "metadata": {
    "collapsed": false
   },
   "outputs": [
    {
     "data": {
      "text/plain": [
       "(2, 1, 2, 2)"
      ]
     },
     "execution_count": 137,
     "metadata": {},
     "output_type": "execute_result"
    }
   ],
   "source": [
    "W.shape"
   ]
  },
  {
   "cell_type": "code",
   "execution_count": 138,
   "metadata": {
    "collapsed": false
   },
   "outputs": [],
   "source": [
    "gcol = np.tensordot(W, gy, (0, 1))"
   ]
  },
  {
   "cell_type": "code",
   "execution_count": 139,
   "metadata": {
    "collapsed": false
   },
   "outputs": [
    {
     "data": {
      "text/plain": [
       "(1, 2, 2, 1, 4, 4)"
      ]
     },
     "execution_count": 139,
     "metadata": {},
     "output_type": "execute_result"
    }
   ],
   "source": [
    "gcol.shape"
   ]
  },
  {
   "cell_type": "code",
   "execution_count": 141,
   "metadata": {
    "collapsed": true
   },
   "outputs": [],
   "source": [
    "gcol = np.rollaxis(gcol, 3)"
   ]
  },
  {
   "cell_type": "code",
   "execution_count": 142,
   "metadata": {
    "collapsed": false
   },
   "outputs": [
    {
     "data": {
      "text/plain": [
       "(1, 1, 2, 2, 4, 4)"
      ]
     },
     "execution_count": 142,
     "metadata": {},
     "output_type": "execute_result"
    }
   ],
   "source": [
    "gcol.shape"
   ]
  },
  {
   "cell_type": "markdown",
   "metadata": {},
   "source": [
    "##### preOutput"
   ]
  },
  {
   "cell_type": "code",
   "execution_count": 143,
   "metadata": {
    "collapsed": false
   },
   "outputs": [],
   "source": [
    "def deriv_sigmoid(x):\n",
    "    v = np.exp(x) / np.power(1+np.exp(x),2.0)\n",
    "    v = x * (1-x)\n",
    "    return v\n"
   ]
  },
  {
   "cell_type": "code",
   "execution_count": 176,
   "metadata": {
    "collapsed": true
   },
   "outputs": [],
   "source": [
    "def sigmoid_grad(x):\n",
    "    ex = np.exp(-x)\n",
    "    y = ex / (1 + ex)**2\n",
    "    return y"
   ]
  },
  {
   "cell_type": "code",
   "execution_count": 275,
   "metadata": {
    "collapsed": true
   },
   "outputs": [],
   "source": [
    "def sigmoid_grad_sech2(x):\n",
    "    y = (0.5 / np.cosh(0.5*x))**2\n",
    "    return y\n",
    "\n",
    "sigmoid(x)*(1-sigmoid(x))"
   ]
  },
  {
   "cell_type": "code",
   "execution_count": 144,
   "metadata": {
    "collapsed": true
   },
   "outputs": [],
   "source": [
    "deriv_sigmoid = np.vectorize(deriv_sigmoid)"
   ]
  },
  {
   "cell_type": "code",
   "execution_count": 177,
   "metadata": {
    "collapsed": true
   },
   "outputs": [],
   "source": [
    "sigmoid_grad_vec = np.vectorize(sigmoid_grad)"
   ]
  },
  {
   "cell_type": "code",
   "execution_count": 276,
   "metadata": {
    "collapsed": true
   },
   "outputs": [],
   "source": [
    "sig_grad_vec2 = np.vectorize(sigmoid_grad_sech2)"
   ]
  },
  {
   "cell_type": "code",
   "execution_count": 145,
   "metadata": {
    "collapsed": false
   },
   "outputs": [],
   "source": [
    "z = np.tensordot(col, W, ([1, 2, 3], [1, 2, 3]))"
   ]
  },
  {
   "cell_type": "code",
   "execution_count": 146,
   "metadata": {
    "collapsed": false
   },
   "outputs": [
    {
     "data": {
      "text/plain": [
       "(1, 4, 4, 2)"
      ]
     },
     "execution_count": 146,
     "metadata": {},
     "output_type": "execute_result"
    }
   ],
   "source": [
    "z.shape"
   ]
  },
  {
   "cell_type": "code",
   "execution_count": 147,
   "metadata": {
    "collapsed": true
   },
   "outputs": [],
   "source": [
    "z+=b"
   ]
  },
  {
   "cell_type": "code",
   "execution_count": 161,
   "metadata": {
    "collapsed": false
   },
   "outputs": [
    {
     "data": {
      "text/plain": [
       "array([[[[ 4.,  4.],\n",
       "         [ 4.,  4.],\n",
       "         [ 4.,  4.],\n",
       "         [ 4.,  4.]],\n",
       "\n",
       "        [[ 8.,  8.],\n",
       "         [ 8.,  8.],\n",
       "         [ 8.,  8.],\n",
       "         [ 8.,  8.]],\n",
       "\n",
       "        [[ 4.,  4.],\n",
       "         [ 4.,  4.],\n",
       "         [ 4.,  4.],\n",
       "         [ 4.,  4.]],\n",
       "\n",
       "        [[ 8.,  8.],\n",
       "         [ 8.,  8.],\n",
       "         [ 8.,  8.],\n",
       "         [ 8.,  8.]]]])"
      ]
     },
     "execution_count": 161,
     "metadata": {},
     "output_type": "execute_result"
    }
   ],
   "source": [
    "z"
   ]
  },
  {
   "cell_type": "code",
   "execution_count": 222,
   "metadata": {
    "collapsed": false
   },
   "outputs": [],
   "source": [
    "z = np.tensordot(col, W, ([1, 2, 3], [1, 2, 3]))\n",
    "z += b\n",
    "z = np.rollaxis(z,3,1)"
   ]
  },
  {
   "cell_type": "markdown",
   "metadata": {},
   "source": [
    "##### delta"
   ]
  },
  {
   "cell_type": "code",
   "execution_count": 278,
   "metadata": {
    "collapsed": false
   },
   "outputs": [
    {
     "data": {
      "text/plain": [
       "array([[[[ 4.,  4.,  4.,  4.],\n",
       "         [ 8.,  8.,  8.,  8.],\n",
       "         [ 4.,  4.,  4.,  4.],\n",
       "         [ 8.,  8.,  8.,  8.]],\n",
       "\n",
       "        [[ 4.,  4.,  4.,  4.],\n",
       "         [ 8.,  8.,  8.,  8.],\n",
       "         [ 4.,  4.,  4.,  4.],\n",
       "         [ 8.,  8.,  8.,  8.]]]])"
      ]
     },
     "execution_count": 278,
     "metadata": {},
     "output_type": "execute_result"
    }
   ],
   "source": [
    "z"
   ]
  },
  {
   "cell_type": "code",
   "execution_count": 297,
   "metadata": {
    "collapsed": true
   },
   "outputs": [],
   "source": [
    "# delta\n",
    "d = derivative(expit, z)\n",
    "an = epsilon * d"
   ]
  },
  {
   "cell_type": "code",
   "execution_count": 280,
   "metadata": {
    "collapsed": false
   },
   "outputs": [
    {
     "data": {
      "text/plain": [
       "array([[[[ 0.01766271,  0.01766271,  0.01766271,  0.01766271],\n",
       "         [ 0.00033524,  0.00033524,  0.00033524,  0.00033524],\n",
       "         [ 0.01766271,  0.01766271,  0.01766271,  0.01766271],\n",
       "         [ 0.00033524,  0.00033524,  0.00033524,  0.00033524]],\n",
       "\n",
       "        [[ 0.01766271,  0.01766271,  0.01766271,  0.01766271],\n",
       "         [ 0.00033524,  0.00033524,  0.00033524,  0.00033524],\n",
       "         [ 0.01766271,  0.01766271,  0.01766271,  0.01766271],\n",
       "         [ 0.00033524,  0.00033524,  0.00033524,  0.00033524]]]])"
      ]
     },
     "execution_count": 280,
     "metadata": {},
     "output_type": "execute_result"
    }
   ],
   "source": [
    "d"
   ]
  },
  {
   "cell_type": "code",
   "execution_count": 291,
   "metadata": {
    "collapsed": false
   },
   "outputs": [
    {
     "data": {
      "text/plain": [
       "array([[[[ 0.01766271,  0.01766271,  0.01766271,  0.01766271],\n",
       "         [ 0.00033524,  0.00033524,  0.00033524,  0.00033524],\n",
       "         [ 0.01766271,  0.01766271,  0.01766271,  0.01766271],\n",
       "         [ 0.00033524,  0.00033524,  0.00033524,  0.00033524]],\n",
       "\n",
       "        [[ 0.01766271,  0.01766271,  0.01766271,  0.01766271],\n",
       "         [ 0.00033524,  0.00033524,  0.00033524,  0.00033524],\n",
       "         [ 0.01766271,  0.01766271,  0.01766271,  0.01766271],\n",
       "         [ 0.00033524,  0.00033524,  0.00033524,  0.00033524]]]])"
      ]
     },
     "execution_count": 291,
     "metadata": {},
     "output_type": "execute_result"
    }
   ],
   "source": [
    "sig_grad_vec2(z)"
   ]
  },
  {
   "cell_type": "code",
   "execution_count": 293,
   "metadata": {
    "collapsed": false
   },
   "outputs": [
    {
     "data": {
      "text/plain": [
       "array([[[[ 0.01766271,  0.01766271,  0.01766271,  0.01766271],\n",
       "         [ 0.00033524,  0.00033524,  0.00033524,  0.00033524],\n",
       "         [ 0.01766271,  0.01766271,  0.01766271,  0.01766271],\n",
       "         [ 0.00033524,  0.00033524,  0.00033524,  0.00033524]],\n",
       "\n",
       "        [[ 0.01766271,  0.01766271,  0.01766271,  0.01766271],\n",
       "         [ 0.00033524,  0.00033524,  0.00033524,  0.00033524],\n",
       "         [ 0.01766271,  0.01766271,  0.01766271,  0.01766271],\n",
       "         [ 0.00033524,  0.00033524,  0.00033524,  0.00033524]]]])"
      ]
     },
     "execution_count": 293,
     "metadata": {},
     "output_type": "execute_result"
    }
   ],
   "source": [
    "from scipy.special import expit\n",
    "expit(z)*(1-expit(z))"
   ]
  },
  {
   "cell_type": "code",
   "execution_count": 343,
   "metadata": {
    "collapsed": false
   },
   "outputs": [
    {
     "data": {
      "text/plain": [
       "array([[[[ 0.02036651,  0.02036651,  0.02036651,  0.02036651],\n",
       "         [ 0.00039383,  0.00039383,  0.00039383,  0.00039383],\n",
       "         [ 0.02036651,  0.02036651,  0.02036651,  0.02036651],\n",
       "         [ 0.00039383,  0.00039383,  0.00039383,  0.00039383]],\n",
       "\n",
       "        [[ 0.02036651,  0.02036651,  0.02036651,  0.02036651],\n",
       "         [ 0.00039383,  0.00039383,  0.00039383,  0.00039383],\n",
       "         [ 0.02036651,  0.02036651,  0.02036651,  0.02036651],\n",
       "         [ 0.00039383,  0.00039383,  0.00039383,  0.00039383]]]])"
      ]
     },
     "execution_count": 343,
     "metadata": {},
     "output_type": "execute_result"
    }
   ],
   "source": [
    "from scipy.misc import derivative\n",
    "derivative(expit, z)"
   ]
  },
  {
   "cell_type": "code",
   "execution_count": 298,
   "metadata": {
    "collapsed": false
   },
   "outputs": [
    {
     "data": {
      "text/plain": [
       "(1, 2, 4, 4)"
      ]
     },
     "execution_count": 298,
     "metadata": {},
     "output_type": "execute_result"
    }
   ],
   "source": [
    "an.shape"
   ]
  },
  {
   "cell_type": "code",
   "execution_count": 344,
   "metadata": {
    "collapsed": false
   },
   "outputs": [
    {
     "data": {
      "text/plain": [
       "array([[[[ 0.02036651,  0.02036651,  0.02036651,  0.02036651],\n",
       "         [ 0.00039383,  0.00039383,  0.00039383,  0.00039383],\n",
       "         [ 0.02036651,  0.02036651,  0.02036651,  0.02036651],\n",
       "         [ 0.00039383,  0.00039383,  0.00039383,  0.00039383]],\n",
       "\n",
       "        [[ 0.02036651,  0.02036651,  0.02036651,  0.02036651],\n",
       "         [ 0.00039383,  0.00039383,  0.00039383,  0.00039383],\n",
       "         [ 0.02036651,  0.02036651,  0.02036651,  0.02036651],\n",
       "         [ 0.00039383,  0.00039383,  0.00039383,  0.00039383]]]])"
      ]
     },
     "execution_count": 344,
     "metadata": {},
     "output_type": "execute_result"
    }
   ],
   "source": [
    "# new delta result\n",
    "an"
   ]
  },
  {
   "cell_type": "code",
   "execution_count": 373,
   "metadata": {
    "collapsed": false
   },
   "outputs": [],
   "source": [
    "gb = an.sum(axis=(0, 2, 3))\n",
    "gW = np.tensordot(an, col, ([0, 2, 3], [0, 4, 5]))\n",
    "\n",
    "nextEp = np.tensordot(W, an, (0, 1))"
   ]
  },
  {
   "cell_type": "code",
   "execution_count": 302,
   "metadata": {
    "collapsed": false
   },
   "outputs": [
    {
     "data": {
      "text/plain": [
       "array([ 0.16608272,  0.16608272])"
      ]
     },
     "execution_count": 302,
     "metadata": {},
     "output_type": "execute_result"
    }
   ],
   "source": [
    "gb"
   ]
  },
  {
   "cell_type": "code",
   "execution_count": 323,
   "metadata": {
    "collapsed": false
   },
   "outputs": [
    {
     "data": {
      "text/plain": [
       "array([[[[ 0.17238397,  0.17238397],\n",
       "         [ 0.33846668,  0.33846668]]],\n",
       "\n",
       "\n",
       "       [[[ 0.17238397,  0.17238397],\n",
       "         [ 0.33846668,  0.33846668]]]])"
      ]
     },
     "execution_count": 323,
     "metadata": {},
     "output_type": "execute_result"
    }
   ],
   "source": [
    "gW"
   ]
  },
  {
   "cell_type": "code",
   "execution_count": 374,
   "metadata": {
    "collapsed": false
   },
   "outputs": [
    {
     "data": {
      "text/plain": [
       "(1, 2, 2, 1, 4, 4)"
      ]
     },
     "execution_count": 374,
     "metadata": {},
     "output_type": "execute_result"
    }
   ],
   "source": [
    "nextEp.shape"
   ]
  },
  {
   "cell_type": "code",
   "execution_count": 377,
   "metadata": {
    "collapsed": false
   },
   "outputs": [
    {
     "data": {
      "text/plain": [
       "array([[[[[[ 0.02036651,  0.02036651,  0.02036651,  0.02036651],\n",
       "           [ 0.00039383,  0.00039383,  0.00039383,  0.00039383],\n",
       "           [ 0.02036651,  0.02036651,  0.02036651,  0.02036651],\n",
       "           [ 0.00039383,  0.00039383,  0.00039383,  0.00039383]],\n",
       "\n",
       "          [[ 0.02036651,  0.02036651,  0.02036651,  0.02036651],\n",
       "           [ 0.00039383,  0.00039383,  0.00039383,  0.00039383],\n",
       "           [ 0.02036651,  0.02036651,  0.02036651,  0.02036651],\n",
       "           [ 0.00039383,  0.00039383,  0.00039383,  0.00039383]]],\n",
       "\n",
       "\n",
       "         [[[ 0.02036651,  0.02036651,  0.02036651,  0.02036651],\n",
       "           [ 0.00039383,  0.00039383,  0.00039383,  0.00039383],\n",
       "           [ 0.02036651,  0.02036651,  0.02036651,  0.02036651],\n",
       "           [ 0.00039383,  0.00039383,  0.00039383,  0.00039383]],\n",
       "\n",
       "          [[ 0.02036651,  0.02036651,  0.02036651,  0.02036651],\n",
       "           [ 0.00039383,  0.00039383,  0.00039383,  0.00039383],\n",
       "           [ 0.02036651,  0.02036651,  0.02036651,  0.02036651],\n",
       "           [ 0.00039383,  0.00039383,  0.00039383,  0.00039383]]]]]])"
      ]
     },
     "execution_count": 377,
     "metadata": {},
     "output_type": "execute_result"
    }
   ],
   "source": [
    "nextEp"
   ]
  },
  {
   "cell_type": "code",
   "execution_count": 378,
   "metadata": {
    "collapsed": true
   },
   "outputs": [],
   "source": [
    "nextEp = np.rollaxis(nextEp, 3)\n",
    "\n",
    "h, w = new_val.shape[2:]"
   ]
  },
  {
   "cell_type": "code",
   "execution_count": 380,
   "metadata": {
    "collapsed": false
   },
   "outputs": [
    {
     "data": {
      "text/plain": [
       "(2, 1, 1, 2, 4, 4)"
      ]
     },
     "execution_count": 380,
     "metadata": {},
     "output_type": "execute_result"
    }
   ],
   "source": [
    "nextEp.shape"
   ]
  },
  {
   "cell_type": "code",
   "execution_count": 337,
   "metadata": {
    "collapsed": false
   },
   "outputs": [],
   "source": [
    "sy = sx = 2\n",
    "ph = pw = 2\n",
    "r1 = col2im(nextEp, sy, sx, ph, pw, h, w)"
   ]
  },
  {
   "cell_type": "code",
   "execution_count": 338,
   "metadata": {
    "collapsed": false
   },
   "outputs": [
    {
     "data": {
      "text/plain": [
       "array([[[[ 0.00039383,  0.00039383,  0.00039383,  0.00039383,  0.00039383,\n",
       "           0.00039383,  0.        ,  0.        ],\n",
       "         [ 0.00039383,  0.00039383,  0.00039383,  0.00039383,  0.00039383,\n",
       "           0.00039383,  0.        ,  0.        ],\n",
       "         [ 0.02036651,  0.02036651,  0.02036651,  0.02036651,  0.02036651,\n",
       "           0.02036651,  0.        ,  0.        ],\n",
       "         [ 0.02036651,  0.02036651,  0.02036651,  0.02036651,  0.02036651,\n",
       "           0.02036651,  0.        ,  0.        ],\n",
       "         [ 0.00039383,  0.00039383,  0.00039383,  0.00039383,  0.00039383,\n",
       "           0.00039383,  0.        ,  0.        ],\n",
       "         [ 0.00039383,  0.00039383,  0.00039383,  0.00039383,  0.00039383,\n",
       "           0.00039383,  0.        ,  0.        ],\n",
       "         [ 0.        ,  0.        ,  0.        ,  0.        ,  0.        ,\n",
       "           0.        ,  0.        ,  0.        ],\n",
       "         [ 0.        ,  0.        ,  0.        ,  0.        ,  0.        ,\n",
       "           0.        ,  0.        ,  0.        ]]]])"
      ]
     },
     "execution_count": 338,
     "metadata": {},
     "output_type": "execute_result"
    }
   ],
   "source": [
    "r1 "
   ]
  },
  {
   "cell_type": "code",
   "execution_count": 339,
   "metadata": {
    "collapsed": false
   },
   "outputs": [
    {
     "data": {
      "text/plain": [
       "array([ 0.00039383,  0.00039383,  0.00039383,  0.00039383,  0.00039383,\n",
       "        0.00039383,  0.        ,  0.        ,  0.00039383,  0.00039383,\n",
       "        0.00039383,  0.00039383,  0.00039383,  0.00039383,  0.        ,\n",
       "        0.        ,  0.02036651,  0.02036651,  0.02036651,  0.02036651,\n",
       "        0.02036651,  0.02036651,  0.        ,  0.        ,  0.02036651,\n",
       "        0.02036651,  0.02036651,  0.02036651,  0.02036651,  0.02036651,\n",
       "        0.        ,  0.        ,  0.00039383,  0.00039383,  0.00039383,\n",
       "        0.00039383,  0.00039383,  0.00039383,  0.        ,  0.        ,\n",
       "        0.00039383,  0.00039383,  0.00039383,  0.00039383,  0.00039383,\n",
       "        0.00039383,  0.        ,  0.        ,  0.        ,  0.        ,\n",
       "        0.        ,  0.        ,  0.        ,  0.        ,  0.        ,\n",
       "        0.        ,  0.        ,  0.        ,  0.        ,  0.        ,\n",
       "        0.        ,  0.        ,  0.        ,  0.        ])"
      ]
     },
     "execution_count": 339,
     "metadata": {},
     "output_type": "execute_result"
    }
   ],
   "source": [
    "r2.ravel()"
   ]
  },
  {
   "cell_type": "code",
   "execution_count": 340,
   "metadata": {
    "collapsed": false
   },
   "outputs": [
    {
     "data": {
      "text/plain": [
       "True"
      ]
     },
     "execution_count": 340,
     "metadata": {},
     "output_type": "execute_result"
    }
   ],
   "source": [
    "np.array_equal(r1,r2)"
   ]
  },
  {
   "cell_type": "markdown",
   "metadata": {},
   "source": [
    "*old delta stuff*"
   ]
  },
  {
   "cell_type": "code",
   "execution_count": 162,
   "metadata": {
    "collapsed": true
   },
   "outputs": [],
   "source": [
    "deriv_z = deriv_sigmoid(z2)"
   ]
  },
  {
   "cell_type": "code",
   "execution_count": 164,
   "metadata": {
    "collapsed": true
   },
   "outputs": [],
   "source": [
    "# Pulled from the site\n",
    "activationD = np.array(\n",
    "[[[[0.02,0.02,0.02,0.02],\n",
    " [0.00,0.00,0.00,0.00],\n",
    " [0.02,0.02,0.02,0.02],\n",
    " [0.00,0.00,0.00,0.00]],\n",
    "  [[0.02,0.02,0.02,0.02],\n",
    " [0.00,0.00,0.00,0.00],\n",
    " [0.02,0.02,0.02,0.02],\n",
    " [0.00,0.00,0.00,0.00]]]])"
   ]
  },
  {
   "cell_type": "code",
   "execution_count": 171,
   "metadata": {
    "collapsed": false
   },
   "outputs": [
    {
     "data": {
      "text/plain": [
       "array([[[[ 0.02,  0.02,  0.02,  0.02],\n",
       "         [ 0.  ,  0.  ,  0.  ,  0.  ],\n",
       "         [ 0.02,  0.02,  0.02,  0.02],\n",
       "         [ 0.  ,  0.  ,  0.  ,  0.  ]],\n",
       "\n",
       "        [[ 0.02,  0.02,  0.02,  0.02],\n",
       "         [ 0.  ,  0.  ,  0.  ,  0.  ],\n",
       "         [ 0.02,  0.02,  0.02,  0.02],\n",
       "         [ 0.  ,  0.  ,  0.  ,  0.  ]]]])"
      ]
     },
     "execution_count": 171,
     "metadata": {},
     "output_type": "execute_result"
    }
   ],
   "source": [
    "activationD"
   ]
  },
  {
   "cell_type": "code",
   "execution_count": 163,
   "metadata": {
    "collapsed": false
   },
   "outputs": [
    {
     "data": {
      "text/plain": [
       "array([[[[-12., -12., -12., -12.],\n",
       "         [-56., -56., -56., -56.],\n",
       "         [-12., -12., -12., -12.],\n",
       "         [-56., -56., -56., -56.]],\n",
       "\n",
       "        [[-12., -12., -12., -12.],\n",
       "         [-56., -56., -56., -56.],\n",
       "         [-12., -12., -12., -12.],\n",
       "         [-56., -56., -56., -56.]]]])"
      ]
     },
     "execution_count": 163,
     "metadata": {},
     "output_type": "execute_result"
    }
   ],
   "source": [
    "deriv_z"
   ]
  },
  {
   "cell_type": "code",
   "execution_count": 151,
   "metadata": {
    "collapsed": false
   },
   "outputs": [
    {
     "data": {
      "text/plain": [
       "(1, 2, 4, 4)"
      ]
     },
     "execution_count": 151,
     "metadata": {},
     "output_type": "execute_result"
    }
   ],
   "source": [
    "deriv_z.shape"
   ]
  },
  {
   "cell_type": "code",
   "execution_count": 152,
   "metadata": {
    "collapsed": false
   },
   "outputs": [],
   "source": [
    "epsilon = np.ones((1,2,4,4))"
   ]
  },
  {
   "cell_type": "code",
   "execution_count": 153,
   "metadata": {
    "collapsed": false
   },
   "outputs": [
    {
     "data": {
      "text/plain": [
       "(1, 2, 4, 4)"
      ]
     },
     "execution_count": 153,
     "metadata": {},
     "output_type": "execute_result"
    }
   ],
   "source": [
    "epsilon.shape"
   ]
  },
  {
   "cell_type": "code",
   "execution_count": 154,
   "metadata": {
    "collapsed": false
   },
   "outputs": [],
   "source": [
    "delta2 = np.dot(epsilon, deriv_z)"
   ]
  },
  {
   "cell_type": "code",
   "execution_count": 155,
   "metadata": {
    "collapsed": false
   },
   "outputs": [
    {
     "data": {
      "text/plain": [
       "array([[[[ 1.,  1.,  1.,  1.],\n",
       "         [ 1.,  1.,  1.,  1.],\n",
       "         [ 1.,  1.,  1.,  1.],\n",
       "         [ 1.,  1.,  1.,  1.]],\n",
       "\n",
       "        [[ 1.,  1.,  1.,  1.],\n",
       "         [ 1.,  1.,  1.,  1.],\n",
       "         [ 1.,  1.,  1.,  1.],\n",
       "         [ 1.,  1.,  1.,  1.]]]])"
      ]
     },
     "execution_count": 155,
     "metadata": {},
     "output_type": "execute_result"
    }
   ],
   "source": [
    "epsilon"
   ]
  },
  {
   "cell_type": "code",
   "execution_count": 156,
   "metadata": {
    "collapsed": false
   },
   "outputs": [
    {
     "data": {
      "text/plain": [
       "array([[[[-12., -12., -12., -12.],\n",
       "         [-56., -56., -56., -56.],\n",
       "         [-12., -12., -12., -12.],\n",
       "         [-56., -56., -56., -56.]],\n",
       "\n",
       "        [[-12., -12., -12., -12.],\n",
       "         [-56., -56., -56., -56.],\n",
       "         [-12., -12., -12., -12.],\n",
       "         [-56., -56., -56., -56.]]]])"
      ]
     },
     "execution_count": 156,
     "metadata": {},
     "output_type": "execute_result"
    }
   ],
   "source": [
    "deriv_z"
   ]
  },
  {
   "cell_type": "code",
   "execution_count": 157,
   "metadata": {
    "collapsed": false
   },
   "outputs": [
    {
     "data": {
      "text/plain": [
       "(1, 2, 4, 1, 2, 4)"
      ]
     },
     "execution_count": 157,
     "metadata": {},
     "output_type": "execute_result"
    }
   ],
   "source": [
    "delta2.shape"
   ]
  },
  {
   "cell_type": "code",
   "execution_count": 173,
   "metadata": {
    "collapsed": true
   },
   "outputs": [],
   "source": [
    "# pulled acivation from online - need to validate\n",
    "delta3 = epsilon * activationD"
   ]
  },
  {
   "cell_type": "code",
   "execution_count": 174,
   "metadata": {
    "collapsed": false
   },
   "outputs": [
    {
     "data": {
      "text/plain": [
       "array([[[[ 0.02,  0.02,  0.02,  0.02],\n",
       "         [ 0.  ,  0.  ,  0.  ,  0.  ],\n",
       "         [ 0.02,  0.02,  0.02,  0.02],\n",
       "         [ 0.  ,  0.  ,  0.  ,  0.  ]],\n",
       "\n",
       "        [[ 0.02,  0.02,  0.02,  0.02],\n",
       "         [ 0.  ,  0.  ,  0.  ,  0.  ],\n",
       "         [ 0.02,  0.02,  0.02,  0.02],\n",
       "         [ 0.  ,  0.  ,  0.  ,  0.  ]]]])"
      ]
     },
     "execution_count": 174,
     "metadata": {},
     "output_type": "execute_result"
    }
   ],
   "source": [
    "delta3"
   ]
  },
  {
   "cell_type": "code",
   "execution_count": 175,
   "metadata": {
    "collapsed": false
   },
   "outputs": [
    {
     "data": {
      "text/plain": [
       "array([ 0.02,  0.02,  0.02,  0.02,  0.  ,  0.  ,  0.  ,  0.  ,  0.02,\n",
       "        0.02,  0.02,  0.02,  0.  ,  0.  ,  0.  ,  0.  ,  0.02,  0.02,\n",
       "        0.02,  0.02,  0.  ,  0.  ,  0.  ,  0.  ,  0.02,  0.02,  0.02,\n",
       "        0.02,  0.  ,  0.  ,  0.  ,  0.  ])"
      ]
     },
     "execution_count": 175,
     "metadata": {},
     "output_type": "execute_result"
    }
   ],
   "source": [
    "delta3.ravel()"
   ]
  },
  {
   "cell_type": "code",
   "execution_count": 535,
   "metadata": {
    "collapsed": false
   },
   "outputs": [],
   "source": [
    "wG = np.tensordot(delta, col, ([0, 2, 3],[0, 4, 5]))"
   ]
  },
  {
   "cell_type": "code",
   "execution_count": 502,
   "metadata": {
    "collapsed": false
   },
   "outputs": [
    {
     "data": {
      "text/plain": [
       "array([[[[-544., -544.]],\n",
       "\n",
       "        [[-544., -544.]]]])"
      ]
     },
     "execution_count": 502,
     "metadata": {},
     "output_type": "execute_result"
    }
   ],
   "source": [
    "delta"
   ]
  },
  {
   "cell_type": "code",
   "execution_count": 536,
   "metadata": {
    "collapsed": false
   },
   "outputs": [
    {
     "data": {
      "text/plain": [
       "(2, 1, 2, 2)"
      ]
     },
     "execution_count": 536,
     "metadata": {},
     "output_type": "execute_result"
    }
   ],
   "source": [
    "wG.shape"
   ]
  },
  {
   "cell_type": "code",
   "execution_count": 538,
   "metadata": {
    "collapsed": false
   },
   "outputs": [
    {
     "data": {
      "text/plain": [
       "array([-1440., -1440., -1984., -1984., -1440., -1440., -1984., -1984.])"
      ]
     },
     "execution_count": 538,
     "metadata": {},
     "output_type": "execute_result"
    }
   ],
   "source": [
    "wG.ravel()"
   ]
  },
  {
   "cell_type": "code",
   "execution_count": 548,
   "metadata": {
    "collapsed": false
   },
   "outputs": [
    {
     "data": {
      "text/plain": [
       "(2, 4, 4)"
      ]
     },
     "execution_count": 548,
     "metadata": {},
     "output_type": "execute_result"
    }
   ],
   "source": [
    "delta[0].shape"
   ]
  },
  {
   "cell_type": "code",
   "execution_count": 546,
   "metadata": {
    "collapsed": false
   },
   "outputs": [
    {
     "data": {
      "text/plain": [
       "(2, 1, 2, 2)"
      ]
     },
     "execution_count": 546,
     "metadata": {},
     "output_type": "execute_result"
    }
   ],
   "source": [
    "W.shape"
   ]
  },
  {
   "cell_type": "code",
   "execution_count": 560,
   "metadata": {
    "collapsed": false
   },
   "outputs": [],
   "source": [
    "# nextEpsilon\n",
    "r = np.tensordot(W,delta,([0,1]))"
   ]
  },
  {
   "cell_type": "code",
   "execution_count": 562,
   "metadata": {
    "collapsed": false
   },
   "outputs": [],
   "source": [
    "r = np.rollaxis(r,3)"
   ]
  },
  {
   "cell_type": "code",
   "execution_count": 579,
   "metadata": {
    "collapsed": false
   },
   "outputs": [
    {
     "data": {
      "text/plain": [
       "(1, 1, 2, 2, 4, 4)"
      ]
     },
     "execution_count": 579,
     "metadata": {},
     "output_type": "execute_result"
    }
   ],
   "source": [
    "r.shape"
   ]
  },
  {
   "cell_type": "code",
   "execution_count": 564,
   "metadata": {
    "collapsed": false
   },
   "outputs": [
    {
     "data": {
      "text/plain": [
       "array([-12., -12., -12., -12., -56., -56., -56., -56., -12., -12., -12.,\n",
       "       -12., -56., -56., -56., -56., -12., -12., -12., -12., -56., -56.,\n",
       "       -56., -56., -12., -12., -12., -12., -56., -56., -56., -56., -12.,\n",
       "       -12., -12., -12., -56., -56., -56., -56., -12., -12., -12., -12.,\n",
       "       -56., -56., -56., -56., -12., -12., -12., -12., -56., -56., -56.,\n",
       "       -56., -12., -12., -12., -12., -56., -56., -56., -56.])"
      ]
     },
     "execution_count": 564,
     "metadata": {},
     "output_type": "execute_result"
    }
   ],
   "source": [
    "r.ravel()"
   ]
  },
  {
   "cell_type": "code",
   "execution_count": 566,
   "metadata": {
    "collapsed": true
   },
   "outputs": [],
   "source": [
    "def col2im(col, sy, sx, ph, pw, h, w):\n",
    "    n, c, kh, kw, out_h, out_w = col.shape\n",
    "\n",
    "    img = np.zeros((n, c, h + 2 * ph + sy - 1, w + 2 * pw + sx - 1), dtype=col.dtype)\n",
    "    for i in six.moves.range(kh):\n",
    "        i_lim = i + sy * out_h\n",
    "        for j in six.moves.range(kw):\n",
    "            j_lim = j + sx * out_w\n",
    "            img[:, :, i:i_lim:sy, j:j_lim:sx] += col[:, :, i, j, :, :]\n",
    "\n",
    "    return img[:, :, ph:h + ph, pw:w + pw]"
   ]
  },
  {
   "cell_type": "code",
   "execution_count": 575,
   "metadata": {
    "collapsed": false
   },
   "outputs": [],
   "source": [
    "reshapedEp = col2im(r, sy, sx, ph, pw, h, w)"
   ]
  },
  {
   "cell_type": "code",
   "execution_count": 576,
   "metadata": {
    "collapsed": false
   },
   "outputs": [
    {
     "data": {
      "text/plain": [
       "(1, 1, 8, 8)"
      ]
     },
     "execution_count": 576,
     "metadata": {},
     "output_type": "execute_result"
    }
   ],
   "source": [
    "reshapedEp.shape"
   ]
  },
  {
   "cell_type": "code",
   "execution_count": 578,
   "metadata": {
    "collapsed": false
   },
   "outputs": [
    {
     "data": {
      "text/plain": [
       "array([-12., -12., -12., -12., -12., -12., -12., -12., -12., -12., -12.,\n",
       "       -12., -12., -12., -12., -12., -56., -56., -56., -56., -56., -56.,\n",
       "       -56., -56., -56., -56., -56., -56., -56., -56., -56., -56., -12.,\n",
       "       -12., -12., -12., -12., -12., -12., -12., -12., -12., -12., -12.,\n",
       "       -12., -12., -12., -12., -56., -56., -56., -56., -56., -56., -56.,\n",
       "       -56., -56., -56., -56., -56., -56., -56., -56., -56.])"
      ]
     },
     "execution_count": 578,
     "metadata": {},
     "output_type": "execute_result"
    }
   ],
   "source": [
    "reshapedEp.ravel()"
   ]
  },
  {
   "cell_type": "markdown",
   "metadata": {},
   "source": [
    "### Checking activations & backprop - Subsampling"
   ]
  },
  {
   "cell_type": "markdown",
   "metadata": {},
   "source": [
    "##### Activate"
   ]
  },
  {
   "cell_type": "code",
   "execution_count": 6,
   "metadata": {
    "collapsed": true
   },
   "outputs": [],
   "source": [
    "def im2col(img, kh, kw, sy, sx, ph, pw, pval=0, cover_all=False):\n",
    "    n, c, h, w = img.shape\n",
    "    featureMapWidth = (w-kw+pw*2)/sx + 1\n",
    "    featureMapHeight = (h-kh+ph*2)/sy + 1 \n",
    "\n",
    "    img = np.pad(img, ((0, 0), (0, 0), (ph, ph + sy - 1), (pw, pw + sx - 1)),\n",
    "                    mode='constant', constant_values=(pval,))\n",
    "    col = np.ndarray((n, c, kh, kw, featureMapHeight, featureMapWidth), dtype=img.dtype)\n",
    "\n",
    "    for i in six.moves.range(kh):\n",
    "        i_lim = i + sy * featureMapHeight\n",
    "        for j in six.moves.range(kw):\n",
    "            j_lim = j + sx * featureMapWidth\n",
    "            col[:, :, i, j, :, :] = img[:, :, i:i_lim:sy, j:j_lim:sx]\n",
    "    return col"
   ]
  },
  {
   "cell_type": "code",
   "execution_count": 10,
   "metadata": {
    "collapsed": false
   },
   "outputs": [],
   "source": [
    "def forward_max(x):\n",
    "    kh=2\n",
    "    kw=2\n",
    "    ph = 0\n",
    "    pw = 0\n",
    "    sy = 2\n",
    "    sx = 2\n",
    "    col = im2col(x, kh, kw, sy, sx, ph, pw)\n",
    "    n, c, kh, kw, out_h, out_w = col.shape\n",
    "    col = col.reshape(n, c, kh * kw, out_h, out_w)\n",
    "\n",
    "    # We select maximum twice, since the implementation using numpy.choose\n",
    "    # hits its bug when kh * kw >= 32.\n",
    "    indexes = col.argmax(axis=2)\n",
    "    y = col.max(axis=2)\n",
    "    return y\n",
    "\n",
    "def forward_mean(x):\n",
    "    kh=2\n",
    "    kw=2\n",
    "    ph = 0\n",
    "    pw = 0\n",
    "    sy = 2\n",
    "    sx = 2\n",
    "    col = im2col(x, kh, kw, sy, sx, ph, pw)\n",
    "#     n, c, kh, kw, out_h, out_w = col.shape\n",
    "#     col = col.reshape(n, c, kh * kw, out_h, out_w)\n",
    "\n",
    "#     y = col.average(axis=2,3)\n",
    "    return y"
   ]
  },
  {
   "cell_type": "code",
   "execution_count": 397,
   "metadata": {
    "collapsed": false
   },
   "outputs": [],
   "source": [
    "y2 = np.array([[[[ 1.,  1.,  3.,  7.],\n",
    "                 [ 5.,  1.,  3.,  3.],\n",
    "                 [ 2.,  2.,  8.,  4.],\n",
    "                 [ 2.,  6.,  4.,  4.]],\n",
    "\n",
    "                [[ 3.,  3.,  6.,  7.],\n",
    "                 [ 4.,  4.,  6.,  7.],\n",
    "                 [ 5.,  5.,  9.,  8.],\n",
    "                 [ 4.,  4.,  9.,  8.]]]])"
   ]
  },
  {
   "cell_type": "code",
   "execution_count": 398,
   "metadata": {
    "collapsed": false
   },
   "outputs": [
    {
     "data": {
      "text/plain": [
       "(1, 2, 4, 4)"
      ]
     },
     "execution_count": 398,
     "metadata": {},
     "output_type": "execute_result"
    }
   ],
   "source": [
    "y2.shape"
   ]
  },
  {
   "cell_type": "code",
   "execution_count": 443,
   "metadata": {
    "collapsed": false
   },
   "outputs": [
    {
     "data": {
      "text/plain": [
       "array([[[[ 5.,  7.],\n",
       "         [ 6.,  8.]],\n",
       "\n",
       "        [[ 4.,  7.],\n",
       "         [ 5.,  9.]]]])"
      ]
     },
     "execution_count": 443,
     "metadata": {},
     "output_type": "execute_result"
    }
   ],
   "source": [
    "forward_max(y2)"
   ]
  },
  {
   "cell_type": "code",
   "execution_count": 444,
   "metadata": {
    "collapsed": false
   },
   "outputs": [
    {
     "data": {
      "text/plain": [
       "array([[[[2, 1],\n",
       "         [3, 0]],\n",
       "\n",
       "        [[2, 1],\n",
       "         [0, 0]]]])"
      ]
     },
     "execution_count": 444,
     "metadata": {},
     "output_type": "execute_result"
    }
   ],
   "source": [
    "indexes"
   ]
  },
  {
   "cell_type": "code",
   "execution_count": 400,
   "metadata": {
    "collapsed": false
   },
   "outputs": [],
   "source": [
    "w = y2.shape[2]\n",
    "kw=2\n",
    "pw = 0\n",
    "sx = 2\n",
    "\n",
    "featureMapWidth = (w-kw+pw*2)/sx + 1"
   ]
  },
  {
   "cell_type": "code",
   "execution_count": 401,
   "metadata": {
    "collapsed": false
   },
   "outputs": [
    {
     "data": {
      "text/plain": [
       "2"
      ]
     },
     "execution_count": 401,
     "metadata": {},
     "output_type": "execute_result"
    }
   ],
   "source": [
    "featureMapWidth"
   ]
  },
  {
   "cell_type": "code",
   "execution_count": 402,
   "metadata": {
    "collapsed": false
   },
   "outputs": [],
   "source": [
    "kh=2\n",
    "kw=2\n",
    "ph = 0\n",
    "pw = 0\n",
    "sy = 2\n",
    "sx = 2\n",
    "\n",
    "col = im2col(y2, kh, kw, sy, sx, ph, pw)"
   ]
  },
  {
   "cell_type": "code",
   "execution_count": 403,
   "metadata": {
    "collapsed": false
   },
   "outputs": [
    {
     "data": {
      "text/plain": [
       "array([[[[[[ 1.,  3.],\n",
       "           [ 2.,  8.]],\n",
       "\n",
       "          [[ 1.,  7.],\n",
       "           [ 2.,  4.]]],\n",
       "\n",
       "\n",
       "         [[[ 5.,  3.],\n",
       "           [ 2.,  4.]],\n",
       "\n",
       "          [[ 1.,  3.],\n",
       "           [ 6.,  4.]]]],\n",
       "\n",
       "\n",
       "\n",
       "        [[[[ 3.,  6.],\n",
       "           [ 5.,  9.]],\n",
       "\n",
       "          [[ 3.,  7.],\n",
       "           [ 5.,  8.]]],\n",
       "\n",
       "\n",
       "         [[[ 4.,  6.],\n",
       "           [ 4.,  9.]],\n",
       "\n",
       "          [[ 4.,  7.],\n",
       "           [ 4.,  8.]]]]]])"
      ]
     },
     "execution_count": 403,
     "metadata": {},
     "output_type": "execute_result"
    }
   ],
   "source": [
    "col"
   ]
  },
  {
   "cell_type": "code",
   "execution_count": 404,
   "metadata": {
    "collapsed": false
   },
   "outputs": [
    {
     "data": {
      "text/plain": [
       "(1, 2, 2, 2, 2, 2)"
      ]
     },
     "execution_count": 404,
     "metadata": {},
     "output_type": "execute_result"
    }
   ],
   "source": [
    "col.shape"
   ]
  },
  {
   "cell_type": "code",
   "execution_count": 405,
   "metadata": {
    "collapsed": true
   },
   "outputs": [],
   "source": [
    "n, c, kh, kw, out_h, out_w = col.shape"
   ]
  },
  {
   "cell_type": "code",
   "execution_count": 406,
   "metadata": {
    "collapsed": true
   },
   "outputs": [],
   "source": [
    "col = col.reshape(n, c, kh * kw, out_h, out_w)\n"
   ]
  },
  {
   "cell_type": "code",
   "execution_count": 407,
   "metadata": {
    "collapsed": false
   },
   "outputs": [
    {
     "data": {
      "text/plain": [
       "(1, 2, 4, 2, 2)"
      ]
     },
     "execution_count": 407,
     "metadata": {},
     "output_type": "execute_result"
    }
   ],
   "source": [
    "col.shape"
   ]
  },
  {
   "cell_type": "code",
   "execution_count": 408,
   "metadata": {
    "collapsed": true
   },
   "outputs": [],
   "source": [
    "indexes = col.argmax(axis=2)"
   ]
  },
  {
   "cell_type": "code",
   "execution_count": 409,
   "metadata": {
    "collapsed": false
   },
   "outputs": [
    {
     "data": {
      "text/plain": [
       "array([[[[2, 1],\n",
       "         [3, 0]],\n",
       "\n",
       "        [[2, 1],\n",
       "         [0, 0]]]])"
      ]
     },
     "execution_count": 409,
     "metadata": {},
     "output_type": "execute_result"
    }
   ],
   "source": [
    "indexes"
   ]
  },
  {
   "cell_type": "code",
   "execution_count": 410,
   "metadata": {
    "collapsed": false
   },
   "outputs": [
    {
     "data": {
      "text/plain": [
       "(1, 2, 2, 2)"
      ]
     },
     "execution_count": 410,
     "metadata": {},
     "output_type": "execute_result"
    }
   ],
   "source": [
    "indexes.shape"
   ]
  },
  {
   "cell_type": "code",
   "execution_count": 411,
   "metadata": {
    "collapsed": true
   },
   "outputs": [],
   "source": [
    "y = col.max(axis=2)"
   ]
  },
  {
   "cell_type": "code",
   "execution_count": 412,
   "metadata": {
    "collapsed": false
   },
   "outputs": [
    {
     "data": {
      "text/plain": [
       "array([[[[ 1.,  1.,  3.,  7.],\n",
       "         [ 5.,  1.,  3.,  3.],\n",
       "         [ 2.,  2.,  8.,  4.],\n",
       "         [ 2.,  6.,  4.,  4.]],\n",
       "\n",
       "        [[ 3.,  3.,  6.,  7.],\n",
       "         [ 4.,  4.,  6.,  7.],\n",
       "         [ 5.,  5.,  9.,  8.],\n",
       "         [ 4.,  4.,  9.,  8.]]]])"
      ]
     },
     "execution_count": 412,
     "metadata": {},
     "output_type": "execute_result"
    }
   ],
   "source": [
    "y2"
   ]
  },
  {
   "cell_type": "code",
   "execution_count": 413,
   "metadata": {
    "collapsed": false
   },
   "outputs": [
    {
     "data": {
      "text/plain": [
       "array([[[[ 5.,  7.],\n",
       "         [ 6.,  8.]],\n",
       "\n",
       "        [[ 4.,  7.],\n",
       "         [ 5.,  9.]]]])"
      ]
     },
     "execution_count": 413,
     "metadata": {},
     "output_type": "execute_result"
    }
   ],
   "source": [
    "y"
   ]
  },
  {
   "cell_type": "code",
   "execution_count": 414,
   "metadata": {
    "collapsed": false
   },
   "outputs": [
    {
     "data": {
      "text/plain": [
       "array([[[[ 2. ,  4. ],\n",
       "         [ 3. ,  5. ]],\n",
       "\n",
       "        [[ 3.5,  6.5],\n",
       "         [ 4.5,  8.5]]]])"
      ]
     },
     "execution_count": 414,
     "metadata": {},
     "output_type": "execute_result"
    }
   ],
   "source": [
    "col.mean(axis=(2))"
   ]
  },
  {
   "cell_type": "code",
   "execution_count": 415,
   "metadata": {
    "collapsed": false
   },
   "outputs": [
    {
     "data": {
      "text/plain": [
       "array([[[[ 5.,  7.],\n",
       "         [ 6.,  8.]],\n",
       "\n",
       "        [[ 4.,  7.],\n",
       "         [ 5.,  9.]]]])"
      ]
     },
     "execution_count": 415,
     "metadata": {},
     "output_type": "execute_result"
    }
   ],
   "source": [
    "forward_mean(y2)"
   ]
  },
  {
   "cell_type": "code",
   "execution_count": 416,
   "metadata": {
    "collapsed": false
   },
   "outputs": [
    {
     "data": {
      "text/plain": [
       "(1, 2, 2, 2)"
      ]
     },
     "execution_count": 416,
     "metadata": {},
     "output_type": "execute_result"
    }
   ],
   "source": [
    "forward_mean(y2).shape"
   ]
  },
  {
   "cell_type": "markdown",
   "metadata": {},
   "source": [
    "##### backprop"
   ]
  },
  {
   "cell_type": "code",
   "execution_count": 417,
   "metadata": {
    "collapsed": true
   },
   "outputs": [],
   "source": [
    "def col2im(col, sy, sx, ph, pw, h, w):\n",
    "    n, c, kh, kw, out_h, out_w = col.shape\n",
    "\n",
    "    img = np.zeros((n, c, h + 2 * ph + sy - 1, w + 2 * pw + sx - 1), dtype=col.dtype)\n",
    "    for i in six.moves.range(kh):\n",
    "        i_lim = i + sy * out_h\n",
    "        for j in six.moves.range(kw):\n",
    "            j_lim = j + sx * out_w\n",
    "            img[:, :, i:i_lim:sy, j:j_lim:sx] += col[:, :, i, j, :, :]\n",
    "\n",
    "    return img[:, :, ph:h + ph, pw:w + pw]"
   ]
  },
  {
   "cell_type": "code",
   "execution_count": 389,
   "metadata": {
    "collapsed": true
   },
   "outputs": [],
   "source": [
    "def backward_max(x, gy):\n",
    "    n, c, out_h, out_w = gy.shape\n",
    "    h, w = x.shape[2:]\n",
    "    kh = 2\n",
    "    kw = 2\n",
    "    gcol = np.zeros((n, c, kh, kw, out_h, out_w), dtype=np.float32)\n",
    "\n",
    "    # TODO(beam2d): Make it fast\n",
    "    gcol_r = np.rollaxis(gcol.reshape(n, c, -1, out_h, out_w), 2)\n",
    "    for i in np.ndindex(n, c, out_h, out_w):\n",
    "        gcol_r[indexes[i]][i] = gy[i]\n",
    "\n",
    "    gx = col2im(gcol, sy, sx, ph, pw, h, w)\n",
    "    return gx\n",
    "\n",
    "def backward_mean(x, gy):\n",
    "#     n, c, out_h, out_w = gy.shape\n",
    "    h, w = x.shape[2:]\n",
    "    kh = 2\n",
    "    kw = 2\n",
    "\n",
    "    gcol = np.tile(gy[0][:,:,np.newaxis, np.newaxis], (1, 1, kh, kw, 1, 1))\n",
    "    gx = col2im(gcol, sy, sx, ph, pw, h, w)\n",
    "    gx /= (kh * kw)\n",
    "    return gx"
   ]
  },
  {
   "cell_type": "code",
   "execution_count": 384,
   "metadata": {
    "collapsed": true
   },
   "outputs": [],
   "source": [
    "epsilon = np.ones((1,2,2,2))"
   ]
  },
  {
   "cell_type": "code",
   "execution_count": 385,
   "metadata": {
    "collapsed": false
   },
   "outputs": [
    {
     "data": {
      "text/plain": [
       "array([ 1.,  1.,  1.,  1.,  1.,  1.,  1.,  1.])"
      ]
     },
     "execution_count": 385,
     "metadata": {},
     "output_type": "execute_result"
    }
   ],
   "source": [
    "epsilon.ravel()"
   ]
  },
  {
   "cell_type": "code",
   "execution_count": 386,
   "metadata": {
    "collapsed": false
   },
   "outputs": [
    {
     "data": {
      "text/plain": [
       "array([[[[ 4.,  4.,  4.,  4.],\n",
       "         [ 8.,  8.,  8.,  8.],\n",
       "         [ 4.,  4.,  4.,  4.],\n",
       "         [ 8.,  8.,  8.,  8.]],\n",
       "\n",
       "        [[ 4.,  4.,  4.,  4.],\n",
       "         [ 8.,  8.,  8.,  8.],\n",
       "         [ 4.,  4.,  4.,  4.],\n",
       "         [ 8.,  8.,  8.,  8.]]]])"
      ]
     },
     "execution_count": 386,
     "metadata": {},
     "output_type": "execute_result"
    }
   ],
   "source": [
    "y2"
   ]
  },
  {
   "cell_type": "code",
   "execution_count": 418,
   "metadata": {
    "collapsed": false
   },
   "outputs": [
    {
     "data": {
      "text/plain": [
       "array([[[[2, 1],\n",
       "         [3, 0]],\n",
       "\n",
       "        [[2, 1],\n",
       "         [0, 0]]]])"
      ]
     },
     "execution_count": 418,
     "metadata": {},
     "output_type": "execute_result"
    }
   ],
   "source": [
    "indexes"
   ]
  },
  {
   "cell_type": "code",
   "execution_count": 447,
   "metadata": {
    "collapsed": false
   },
   "outputs": [
    {
     "data": {
      "text/plain": [
       "array([[[[ 0.,  0.,  0.,  1.],\n",
       "         [ 1.,  0.,  0.,  0.],\n",
       "         [ 0.,  0.,  1.,  0.],\n",
       "         [ 0.,  1.,  0.,  0.]],\n",
       "\n",
       "        [[ 0.,  0.,  0.,  1.],\n",
       "         [ 1.,  0.,  0.,  0.],\n",
       "         [ 1.,  0.,  1.,  0.],\n",
       "         [ 0.,  0.,  0.,  0.]]]], dtype=float32)"
      ]
     },
     "execution_count": 447,
     "metadata": {},
     "output_type": "execute_result"
    }
   ],
   "source": [
    "backward_max(y2, epsilon)"
   ]
  },
  {
   "cell_type": "code",
   "execution_count": 448,
   "metadata": {
    "collapsed": false
   },
   "outputs": [
    {
     "data": {
      "text/plain": [
       "(1, 2, 4, 4)"
      ]
     },
     "execution_count": 448,
     "metadata": {},
     "output_type": "execute_result"
    }
   ],
   "source": [
    "backward_max(y2, epsilon).shape"
   ]
  },
  {
   "cell_type": "code",
   "execution_count": 449,
   "metadata": {
    "collapsed": false
   },
   "outputs": [],
   "source": [
    "n, c, out_h, out_w = epsilon.shape\n",
    "h, w = y2.shape[2:]\n",
    "kh = 2\n",
    "kw = 2\n",
    "\n",
    "gcol = np.zeros((n, c, kh, kw, out_h, out_w), dtype=np.float32)"
   ]
  },
  {
   "cell_type": "code",
   "execution_count": 450,
   "metadata": {
    "collapsed": false
   },
   "outputs": [
    {
     "data": {
      "text/plain": [
       "(1, 2, 2, 2, 2, 2)"
      ]
     },
     "execution_count": 450,
     "metadata": {},
     "output_type": "execute_result"
    }
   ],
   "source": [
    "gcol.shape"
   ]
  },
  {
   "cell_type": "code",
   "execution_count": 451,
   "metadata": {
    "collapsed": false
   },
   "outputs": [],
   "source": [
    "gcol_r = np.rollaxis(gcol.reshape(n, c, -1, out_h, out_w), 2)"
   ]
  },
  {
   "cell_type": "code",
   "execution_count": 452,
   "metadata": {
    "collapsed": false
   },
   "outputs": [
    {
     "data": {
      "text/plain": [
       "(4, 1, 2, 2, 2)"
      ]
     },
     "execution_count": 452,
     "metadata": {},
     "output_type": "execute_result"
    }
   ],
   "source": [
    "gcol_r.shape"
   ]
  },
  {
   "cell_type": "code",
   "execution_count": 458,
   "metadata": {
    "collapsed": false
   },
   "outputs": [
    {
     "data": {
      "text/plain": [
       "(1, 2, 4, 4)"
      ]
     },
     "execution_count": 458,
     "metadata": {},
     "output_type": "execute_result"
    }
   ],
   "source": [
    "gy.shape"
   ]
  },
  {
   "cell_type": "code",
   "execution_count": 459,
   "metadata": {
    "collapsed": false
   },
   "outputs": [],
   "source": [
    "n, c, out_h, out_w = epsilon.shape\n",
    "for i in np.ndindex(n, c, out_h, out_w):\n",
    "    gcol_r[indexes[i]][i] = epsilon[i]"
   ]
  },
  {
   "cell_type": "code",
   "execution_count": 460,
   "metadata": {
    "collapsed": false
   },
   "outputs": [
    {
     "data": {
      "text/plain": [
       "(4, 1, 2, 2, 2)"
      ]
     },
     "execution_count": 460,
     "metadata": {},
     "output_type": "execute_result"
    }
   ],
   "source": [
    "gcol_r.shape"
   ]
  },
  {
   "cell_type": "code",
   "execution_count": 462,
   "metadata": {
    "collapsed": false
   },
   "outputs": [
    {
     "data": {
      "text/plain": [
       "array([[[[[ 0.,  0.],\n",
       "          [ 0.,  1.]],\n",
       "\n",
       "         [[ 0.,  0.],\n",
       "          [ 1.,  1.]]]],\n",
       "\n",
       "\n",
       "\n",
       "       [[[[ 0.,  1.],\n",
       "          [ 0.,  0.]],\n",
       "\n",
       "         [[ 0.,  1.],\n",
       "          [ 0.,  0.]]]],\n",
       "\n",
       "\n",
       "\n",
       "       [[[[ 1.,  0.],\n",
       "          [ 0.,  0.]],\n",
       "\n",
       "         [[ 1.,  0.],\n",
       "          [ 0.,  0.]]]],\n",
       "\n",
       "\n",
       "\n",
       "       [[[[ 0.,  0.],\n",
       "          [ 1.,  0.]],\n",
       "\n",
       "         [[ 0.,  0.],\n",
       "          [ 0.,  0.]]]]], dtype=float32)"
      ]
     },
     "execution_count": 462,
     "metadata": {},
     "output_type": "execute_result"
    }
   ],
   "source": [
    "gcol_r"
   ]
  },
  {
   "cell_type": "code",
   "execution_count": 428,
   "metadata": {
    "collapsed": false
   },
   "outputs": [],
   "source": [
    "epsilon2=np.array([[[[ 1.,  2.],\n",
    "                     [ 3.,  4.]],\n",
    "\n",
    "                    [[ 5.,  6.],\n",
    "                     [ 7.,  8.]]]])"
   ]
  },
  {
   "cell_type": "code",
   "execution_count": 719,
   "metadata": {
    "collapsed": false
   },
   "outputs": [
    {
     "data": {
      "text/plain": [
       "(4, 1, 2, 2, 2)"
      ]
     },
     "execution_count": 719,
     "metadata": {},
     "output_type": "execute_result"
    }
   ],
   "source": [
    "gcol_r.shape"
   ]
  },
  {
   "cell_type": "code",
   "execution_count": 755,
   "metadata": {
    "collapsed": false
   },
   "outputs": [
    {
     "data": {
      "text/plain": [
       "2"
      ]
     },
     "execution_count": 755,
     "metadata": {},
     "output_type": "execute_result"
    }
   ],
   "source": [
    "out_w"
   ]
  },
  {
   "cell_type": "code",
   "execution_count": 446,
   "metadata": {
    "collapsed": false
   },
   "outputs": [
    {
     "name": "stdout",
     "output_type": "stream",
     "text": [
      "[ 1.  1.]\n"
     ]
    },
    {
     "ename": "IndexError",
     "evalue": "too many indices for array",
     "output_type": "error",
     "traceback": [
      "\u001b[0;31m---------------------------------------------------------------------------\u001b[0m",
      "\u001b[0;31mIndexError\u001b[0m                                Traceback (most recent call last)",
      "\u001b[0;32m<ipython-input-446-535e413f5ffa>\u001b[0m in \u001b[0;36m<module>\u001b[0;34m()\u001b[0m\n\u001b[1;32m      1\u001b[0m \u001b[0;32mfor\u001b[0m \u001b[0mi\u001b[0m \u001b[0;32min\u001b[0m \u001b[0mnp\u001b[0m\u001b[0;34m.\u001b[0m\u001b[0mndindex\u001b[0m\u001b[0;34m(\u001b[0m\u001b[0mn\u001b[0m\u001b[0;34m,\u001b[0m \u001b[0mc\u001b[0m\u001b[0;34m,\u001b[0m \u001b[0mout_h\u001b[0m\u001b[0;34m,\u001b[0m \u001b[0mout_w\u001b[0m\u001b[0;34m)\u001b[0m\u001b[0;34m:\u001b[0m\u001b[0;34m\u001b[0m\u001b[0m\n\u001b[1;32m      2\u001b[0m     \u001b[0;32mprint\u001b[0m \u001b[0mgcol_r\u001b[0m\u001b[0;34m[\u001b[0m\u001b[0mi\u001b[0m\u001b[0;34m]\u001b[0m\u001b[0;34m\u001b[0m\u001b[0m\n\u001b[0;32m----> 3\u001b[0;31m     \u001b[0mgcol_r\u001b[0m\u001b[0;34m[\u001b[0m\u001b[0mi\u001b[0m\u001b[0;34m]\u001b[0m\u001b[0;34m[\u001b[0m\u001b[0mi\u001b[0m\u001b[0;34m]\u001b[0m \u001b[0;34m=\u001b[0m \u001b[0mepsilon2\u001b[0m\u001b[0;34m[\u001b[0m\u001b[0mi\u001b[0m\u001b[0;34m]\u001b[0m\u001b[0;34m\u001b[0m\u001b[0m\n\u001b[0m\u001b[1;32m      4\u001b[0m     \u001b[0;32mprint\u001b[0m \u001b[0mgcol_r\u001b[0m\u001b[0;34m[\u001b[0m\u001b[0mi\u001b[0m\u001b[0;34m]\u001b[0m\u001b[0;34m\u001b[0m\u001b[0m\n\u001b[1;32m      5\u001b[0m     \u001b[0;32mprint\u001b[0m \u001b[0mepsilon2\u001b[0m\u001b[0;34m[\u001b[0m\u001b[0mi\u001b[0m\u001b[0;34m]\u001b[0m\u001b[0;34m\u001b[0m\u001b[0m\n",
      "\u001b[0;31mIndexError\u001b[0m: too many indices for array"
     ]
    }
   ],
   "source": [
    "for i in np.ndindex(n, c, out_h, out_w):\n",
    "    print gcol_r[i]\n",
    "    gcol_r[i][i] = epsilon2[i]\n",
    "    print gcol_r[i]\n",
    "    print epsilon2[i]\n",
    "    print i"
   ]
  },
  {
   "cell_type": "code",
   "execution_count": 751,
   "metadata": {
    "collapsed": false
   },
   "outputs": [
    {
     "data": {
      "text/plain": [
       "array([[[[[ 4.,  4.],\n",
       "          [ 4.,  4.]],\n",
       "\n",
       "         [[ 4.,  4.],\n",
       "          [ 4.,  4.]]]],\n",
       "\n",
       "\n",
       "\n",
       "       [[[[ 4.,  4.],\n",
       "          [ 4.,  4.]],\n",
       "\n",
       "         [[ 4.,  4.],\n",
       "          [ 4.,  4.]]]],\n",
       "\n",
       "\n",
       "\n",
       "       [[[[ 0.,  0.],\n",
       "          [ 0.,  0.]],\n",
       "\n",
       "         [[ 0.,  0.],\n",
       "          [ 0.,  0.]]]],\n",
       "\n",
       "\n",
       "\n",
       "       [[[[ 0.,  0.],\n",
       "          [ 0.,  0.]],\n",
       "\n",
       "         [[ 0.,  0.],\n",
       "          [ 0.,  0.]]]]], dtype=float32)"
      ]
     },
     "execution_count": 751,
     "metadata": {},
     "output_type": "execute_result"
    }
   ],
   "source": [
    "gcol_r"
   ]
  },
  {
   "cell_type": "code",
   "execution_count": 749,
   "metadata": {
    "collapsed": false
   },
   "outputs": [
    {
     "data": {
      "text/plain": [
       "array([ 1.,  1.], dtype=float32)"
      ]
     },
     "execution_count": 749,
     "metadata": {},
     "output_type": "execute_result"
    }
   ],
   "source": [
    "gcol_r[i]"
   ]
  },
  {
   "cell_type": "code",
   "execution_count": 739,
   "metadata": {
    "collapsed": false
   },
   "outputs": [
    {
     "data": {
      "text/plain": [
       "(4, 1, 2, 2, 2)"
      ]
     },
     "execution_count": 739,
     "metadata": {},
     "output_type": "execute_result"
    }
   ],
   "source": [
    "gcol_r.shape"
   ]
  },
  {
   "cell_type": "code",
   "execution_count": 729,
   "metadata": {
    "collapsed": false
   },
   "outputs": [
    {
     "data": {
      "text/plain": [
       "(4, 1, 2, 2, 2)"
      ]
     },
     "execution_count": 729,
     "metadata": {},
     "output_type": "execute_result"
    }
   ],
   "source": [
    "gcol_r.shape"
   ]
  },
  {
   "cell_type": "code",
   "execution_count": 743,
   "metadata": {
    "collapsed": false
   },
   "outputs": [
    {
     "data": {
      "text/plain": [
       "array([[[[[ 1.,  1.],\n",
       "          [ 2.,  2.]],\n",
       "\n",
       "         [[ 3.,  3.],\n",
       "          [ 4.,  4.]]]],\n",
       "\n",
       "\n",
       "\n",
       "       [[[[ 0.,  0.],\n",
       "          [ 0.,  0.]],\n",
       "\n",
       "         [[ 0.,  0.],\n",
       "          [ 0.,  0.]]]],\n",
       "\n",
       "\n",
       "\n",
       "       [[[[ 0.,  0.],\n",
       "          [ 0.,  0.]],\n",
       "\n",
       "         [[ 0.,  0.],\n",
       "          [ 0.,  0.]]]],\n",
       "\n",
       "\n",
       "\n",
       "       [[[[ 0.,  0.],\n",
       "          [ 0.,  0.]],\n",
       "\n",
       "         [[ 0.,  0.],\n",
       "          [ 0.,  0.]]]]], dtype=float32)"
      ]
     },
     "execution_count": 743,
     "metadata": {},
     "output_type": "execute_result"
    }
   ],
   "source": [
    "gcol_r"
   ]
  },
  {
   "cell_type": "code",
   "execution_count": 731,
   "metadata": {
    "collapsed": false
   },
   "outputs": [
    {
     "data": {
      "text/plain": [
       "(1, 2, 2, 2)"
      ]
     },
     "execution_count": 731,
     "metadata": {},
     "output_type": "execute_result"
    }
   ],
   "source": [
    "indexes.shape"
   ]
  },
  {
   "cell_type": "code",
   "execution_count": 15,
   "metadata": {
    "collapsed": false
   },
   "outputs": [
    {
     "data": {
      "text/plain": [
       "(1, 2, 2, 2)"
      ]
     },
     "execution_count": 15,
     "metadata": {},
     "output_type": "execute_result"
    }
   ],
   "source": [
    "epsilon2.shape"
   ]
  },
  {
   "cell_type": "code",
   "execution_count": 20,
   "metadata": {
    "collapsed": false
   },
   "outputs": [
    {
     "data": {
      "text/plain": [
       "(2, 2, 2)"
      ]
     },
     "execution_count": 20,
     "metadata": {},
     "output_type": "execute_result"
    }
   ],
   "source": [
    "epsilon2[0].shape"
   ]
  },
  {
   "cell_type": "code",
   "execution_count": 429,
   "metadata": {
    "collapsed": false
   },
   "outputs": [
    {
     "data": {
      "text/plain": [
       "array([[[[[[ 1.,  2.],\n",
       "           [ 3.,  4.]]]],\n",
       "\n",
       "\n",
       "\n",
       "        [[[[ 5.,  6.],\n",
       "           [ 7.,  8.]]]]]])"
      ]
     },
     "execution_count": 429,
     "metadata": {},
     "output_type": "execute_result"
    }
   ],
   "source": [
    "epsilon2[:,:,np.newaxis, np.newaxis]"
   ]
  },
  {
   "cell_type": "code",
   "execution_count": 430,
   "metadata": {
    "collapsed": false
   },
   "outputs": [],
   "source": [
    "v = epsilon2[0][:,:,np.newaxis, np.newaxis]"
   ]
  },
  {
   "cell_type": "code",
   "execution_count": 431,
   "metadata": {
    "collapsed": false
   },
   "outputs": [
    {
     "data": {
      "text/plain": [
       "(2, 2, 1, 1, 2)"
      ]
     },
     "execution_count": 431,
     "metadata": {},
     "output_type": "execute_result"
    }
   ],
   "source": [
    "v.shape"
   ]
  },
  {
   "cell_type": "code",
   "execution_count": 432,
   "metadata": {
    "collapsed": false
   },
   "outputs": [
    {
     "data": {
      "text/plain": [
       "array([[[[[ 1.,  2.]]],\n",
       "\n",
       "\n",
       "        [[[ 3.,  4.]]]],\n",
       "\n",
       "\n",
       "\n",
       "       [[[[ 5.,  6.]]],\n",
       "\n",
       "\n",
       "        [[[ 7.,  8.]]]]])"
      ]
     },
     "execution_count": 432,
     "metadata": {},
     "output_type": "execute_result"
    }
   ],
   "source": [
    "v"
   ]
  },
  {
   "cell_type": "code",
   "execution_count": 773,
   "metadata": {
    "collapsed": false
   },
   "outputs": [
    {
     "data": {
      "text/plain": [
       "array([[[[[[ 1.,  2.]],\n",
       "\n",
       "          [[ 1.,  2.]]],\n",
       "\n",
       "\n",
       "         [[[ 3.,  4.]],\n",
       "\n",
       "          [[ 3.,  4.]]],\n",
       "\n",
       "\n",
       "         [[[ 1.,  2.]],\n",
       "\n",
       "          [[ 1.,  2.]]],\n",
       "\n",
       "\n",
       "         [[[ 3.,  4.]],\n",
       "\n",
       "          [[ 3.,  4.]]]],\n",
       "\n",
       "\n",
       "\n",
       "        [[[[ 5.,  6.]],\n",
       "\n",
       "          [[ 5.,  6.]]],\n",
       "\n",
       "\n",
       "         [[[ 7.,  8.]],\n",
       "\n",
       "          [[ 7.,  8.]]],\n",
       "\n",
       "\n",
       "         [[[ 5.,  6.]],\n",
       "\n",
       "          [[ 5.,  6.]]],\n",
       "\n",
       "\n",
       "         [[[ 7.,  8.]],\n",
       "\n",
       "          [[ 7.,  8.]]]]]])"
      ]
     },
     "execution_count": 773,
     "metadata": {},
     "output_type": "execute_result"
    }
   ],
   "source": [
    "np.tile(epsilon2[0][:,:,np.newaxis, np.newaxis], (1,1,kh,kw,1,1))"
   ]
  },
  {
   "cell_type": "code",
   "execution_count": 433,
   "metadata": {
    "collapsed": false
   },
   "outputs": [
    {
     "data": {
      "text/plain": [
       "(1, 2, 4, 2, 1, 2)"
      ]
     },
     "execution_count": 433,
     "metadata": {},
     "output_type": "execute_result"
    }
   ],
   "source": [
    "np.tile(epsilon2[0][:,:,np.newaxis, np.newaxis], (1,1,kh,kw,1,1)).shape"
   ]
  },
  {
   "cell_type": "code",
   "execution_count": 442,
   "metadata": {
    "collapsed": false
   },
   "outputs": [
    {
     "data": {
      "text/plain": [
       "array([[[[ 0.25,  0.25,  0.5 ,  0.5 ],\n",
       "         [ 0.75,  0.75,  1.  ,  1.  ],\n",
       "         [ 0.25,  0.25,  0.5 ,  0.5 ],\n",
       "         [ 0.75,  0.75,  1.  ,  1.  ]],\n",
       "\n",
       "        [[ 1.25,  1.25,  1.5 ,  1.5 ],\n",
       "         [ 1.75,  1.75,  2.  ,  2.  ],\n",
       "         [ 1.25,  1.25,  1.5 ,  1.5 ],\n",
       "         [ 1.75,  1.75,  2.  ,  2.  ]]]])"
      ]
     },
     "execution_count": 442,
     "metadata": {},
     "output_type": "execute_result"
    }
   ],
   "source": [
    "# AVG - Reshape\n",
    "(col2im(np.tile(epsilon2[0][:,:,np.newaxis, np.newaxis], (1,1,kh,kw,1,1)), sy, sx, ph, pw, h, w)/4)"
   ]
  },
  {
   "cell_type": "code",
   "execution_count": 463,
   "metadata": {
    "collapsed": false
   },
   "outputs": [
    {
     "data": {
      "text/plain": [
       "(1, 2, 4, 4)"
      ]
     },
     "execution_count": 463,
     "metadata": {},
     "output_type": "execute_result"
    }
   ],
   "source": [
    "(col2im(np.tile(epsilon2[0][:,:,np.newaxis, np.newaxis], (1,1,kh,kw,1,1)), sy, sx, ph, pw, h, w)/4).shape"
   ]
  },
  {
   "cell_type": "code",
   "execution_count": 787,
   "metadata": {
    "collapsed": false
   },
   "outputs": [
    {
     "data": {
      "text/plain": [
       "(1, 2, 4, 2, 1, 2)"
      ]
     },
     "execution_count": 787,
     "metadata": {},
     "output_type": "execute_result"
    }
   ],
   "source": [
    "# missing col2im for shaping\n",
    "((np.tile(epsilon2[0][:,:,np.newaxis, np.newaxis], (1,1,kh,kw,1,1)))/(kh*kw)).shape"
   ]
  },
  {
   "cell_type": "code",
   "execution_count": 778,
   "metadata": {
    "collapsed": false
   },
   "outputs": [
    {
     "data": {
      "text/plain": [
       "(2, 2, 1, 1, 2)"
      ]
     },
     "execution_count": 778,
     "metadata": {},
     "output_type": "execute_result"
    }
   ],
   "source": [
    "epsilon2[0][:,:,np.newaxis, np.newaxis].shape"
   ]
  },
  {
   "cell_type": "code",
   "execution_count": 779,
   "metadata": {
    "collapsed": false
   },
   "outputs": [
    {
     "data": {
      "text/plain": [
       "(1, 2, 1, 1, 2, 2)"
      ]
     },
     "execution_count": 779,
     "metadata": {},
     "output_type": "execute_result"
    }
   ],
   "source": [
    "epsilon2[:,:,np.newaxis, np.newaxis].shape"
   ]
  },
  {
   "cell_type": "code",
   "execution_count": 780,
   "metadata": {
    "collapsed": false
   },
   "outputs": [
    {
     "data": {
      "text/plain": [
       "(1, 2, 2, 2)"
      ]
     },
     "execution_count": 780,
     "metadata": {},
     "output_type": "execute_result"
    }
   ],
   "source": [
    "epsilon2.shape"
   ]
  },
  {
   "cell_type": "code",
   "execution_count": 32,
   "metadata": {
    "collapsed": false
   },
   "outputs": [
    {
     "data": {
      "text/plain": [
       "(1, 2, 4, 4)"
      ]
     },
     "execution_count": 32,
     "metadata": {},
     "output_type": "execute_result"
    }
   ],
   "source": [
    "backward_mean(y2,epsilon2).shape"
   ]
  },
  {
   "cell_type": "code",
   "execution_count": 789,
   "metadata": {
    "collapsed": false
   },
   "outputs": [
    {
     "data": {
      "text/plain": [
       "array([ 1.,  2.,  3.,  4.,  5.,  6.,  7.,  8.])"
      ]
     },
     "execution_count": 789,
     "metadata": {},
     "output_type": "execute_result"
    }
   ],
   "source": [
    "epsilon2.ravel()"
   ]
  },
  {
   "cell_type": "code",
   "execution_count": 792,
   "metadata": {
    "collapsed": false
   },
   "outputs": [
    {
     "data": {
      "text/plain": [
       "(2, 1, 2, 2)"
      ]
     },
     "execution_count": 792,
     "metadata": {},
     "output_type": "execute_result"
    }
   ],
   "source": [
    "W.shape"
   ]
  },
  {
   "cell_type": "code",
   "execution_count": 795,
   "metadata": {
    "collapsed": false
   },
   "outputs": [
    {
     "data": {
      "text/plain": [
       "(1, 1, 4, 4)"
      ]
     },
     "execution_count": 795,
     "metadata": {},
     "output_type": "execute_result"
    }
   ],
   "source": [
    "backward_mean(y2,W).shape"
   ]
  },
  {
   "cell_type": "code",
   "execution_count": 794,
   "metadata": {
    "collapsed": false
   },
   "outputs": [
    {
     "data": {
      "text/plain": [
       "(1, 2, 4, 4)"
      ]
     },
     "execution_count": 794,
     "metadata": {},
     "output_type": "execute_result"
    }
   ],
   "source": [
    "y2.shape"
   ]
  },
  {
   "cell_type": "code",
   "execution_count": 796,
   "metadata": {
    "collapsed": false
   },
   "outputs": [
    {
     "ename": "IndexError",
     "evalue": "index 1 is out of bounds for axis 0 with size 1",
     "output_type": "error",
     "traceback": [
      "\u001b[0;31m---------------------------------------------------------------------------\u001b[0m",
      "\u001b[0;31mIndexError\u001b[0m                                Traceback (most recent call last)",
      "\u001b[0;32m<ipython-input-796-8a9756f0638d>\u001b[0m in \u001b[0;36m<module>\u001b[0;34m()\u001b[0m\n\u001b[0;32m----> 1\u001b[0;31m \u001b[0mbackward_max\u001b[0m\u001b[0;34m(\u001b[0m\u001b[0my2\u001b[0m\u001b[0;34m,\u001b[0m\u001b[0mW\u001b[0m\u001b[0;34m)\u001b[0m\u001b[0;34m.\u001b[0m\u001b[0mshape\u001b[0m\u001b[0;34m\u001b[0m\u001b[0m\n\u001b[0m",
      "\u001b[0;32m<ipython-input-783-15df5c92a104>\u001b[0m in \u001b[0;36mbackward_max\u001b[0;34m(x, gy)\u001b[0m\n\u001b[1;32m      9\u001b[0m     \u001b[0mgcol_r\u001b[0m \u001b[0;34m=\u001b[0m \u001b[0mnp\u001b[0m\u001b[0;34m.\u001b[0m\u001b[0mrollaxis\u001b[0m\u001b[0;34m(\u001b[0m\u001b[0mgcol\u001b[0m\u001b[0;34m.\u001b[0m\u001b[0mreshape\u001b[0m\u001b[0;34m(\u001b[0m\u001b[0mn\u001b[0m\u001b[0;34m,\u001b[0m \u001b[0mc\u001b[0m\u001b[0;34m,\u001b[0m \u001b[0;34m-\u001b[0m\u001b[0;36m1\u001b[0m\u001b[0;34m,\u001b[0m \u001b[0mout_h\u001b[0m\u001b[0;34m,\u001b[0m \u001b[0mout_w\u001b[0m\u001b[0;34m)\u001b[0m\u001b[0;34m,\u001b[0m \u001b[0;36m2\u001b[0m\u001b[0;34m)\u001b[0m\u001b[0;34m\u001b[0m\u001b[0m\n\u001b[1;32m     10\u001b[0m     \u001b[0;32mfor\u001b[0m \u001b[0mi\u001b[0m \u001b[0;32min\u001b[0m \u001b[0mnp\u001b[0m\u001b[0;34m.\u001b[0m\u001b[0mndindex\u001b[0m\u001b[0;34m(\u001b[0m\u001b[0mn\u001b[0m\u001b[0;34m,\u001b[0m \u001b[0mc\u001b[0m\u001b[0;34m,\u001b[0m \u001b[0mout_h\u001b[0m\u001b[0;34m,\u001b[0m \u001b[0mout_w\u001b[0m\u001b[0;34m)\u001b[0m\u001b[0;34m:\u001b[0m\u001b[0;34m\u001b[0m\u001b[0m\n\u001b[0;32m---> 11\u001b[0;31m         \u001b[0mgcol_r\u001b[0m\u001b[0;34m[\u001b[0m\u001b[0mindexes\u001b[0m\u001b[0;34m[\u001b[0m\u001b[0mi\u001b[0m\u001b[0;34m]\u001b[0m\u001b[0;34m]\u001b[0m\u001b[0;34m[\u001b[0m\u001b[0mi\u001b[0m\u001b[0;34m]\u001b[0m \u001b[0;34m=\u001b[0m \u001b[0mgy\u001b[0m\u001b[0;34m[\u001b[0m\u001b[0mi\u001b[0m\u001b[0;34m]\u001b[0m\u001b[0;34m\u001b[0m\u001b[0m\n\u001b[0m\u001b[1;32m     12\u001b[0m \u001b[0;34m\u001b[0m\u001b[0m\n\u001b[1;32m     13\u001b[0m     \u001b[0mgx\u001b[0m \u001b[0;34m=\u001b[0m \u001b[0mcol2im\u001b[0m\u001b[0;34m(\u001b[0m\u001b[0mgcol\u001b[0m\u001b[0;34m,\u001b[0m \u001b[0msy\u001b[0m\u001b[0;34m,\u001b[0m \u001b[0msx\u001b[0m\u001b[0;34m,\u001b[0m \u001b[0mph\u001b[0m\u001b[0;34m,\u001b[0m \u001b[0mpw\u001b[0m\u001b[0;34m,\u001b[0m \u001b[0mh\u001b[0m\u001b[0;34m,\u001b[0m \u001b[0mw\u001b[0m\u001b[0;34m)\u001b[0m\u001b[0;34m\u001b[0m\u001b[0m\n",
      "\u001b[0;31mIndexError\u001b[0m: index 1 is out of bounds for axis 0 with size 1"
     ]
    }
   ],
   "source": [
    "backward_max(y2,W).shape"
   ]
  },
  {
   "cell_type": "code",
   "execution_count": 40,
   "metadata": {
    "collapsed": false
   },
   "outputs": [],
   "source": [
    "tmp = np.array(\n",
    "        [[[[3.00,3.00],\n",
    "         [3.00,3.00],\n",
    "         [3.00,3.00],\n",
    "         [3.00,3.00]],\n",
    "          [[7.00,7.00],\n",
    "         [7.00,7.00],\n",
    "         [7.00,7.00],\n",
    "         [7.00,7.00]],\n",
    "          [[3.00,3.00],\n",
    "         [3.00,3.00],\n",
    "         [3.00,3.00],\n",
    "         [3.00,3.00]],\n",
    "          [[7.00,7.00],\n",
    "         [7.00,7.00],\n",
    "         [7.00,7.00],\n",
    "         [7.00,7.00]]]])"
   ]
  },
  {
   "cell_type": "code",
   "execution_count": 41,
   "metadata": {
    "collapsed": false
   },
   "outputs": [
    {
     "data": {
      "text/plain": [
       "(1, 4, 4, 2)"
      ]
     },
     "execution_count": 41,
     "metadata": {},
     "output_type": "execute_result"
    }
   ],
   "source": [
    "tmp.shape"
   ]
  },
  {
   "cell_type": "code",
   "execution_count": 42,
   "metadata": {
    "collapsed": true
   },
   "outputs": [],
   "source": [
    "tmp2 = np.array([[[[3.00,3.00],\n",
    " [3.00,3.00],\n",
    " [3.00,3.00],\n",
    " [3.00,3.00]],\n",
    "  [[7.00,7.00],\n",
    " [7.00,7.00],\n",
    " [7.00,7.00],\n",
    " [7.00,7.00]],\n",
    "  [[3.00,3.00],\n",
    " [3.00,3.00],\n",
    " [3.00,3.00],\n",
    " [3.00,3.00]],\n",
    "  [[7.00,7.00],\n",
    " [7.00,7.00],\n",
    " [7.00,7.00],\n",
    " [7.00,7.00]]]])"
   ]
  },
  {
   "cell_type": "code",
   "execution_count": 43,
   "metadata": {
    "collapsed": false
   },
   "outputs": [
    {
     "data": {
      "text/plain": [
       "(1, 4, 4, 2)"
      ]
     },
     "execution_count": 43,
     "metadata": {},
     "output_type": "execute_result"
    }
   ],
   "source": [
    "tmp2.shape"
   ]
  },
  {
   "cell_type": "code",
   "execution_count": null,
   "metadata": {
    "collapsed": true
   },
   "outputs": [],
   "source": []
  }
 ],
 "metadata": {
  "kernelspec": {
   "display_name": "Python 2",
   "language": "python",
   "name": "python2"
  },
  "language_info": {
   "codemirror_mode": {
    "name": "ipython",
    "version": 2
   },
   "file_extension": ".py",
   "mimetype": "text/x-python",
   "name": "python",
   "nbconvert_exporter": "python",
   "pygments_lexer": "ipython2",
   "version": "2.7.10"
  }
 },
 "nbformat": 4,
 "nbformat_minor": 0
}
